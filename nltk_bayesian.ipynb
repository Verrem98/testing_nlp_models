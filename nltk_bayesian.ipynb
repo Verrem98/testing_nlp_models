{
 "cells": [
  {
   "cell_type": "code",
   "execution_count": 50,
   "metadata": {},
   "outputs": [
    {
     "name": "stderr",
     "output_type": "stream",
     "text": [
      "[nltk_data] Downloading package nps_chat to\n",
      "[nltk_data]     C:\\Users\\Emiel\\AppData\\Roaming\\nltk_data...\n",
      "[nltk_data]   Package nps_chat is already up-to-date!\n",
      "[nltk_data] Downloading package punkt to\n",
      "[nltk_data]     C:\\Users\\Emiel\\AppData\\Roaming\\nltk_data...\n",
      "[nltk_data]   Package punkt is already up-to-date!\n",
      "[nltk_data] Downloading package wordnet to\n",
      "[nltk_data]     C:\\Users\\Emiel\\AppData\\Roaming\\nltk_data...\n",
      "[nltk_data]   Package wordnet is already up-to-date!\n",
      "[nltk_data] Downloading package omw-1.4 to\n",
      "[nltk_data]     C:\\Users\\Emiel\\AppData\\Roaming\\nltk_data...\n",
      "[nltk_data]   Package omw-1.4 is already up-to-date!\n"
     ]
    }
   ],
   "source": [
    "import nltk\n",
    "nltk.download('nps_chat')\n",
    "nltk.download('punkt')\n",
    "nltk.download('wordnet')\n",
    "nltk.download('omw-1.4')\n",
    "import tensorflow_hub as hub\n",
    "import tensorflow_text as text\n",
    "from sklearn.model_selection import train_test_split\n",
    "import tensorflow as tf\n",
    "from tensorflow import keras\n",
    "import tensorflow_addons as tfa\n",
    "from sklearn.metrics import accuracy_score\n",
    "import torch\n",
    "import pandas as pd\n",
    "from datetime import datetime\n",
    "import torchvision\n",
    "from torch.utils.tensorboard import SummaryWriter\n",
    "from transformers import RobertaTokenizerFast,RobertaTokenizer, RobertaForSequenceClassification,RobertaForMaskedLM, TextClassificationPipeline,TFRobertaModel\n",
    "import numpy as np\n",
    "import datasets\n",
    "import re"
   ]
  },
  {
   "cell_type": "code",
   "execution_count": 55,
   "metadata": {},
   "outputs": [
    {
     "name": "stderr",
     "output_type": "stream",
     "text": [
      "Reusing dataset dutch_social (C:\\Users\\Emiel\\.cache\\huggingface\\datasets\\dutch_social\\dutch_social\\1.1.0\\4ec8e931ab57f4a4483ad4b418676a45a7f6fec1cf6506da7d99c97259f7e02f)\n"
     ]
    },
    {
     "data": {
      "application/vnd.jupyter.widget-view+json": {
       "model_id": "cd45b9dbdffa4c3689f3cefe68c126b9",
       "version_major": 2,
       "version_minor": 0
      },
      "text/plain": [
       "  0%|          | 0/2 [00:00<?, ?it/s]"
      ]
     },
     "metadata": {},
     "output_type": "display_data"
    }
   ],
   "source": [
    "train_data, test_data = datasets.load_dataset('dutch_social', split =['train', 'test'])"
   ]
  },
  {
   "cell_type": "code",
   "execution_count": 56,
   "metadata": {},
   "outputs": [],
   "source": [
    "train_data = train_data.shuffle()\n",
    "#.select(range(5000))"
   ]
  },
  {
   "cell_type": "code",
   "execution_count": 57,
   "metadata": {},
   "outputs": [],
   "source": [
    "def remove_link(text):\n",
    "    return re.sub(r'https?:\\/\\/\\S*', '', text, flags=re.MULTILINE)\n",
    "\n",
    "def remove_username(text):\n",
    "    return re.sub('@[\\w]+','',text)\n",
    "\n",
    "def remove_retweet(text):\n",
    "    \n",
    "    return text.replace(\"RT : \", \"\")\n",
    "\n",
    "def augment_text(text):\n",
    "    \n",
    "   return remove_retweet(remove_username(remove_link(text)))"
   ]
  },
  {
   "cell_type": "code",
   "execution_count": 58,
   "metadata": {},
   "outputs": [
    {
     "data": {
      "text/plain": [
       "Dataset({\n",
       "    features: ['full_text', 'text_translation', 'screen_name', 'description', 'desc_translation', 'location', 'weekofyear', 'weekday', 'month', 'year', 'day', 'point_info', 'point', 'latitude', 'longitude', 'altitude', 'province', 'hisco_standard', 'hisco_code', 'industry', 'sentiment_pattern', 'subjective_pattern', 'label'],\n",
       "    num_rows: 162805\n",
       "})"
      ]
     },
     "execution_count": 58,
     "metadata": {},
     "output_type": "execute_result"
    }
   ],
   "source": [
    "train_data"
   ]
  },
  {
   "cell_type": "code",
   "execution_count": 59,
   "metadata": {},
   "outputs": [],
   "source": [
    "posts = nltk.corpus.nps_chat.xml_posts()\n",
    "X_train = [augment_text(x) for x in train_data['full_text']]\n",
    "y_train  = train_data['label']\n",
    "\n",
    "X_test = [augment_text(x) for x in test_data['full_text']]\n",
    "y_test  = test_data['label']"
   ]
  },
  {
   "cell_type": "code",
   "execution_count": 60,
   "metadata": {},
   "outputs": [
    {
     "name": "stdout",
     "output_type": "stream",
     "text": [
      "0.5925960050121618\n"
     ]
    }
   ],
   "source": [
    "def dialogue_act_features(post):\n",
    "    features = {}\n",
    "    for word in nltk.word_tokenize(post):\n",
    "        features['contains({})'.format(word.lower())] = True\n",
    "    return features\n",
    "\n",
    "\n",
    "featuresets = [(dialogue_act_features(post.text), target) for post, target in list(zip(posts,y))]\n",
    "size = int(len(featuresets) * 0.1)\n",
    "train_set, test_set = featuresets[size:], featuresets[:size]\n",
    "classifier = nltk.NaiveBayesClassifier.train((list(zip([dialogue_act_features(x) for x in X_train],y_train))))\n",
    "print(nltk.classify.accuracy(classifier, (list(zip([dialogue_act_features(x) for x in X_test],y_test)))))"
   ]
  },
  {
   "cell_type": "code",
   "execution_count": 61,
   "metadata": {},
   "outputs": [
    {
     "name": "stdout",
     "output_type": "stream",
     "text": [
      "Most Informative Features\n",
      "           contains(top) = True                2 : 0      =    154.7 : 1.0\n",
      "   contains(succesvolle) = True                2 : 1      =    118.6 : 1.0\n",
      "       contains(strenge) = True                0 : 2      =    118.1 : 1.0\n",
      "  contains(middelvinger) = True                0 : 2      =    114.7 : 1.0\n",
      "             contains(😂) = True                2 : 0      =    113.4 : 1.0\n",
      "          contains(bus…) = True                2 : 1      =    105.3 : 1.0\n",
      "    contains(gelijkheid) = True                0 : 1      =    101.7 : 1.0\n",
      "      contains(dankbaar) = True                2 : 1      =     99.4 : 1.0\n",
      "     contains(nachtrust) = True                2 : 1      =     98.0 : 1.0\n",
      "        contains(aanta…) = True                0 : 1      =     97.7 : 1.0\n",
      "             contains(😡) = True                0 : 1      =     97.0 : 1.0\n",
      "          contains(kben) = True                0 : 1      =     95.2 : 1.0\n",
      "     contains(walgelijk) = True                0 : 1      =     94.2 : 1.0\n",
      "           contains(ivb) = True                0 : 1      =     92.8 : 1.0\n",
      "       contains(epstein) = True                0 : 2      =     92.3 : 1.0\n",
      "             contains(😢) = True                0 : 1      =     90.6 : 1.0\n",
      " contains(gerenommeerde) = True                2 : 1      =     80.3 : 1.0\n",
      "      contains(belazerd) = True                0 : 1      =     77.9 : 1.0\n",
      "         contains(grove) = True                0 : 2      =     76.7 : 1.0\n",
      "             contains(😭) = True                0 : 2      =     72.2 : 1.0\n",
      "          contains(bari) = True                2 : 1      =     70.0 : 1.0\n",
      "  contains(onmenselijke) = True                0 : 1      =     65.5 : 1.0\n",
      "      contains(illegaal) = True                0 : 2      =     64.4 : 1.0\n",
      "        contains(smerig) = True                0 : 1      =     60.6 : 1.0\n",
      "     contains(chronisch) = True                0 : 2      =     59.9 : 1.0\n",
      "contains(verschrikkelijke) = True                0 : 1      =     58.6 : 1.0\n",
      "    contains(nepbericht) = True                0 : 1      =     58.1 : 1.0\n",
      "         contains(close) = True                2 : 0      =     57.8 : 1.0\n",
      "          contains(woof) = True                1 : 2      =     55.4 : 1.0\n",
      " contains(adverteerders) = True                2 : 1      =     55.2 : 1.0\n",
      " contains(langzamerhand) = True                2 : 1      =     55.2 : 1.0\n",
      "      contains(ongekend) = True                2 : 1      =     55.2 : 1.0\n",
      "            contains(❤️) = True                2 : 1      =     54.3 : 1.0\n",
      "      contains(illegale) = True                0 : 2      =     54.0 : 1.0\n",
      "        contains(ideale) = True                2 : 1      =     53.8 : 1.0\n",
      "   contains(ijzersterke) = True                2 : 1      =     53.8 : 1.0\n",
      "       contains(schande) = True                0 : 2      =     53.5 : 1.0\n",
      "          contains(must) = True                2 : 0      =     53.3 : 1.0\n",
      "       contains(morbide) = True                0 : 1      =     52.7 : 1.0\n",
      "contains(onbegrijpelijk) = True                0 : 2      =     52.0 : 1.0\n",
      "          contains(boze) = True                0 : 2      =     50.9 : 1.0\n",
      "         contains(kille) = True                0 : 1      =     50.7 : 1.0\n",
      "             contains(😞) = True                0 : 1      =     50.7 : 1.0\n",
      "       contains(prettig) = True                2 : 1      =     49.4 : 1.0\n",
      "       contains(winnaar) = True                2 : 1      =     49.4 : 1.0\n",
      "     contains(dodelijke) = True                0 : 2      =     48.2 : 1.0\n",
      "        contains(nefast) = True                0 : 1      =     48.2 : 1.0\n",
      "             contains(😫) = True                0 : 1      =     48.2 : 1.0\n",
      "      contains(verdampt) = True                2 : 1      =     48.2 : 1.0\n",
      "      contains(heerlijk) = True                2 : 0      =     47.8 : 1.0\n"
     ]
    }
   ],
   "source": [
    "classifier.show_most_informative_features(50)"
   ]
  },
  {
   "cell_type": "code",
   "execution_count": 64,
   "metadata": {},
   "outputs": [
    {
     "name": "stdout",
     "output_type": "stream",
     "text": [
      "0\n"
     ]
    }
   ],
   "source": [
    "line = \"Jij bent echt een idioot\"\n",
    "print(classifier.classify(dialogue_act_features(line)))\n"
   ]
  },
  {
   "cell_type": "code",
   "execution_count": 65,
   "metadata": {},
   "outputs": [
    {
     "name": "stdout",
     "output_type": "stream",
     "text": [
      "2\n"
     ]
    }
   ],
   "source": [
    "line = \"Goed gedaan vriend\"\n",
    "print(classifier.classify(dialogue_act_features(line)))"
   ]
  }
 ],
 "metadata": {
  "kernelspec": {
   "display_name": "Python 3 (ipykernel)",
   "language": "python",
   "name": "python3"
  },
  "language_info": {
   "codemirror_mode": {
    "name": "ipython",
    "version": 3
   },
   "file_extension": ".py",
   "mimetype": "text/x-python",
   "name": "python",
   "nbconvert_exporter": "python",
   "pygments_lexer": "ipython3",
   "version": "3.9.0"
  }
 },
 "nbformat": 4,
 "nbformat_minor": 1
}