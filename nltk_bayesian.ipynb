{
 "cells": [
  {
   "cell_type": "code",
   "execution_count": 1,
   "metadata": {},
   "outputs": [
    {
     "name": "stderr",
     "output_type": "stream",
     "text": [
      "[nltk_data] Downloading package nps_chat to\n",
      "[nltk_data]     C:\\Users\\Emiel\\AppData\\Roaming\\nltk_data...\n",
      "[nltk_data]   Package nps_chat is already up-to-date!\n",
      "[nltk_data] Downloading package punkt to\n",
      "[nltk_data]     C:\\Users\\Emiel\\AppData\\Roaming\\nltk_data...\n",
      "[nltk_data]   Package punkt is already up-to-date!\n",
      "[nltk_data] Downloading package wordnet to\n",
      "[nltk_data]     C:\\Users\\Emiel\\AppData\\Roaming\\nltk_data...\n",
      "[nltk_data]   Package wordnet is already up-to-date!\n",
      "[nltk_data] Downloading package omw-1.4 to\n",
      "[nltk_data]     C:\\Users\\Emiel\\AppData\\Roaming\\nltk_data...\n",
      "[nltk_data]   Package omw-1.4 is already up-to-date!\n"
     ]
    }
   ],
   "source": [
    "import nltk\n",
    "nltk.download('nps_chat')\n",
    "nltk.download('punkt')\n",
    "nltk.download('wordnet')\n",
    "nltk.download('omw-1.4')\n",
    "import tensorflow_hub as hub\n",
    "import tensorflow_text as text\n",
    "from sklearn.model_selection import train_test_split\n",
    "import tensorflow as tf\n",
    "from tensorflow import keras\n",
    "import tensorflow_addons as tfa\n",
    "from sklearn.metrics import accuracy_score\n",
    "import torch\n",
    "import pandas as pd\n",
    "from datetime import datetime\n",
    "import torchvision\n",
    "from torch.utils.tensorboard import SummaryWriter\n",
    "from transformers import RobertaTokenizerFast,RobertaTokenizer, RobertaForSequenceClassification,RobertaForMaskedLM, TextClassificationPipeline,TFRobertaModel\n",
    "import numpy as np\n"
   ]
  },
  {
   "cell_type": "code",
   "execution_count": 2,
   "metadata": {},
   "outputs": [],
   "source": [
    "posts = nltk.corpus.nps_chat.xml_posts()\n",
    "X = [post.text for post in posts]\n",
    "y  = ['question' if (post.get('class') == 'whQuestion' or post.get('class') == 'ynQuestion') else \"other\" for post in posts]\n",
    "translate_dict = {'question':1, 'other':0}\n",
    "\n",
    "y = [translate_dict[entry] for entry in y]\n",
    "\n",
    "\n",
    "X_train, X_test, y_train, y_test = train_test_split(X, y, test_size=0.2, random_state=42, stratify = y)"
   ]
  },
  {
   "cell_type": "code",
   "execution_count": 3,
   "metadata": {},
   "outputs": [
    {
     "name": "stdout",
     "output_type": "stream",
     "text": [
      "0.8731060606060606\n"
     ]
    }
   ],
   "source": [
    "\n",
    "def dialogue_act_features(post):\n",
    "    features = {}\n",
    "    for word in nltk.word_tokenize(post):\n",
    "        features['contains({})'.format(word.lower())] = True\n",
    "    return features\n",
    "\n",
    "\n",
    "featuresets = [(dialogue_act_features(post.text), target) for post, target in list(zip(posts,y))]\n",
    "size = int(len(featuresets) * 0.1)\n",
    "train_set, test_set = featuresets[size:], featuresets[:size]\n",
    "classifier = nltk.NaiveBayesClassifier.train(train_set)\n",
    "print(nltk.classify.accuracy(classifier, test_set))"
   ]
  },
  {
   "cell_type": "code",
   "execution_count": 4,
   "metadata": {},
   "outputs": [
    {
     "data": {
      "text/plain": [
       "{'Accept',\n",
       " 'Bye',\n",
       " 'Clarify',\n",
       " 'Continuer',\n",
       " 'Emotion',\n",
       " 'Emphasis',\n",
       " 'Greet',\n",
       " 'Other',\n",
       " 'Reject',\n",
       " 'Statement',\n",
       " 'System',\n",
       " 'nAnswer',\n",
       " 'whQuestion',\n",
       " 'yAnswer',\n",
       " 'ynQuestion'}"
      ]
     },
     "execution_count": 4,
     "metadata": {},
     "output_type": "execute_result"
    }
   ],
   "source": [
    "set([post.get('class') for post in posts])"
   ]
  },
  {
   "cell_type": "code",
   "execution_count": 5,
   "metadata": {},
   "outputs": [
    {
     "name": "stdout",
     "output_type": "stream",
     "text": [
      "Most Informative Features\n",
      "             contains(?) = True                1 : 0      =     59.5 : 1.0\n",
      "           contains(wtf) = True                1 : 0      =     56.8 : 1.0\n",
      "         contains(whats) = True                1 : 0      =     54.6 : 1.0\n",
      "       contains(anybody) = True                1 : 0      =     44.8 : 1.0\n",
      "           contains(asl) = True                1 : 0      =     44.8 : 1.0\n",
      "            contains(tx) = True                1 : 0      =     32.9 : 1.0\n",
      "         contains(which) = True                1 : 0      =     32.9 : 1.0\n",
      "           contains(who) = True                1 : 0      =     31.1 : 1.0\n",
      "          contains(part) = True                0 : 1      =     30.0 : 1.0\n",
      "          contains(doin) = True                1 : 0      =     26.9 : 1.0\n",
      "        contains(purple) = True                1 : 0      =     26.9 : 1.0\n",
      "           contains(how) = True                1 : 0      =     25.0 : 1.0\n",
      "        contains(anyone) = True                1 : 0      =     23.4 : 1.0\n",
      "          contains(sang) = True                1 : 0      =     23.3 : 1.0\n",
      "           contains(why) = True                1 : 0      =     21.3 : 1.0\n",
      "contains(11-06-adultsuser88) = True                1 : 0      =     20.9 : 1.0\n",
      "            contains(23) = True                1 : 0      =     20.9 : 1.0\n",
      "           contains(amy) = True                1 : 0      =     20.9 : 1.0\n",
      "          contains(lose) = True                1 : 0      =     20.9 : 1.0\n",
      "          contains(mary) = True                1 : 0      =     20.9 : 1.0\n",
      "         contains(nakey) = True                1 : 0      =     20.9 : 1.0\n",
      "        contains(number) = True                1 : 0      =     20.9 : 1.0\n",
      "          contains(ohio) = True                1 : 0      =     20.9 : 1.0\n",
      "        contains(silver) = True                1 : 0      =     20.9 : 1.0\n",
      "      contains(supposed) = True                1 : 0      =     20.9 : 1.0\n",
      "      contains(yourself) = True                1 : 0      =     20.9 : 1.0\n",
      "           contains(any) = True                1 : 0      =     17.8 : 1.0\n",
      "          contains(what) = True                1 : 0      =     16.8 : 1.0\n",
      "         contains(where) = True                1 : 0      =     16.5 : 1.0\n",
      "          contains(whos) = True                1 : 0      =     16.1 : 1.0\n",
      "           contains(huh) = True                1 : 0      =     15.9 : 1.0\n",
      "contains(11-08-adultsuser59) = True                1 : 0      =     14.9 : 1.0\n",
      "contains(11-08-teensuser22) = True                1 : 0      =     14.9 : 1.0\n",
      "contains(11-09-20suser53) = True                1 : 0      =     14.9 : 1.0\n",
      "        contains(booted) = True                1 : 0      =     14.9 : 1.0\n",
      "         contains(burns) = True                1 : 0      =     14.9 : 1.0\n",
      "         contains(chick) = True                1 : 0      =     14.9 : 1.0\n",
      "       contains(college) = True                1 : 0      =     14.9 : 1.0\n",
      "           contains(frm) = True                1 : 0      =     14.9 : 1.0\n",
      "            contains(gf) = True                1 : 0      =     14.9 : 1.0\n",
      "        contains(guitar) = True                1 : 0      =     14.9 : 1.0\n",
      "     contains(holocaust) = True                1 : 0      =     14.9 : 1.0\n",
      "        contains(island) = True                1 : 0      =     14.9 : 1.0\n",
      "        contains(living) = True                1 : 0      =     14.9 : 1.0\n",
      "        contains(moving) = True                1 : 0      =     14.9 : 1.0\n",
      "       contains(suppose) = True                1 : 0      =     14.9 : 1.0\n",
      "         contains(texas) = True                1 : 0      =     14.9 : 1.0\n",
      "     contains(wisconsin) = True                1 : 0      =     14.9 : 1.0\n",
      "           contains(won) = True                1 : 0      =     14.9 : 1.0\n",
      "contains(11-06-adultsuser35) = True                1 : 0      =     12.5 : 1.0\n"
     ]
    }
   ],
   "source": [
    "classifier.show_most_informative_features(50)"
   ]
  },
  {
   "cell_type": "code",
   "execution_count": 6,
   "metadata": {},
   "outputs": [
    {
     "name": "stdout",
     "output_type": "stream",
     "text": [
      "1\n"
     ]
    }
   ],
   "source": [
    "line = \"Do you enjoy high performance programming?\"\n",
    "print(classifier.classify(dialogue_act_features(line)))\n"
   ]
  },
  {
   "cell_type": "code",
   "execution_count": 7,
   "metadata": {},
   "outputs": [
    {
     "name": "stdout",
     "output_type": "stream",
     "text": [
      "1\n"
     ]
    }
   ],
   "source": [
    "line = \"What do you think about high performance programming?\"\n",
    "print(classifier.classify(dialogue_act_features(line)))"
   ]
  },
  {
   "cell_type": "code",
   "execution_count": 8,
   "metadata": {},
   "outputs": [
    {
     "name": "stdout",
     "output_type": "stream",
     "text": [
      "0\n"
     ]
    }
   ],
   "source": [
    "line = \"i am testing this\"\n",
    "print(classifier.classify(dialogue_act_features(line)))"
   ]
  }
 ],
 "metadata": {
  "kernelspec": {
   "display_name": "Python 3 (ipykernel)",
   "language": "python",
   "name": "python3"
  },
  "language_info": {
   "codemirror_mode": {
    "name": "ipython",
    "version": 3
   },
   "file_extension": ".py",
   "mimetype": "text/x-python",
   "name": "python",
   "nbconvert_exporter": "python",
   "pygments_lexer": "ipython3",
   "version": "3.9.0"
  }
 },
 "nbformat": 4,
 "nbformat_minor": 1
}