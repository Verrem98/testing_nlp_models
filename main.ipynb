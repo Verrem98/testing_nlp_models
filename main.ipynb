{
 "cells": [
  {
   "cell_type": "code",
   "execution_count": 55,
   "metadata": {
    "pycharm": {
     "is_executing": true
    }
   },
   "outputs": [
    {
     "name": "stderr",
     "output_type": "stream",
     "text": [
      "[nltk_data] Downloading package nps_chat to\n",
      "[nltk_data]     C:\\Users\\emiel\\AppData\\Roaming\\nltk_data...\n",
      "[nltk_data]   Package nps_chat is already up-to-date!\n",
      "[nltk_data] Downloading package punkt to\n",
      "[nltk_data]     C:\\Users\\emiel\\AppData\\Roaming\\nltk_data...\n",
      "[nltk_data]   Package punkt is already up-to-date!\n",
      "[nltk_data] Downloading package wordnet to\n",
      "[nltk_data]     C:\\Users\\emiel\\AppData\\Roaming\\nltk_data...\n",
      "[nltk_data]   Package wordnet is already up-to-date!\n",
      "[nltk_data] Downloading package omw-1.4 to\n",
      "[nltk_data]     C:\\Users\\emiel\\AppData\\Roaming\\nltk_data...\n",
      "[nltk_data]   Package omw-1.4 is already up-to-date!\n"
     ]
    }
   ],
   "source": [
    "import nltk\n",
    "nltk.download('nps_chat')\n",
    "nltk.download('punkt')\n",
    "nltk.download('wordnet')\n",
    "nltk.download('omw-1.4')\n",
    "import tensorflow_hub as hub\n",
    "import tensorflow_text as text\n",
    "from sklearn.model_selection import train_test_split\n",
    "import tensorflow as tf\n",
    "from tensorflow import keras\n",
    "import tensorflow_addons as tfa\n",
    "from sklearn.metrics import accuracy_score\n"
   ]
  },
  {
   "cell_type": "code",
   "execution_count": 2,
   "metadata": {
    "pycharm": {
     "is_executing": true
    }
   },
   "outputs": [],
   "source": [
    "posts = nltk.corpus.nps_chat.xml_posts()\n",
    "X = [post.text for post in posts]\n",
    "y  = ['question' if (post.get('class') == 'whQuestion' or post.get('class') == 'ynQuestion') else \"other\" for post in posts]\n",
    "translate_dict = {'question':1, 'other':0}\n",
    "\n",
    "y = [translate_dict[entry] for entry in y]\n",
    "\n",
    "\n",
    "X_train, X_test, y_train, y_test = train_test_split(X, y, test_size=0.2, random_state=42, stratify = y)"
   ]
  },
  {
   "cell_type": "markdown",
   "metadata": {},
   "source": [
    "# NLTK Naive Bayes Classifier\n",
    "\n",
    "++ easy to understand\n",
    "\n",
    "-- ignores word order / context (\"is this it\" is the same as \"this is it\") confuses statements and questions\n",
    "\n",
    "-- huge reliance on signal words"
   ]
  },
  {
   "cell_type": "code",
   "execution_count": 3,
   "metadata": {
    "pycharm": {
     "is_executing": true
    }
   },
   "outputs": [
    {
     "name": "stdout",
     "output_type": "stream",
     "text": [
      "0.8731060606060606\n"
     ]
    }
   ],
   "source": [
    "\n",
    "def dialogue_act_features(post):\n",
    "    features = {}\n",
    "    for word in nltk.word_tokenize(post):\n",
    "        features['contains({})'.format(word.lower())] = True\n",
    "    return features\n",
    "\n",
    "\n",
    "featuresets = [(dialogue_act_features(post.text), target) for post, target in list(zip(posts,y))]\n",
    "size = int(len(featuresets) * 0.1)\n",
    "train_set, test_set = featuresets[size:], featuresets[:size]\n",
    "classifier = nltk.NaiveBayesClassifier.train(train_set)\n",
    "print(nltk.classify.accuracy(classifier, test_set))"
   ]
  },
  {
   "cell_type": "code",
   "execution_count": 4,
   "metadata": {
    "pycharm": {
     "is_executing": true
    }
   },
   "outputs": [
    {
     "data": {
      "text/plain": [
       "{'Accept',\n",
       " 'Bye',\n",
       " 'Clarify',\n",
       " 'Continuer',\n",
       " 'Emotion',\n",
       " 'Emphasis',\n",
       " 'Greet',\n",
       " 'Other',\n",
       " 'Reject',\n",
       " 'Statement',\n",
       " 'System',\n",
       " 'nAnswer',\n",
       " 'whQuestion',\n",
       " 'yAnswer',\n",
       " 'ynQuestion'}"
      ]
     },
     "execution_count": 4,
     "metadata": {},
     "output_type": "execute_result"
    }
   ],
   "source": [
    "set([post.get('class') for post in posts])"
   ]
  },
  {
   "cell_type": "code",
   "execution_count": 5,
   "metadata": {
    "pycharm": {
     "is_executing": true
    }
   },
   "outputs": [
    {
     "name": "stdout",
     "output_type": "stream",
     "text": [
      "Most Informative Features\n",
      "             contains(?) = True                1 : 0      =     59.5 : 1.0\n",
      "           contains(wtf) = True                1 : 0      =     56.8 : 1.0\n",
      "         contains(whats) = True                1 : 0      =     54.6 : 1.0\n",
      "       contains(anybody) = True                1 : 0      =     44.8 : 1.0\n",
      "           contains(asl) = True                1 : 0      =     44.8 : 1.0\n",
      "            contains(tx) = True                1 : 0      =     32.9 : 1.0\n",
      "         contains(which) = True                1 : 0      =     32.9 : 1.0\n",
      "           contains(who) = True                1 : 0      =     31.1 : 1.0\n",
      "          contains(part) = True                0 : 1      =     30.0 : 1.0\n",
      "          contains(doin) = True                1 : 0      =     26.9 : 1.0\n",
      "        contains(purple) = True                1 : 0      =     26.9 : 1.0\n",
      "           contains(how) = True                1 : 0      =     25.0 : 1.0\n",
      "        contains(anyone) = True                1 : 0      =     23.4 : 1.0\n",
      "          contains(sang) = True                1 : 0      =     23.3 : 1.0\n",
      "           contains(why) = True                1 : 0      =     21.3 : 1.0\n",
      "contains(11-06-adultsuser88) = True                1 : 0      =     20.9 : 1.0\n",
      "            contains(23) = True                1 : 0      =     20.9 : 1.0\n",
      "           contains(amy) = True                1 : 0      =     20.9 : 1.0\n",
      "          contains(lose) = True                1 : 0      =     20.9 : 1.0\n",
      "          contains(mary) = True                1 : 0      =     20.9 : 1.0\n",
      "         contains(nakey) = True                1 : 0      =     20.9 : 1.0\n",
      "        contains(number) = True                1 : 0      =     20.9 : 1.0\n",
      "          contains(ohio) = True                1 : 0      =     20.9 : 1.0\n",
      "        contains(silver) = True                1 : 0      =     20.9 : 1.0\n",
      "      contains(supposed) = True                1 : 0      =     20.9 : 1.0\n",
      "      contains(yourself) = True                1 : 0      =     20.9 : 1.0\n",
      "           contains(any) = True                1 : 0      =     17.8 : 1.0\n",
      "          contains(what) = True                1 : 0      =     16.8 : 1.0\n",
      "         contains(where) = True                1 : 0      =     16.5 : 1.0\n",
      "          contains(whos) = True                1 : 0      =     16.1 : 1.0\n",
      "           contains(huh) = True                1 : 0      =     15.9 : 1.0\n",
      "contains(11-08-adultsuser59) = True                1 : 0      =     14.9 : 1.0\n",
      "contains(11-08-teensuser22) = True                1 : 0      =     14.9 : 1.0\n",
      "contains(11-09-20suser53) = True                1 : 0      =     14.9 : 1.0\n",
      "        contains(booted) = True                1 : 0      =     14.9 : 1.0\n",
      "         contains(burns) = True                1 : 0      =     14.9 : 1.0\n",
      "         contains(chick) = True                1 : 0      =     14.9 : 1.0\n",
      "       contains(college) = True                1 : 0      =     14.9 : 1.0\n",
      "           contains(frm) = True                1 : 0      =     14.9 : 1.0\n",
      "            contains(gf) = True                1 : 0      =     14.9 : 1.0\n",
      "        contains(guitar) = True                1 : 0      =     14.9 : 1.0\n",
      "     contains(holocaust) = True                1 : 0      =     14.9 : 1.0\n",
      "        contains(island) = True                1 : 0      =     14.9 : 1.0\n",
      "        contains(living) = True                1 : 0      =     14.9 : 1.0\n",
      "        contains(moving) = True                1 : 0      =     14.9 : 1.0\n",
      "       contains(suppose) = True                1 : 0      =     14.9 : 1.0\n",
      "         contains(texas) = True                1 : 0      =     14.9 : 1.0\n",
      "     contains(wisconsin) = True                1 : 0      =     14.9 : 1.0\n",
      "           contains(won) = True                1 : 0      =     14.9 : 1.0\n",
      "contains(11-06-adultsuser35) = True                1 : 0      =     12.5 : 1.0\n"
     ]
    }
   ],
   "source": [
    "classifier.show_most_informative_features(50)"
   ]
  },
  {
   "cell_type": "code",
   "execution_count": 6,
   "metadata": {
    "pycharm": {
     "is_executing": true
    }
   },
   "outputs": [
    {
     "name": "stdout",
     "output_type": "stream",
     "text": [
      "1\n"
     ]
    }
   ],
   "source": [
    "line = \"Do you enjoy high performance programming?\"\n",
    "print(classifier.classify(dialogue_act_features(line)))\n"
   ]
  },
  {
   "cell_type": "code",
   "execution_count": 7,
   "metadata": {
    "pycharm": {
     "is_executing": true
    }
   },
   "outputs": [
    {
     "name": "stdout",
     "output_type": "stream",
     "text": [
      "1\n"
     ]
    }
   ],
   "source": [
    "line = \"What do you think about high performance programming?\"\n",
    "print(classifier.classify(dialogue_act_features(line)))"
   ]
  },
  {
   "cell_type": "code",
   "execution_count": 8,
   "metadata": {
    "pycharm": {
     "is_executing": true
    }
   },
   "outputs": [
    {
     "name": "stdout",
     "output_type": "stream",
     "text": [
      "0\n"
     ]
    }
   ],
   "source": [
    "line = \"i am testing this\"\n",
    "print(classifier.classify(dialogue_act_features(line)))"
   ]
  },
  {
   "cell_type": "markdown",
   "metadata": {},
   "source": [
    "# Small Bert\n",
    "https://www.tensorflow.org/text/tutorials/classify_text_with_bert"
   ]
  },
  {
   "cell_type": "code",
   "execution_count": 9,
   "metadata": {
    "pycharm": {
     "is_executing": true
    }
   },
   "outputs": [
    {
     "name": "stdout",
     "output_type": "stream",
     "text": [
      "BERT model selected           : https://tfhub.dev/tensorflow/small_bert/bert_en_uncased_L-4_H-512_A-8/1\n",
      "Preprocess model auto-selected: https://tfhub.dev/tensorflow/bert_en_uncased_preprocess/3\n"
     ]
    }
   ],
   "source": [
    "bert_model_name = 'small_bert/bert_en_uncased_L-4_H-512_A-8' \n",
    "\n",
    "map_name_to_handle = {\n",
    "    'bert_en_uncased_L-12_H-768_A-12':\n",
    "        'https://tfhub.dev/tensorflow/bert_en_uncased_L-12_H-768_A-12/3',\n",
    "    'bert_en_cased_L-12_H-768_A-12':\n",
    "        'https://tfhub.dev/tensorflow/bert_en_cased_L-12_H-768_A-12/3',\n",
    "    'bert_multi_cased_L-12_H-768_A-12':\n",
    "        'https://tfhub.dev/tensorflow/bert_multi_cased_L-12_H-768_A-12/3',\n",
    "    'small_bert/bert_en_uncased_L-2_H-128_A-2':\n",
    "        'https://tfhub.dev/tensorflow/small_bert/bert_en_uncased_L-2_H-128_A-2/1',\n",
    "    'small_bert/bert_en_uncased_L-2_H-256_A-4':\n",
    "        'https://tfhub.dev/tensorflow/small_bert/bert_en_uncased_L-2_H-256_A-4/1',\n",
    "    'small_bert/bert_en_uncased_L-2_H-512_A-8':\n",
    "        'https://tfhub.dev/tensorflow/small_bert/bert_en_uncased_L-2_H-512_A-8/1',\n",
    "    'small_bert/bert_en_uncased_L-2_H-768_A-12':\n",
    "        'https://tfhub.dev/tensorflow/small_bert/bert_en_uncased_L-2_H-768_A-12/1',\n",
    "    'small_bert/bert_en_uncased_L-4_H-128_A-2':\n",
    "        'https://tfhub.dev/tensorflow/small_bert/bert_en_uncased_L-4_H-128_A-2/1',\n",
    "    'small_bert/bert_en_uncased_L-4_H-256_A-4':\n",
    "        'https://tfhub.dev/tensorflow/small_bert/bert_en_uncased_L-4_H-256_A-4/1',\n",
    "    'small_bert/bert_en_uncased_L-4_H-512_A-8':\n",
    "        'https://tfhub.dev/tensorflow/small_bert/bert_en_uncased_L-4_H-512_A-8/1',\n",
    "    'small_bert/bert_en_uncased_L-4_H-768_A-12':\n",
    "        'https://tfhub.dev/tensorflow/small_bert/bert_en_uncased_L-4_H-768_A-12/1',\n",
    "    'small_bert/bert_en_uncased_L-6_H-128_A-2':\n",
    "        'https://tfhub.dev/tensorflow/small_bert/bert_en_uncased_L-6_H-128_A-2/1',\n",
    "    'small_bert/bert_en_uncased_L-6_H-256_A-4':\n",
    "        'https://tfhub.dev/tensorflow/small_bert/bert_en_uncased_L-6_H-256_A-4/1',\n",
    "    'small_bert/bert_en_uncased_L-6_H-512_A-8':\n",
    "        'https://tfhub.dev/tensorflow/small_bert/bert_en_uncased_L-6_H-512_A-8/1',\n",
    "    'small_bert/bert_en_uncased_L-6_H-768_A-12':\n",
    "        'https://tfhub.dev/tensorflow/small_bert/bert_en_uncased_L-6_H-768_A-12/1',\n",
    "    'small_bert/bert_en_uncased_L-8_H-128_A-2':\n",
    "        'https://tfhub.dev/tensorflow/small_bert/bert_en_uncased_L-8_H-128_A-2/1',\n",
    "    'small_bert/bert_en_uncased_L-8_H-256_A-4':\n",
    "        'https://tfhub.dev/tensorflow/small_bert/bert_en_uncased_L-8_H-256_A-4/1',\n",
    "    'small_bert/bert_en_uncased_L-8_H-512_A-8':\n",
    "        'https://tfhub.dev/tensorflow/small_bert/bert_en_uncased_L-8_H-512_A-8/1',\n",
    "    'small_bert/bert_en_uncased_L-8_H-768_A-12':\n",
    "        'https://tfhub.dev/tensorflow/small_bert/bert_en_uncased_L-8_H-768_A-12/1',\n",
    "    'small_bert/bert_en_uncased_L-10_H-128_A-2':\n",
    "        'https://tfhub.dev/tensorflow/small_bert/bert_en_uncased_L-10_H-128_A-2/1',\n",
    "    'small_bert/bert_en_uncased_L-10_H-256_A-4':\n",
    "        'https://tfhub.dev/tensorflow/small_bert/bert_en_uncased_L-10_H-256_A-4/1',\n",
    "    'small_bert/bert_en_uncased_L-10_H-512_A-8':\n",
    "        'https://tfhub.dev/tensorflow/small_bert/bert_en_uncased_L-10_H-512_A-8/1',\n",
    "    'small_bert/bert_en_uncased_L-10_H-768_A-12':\n",
    "        'https://tfhub.dev/tensorflow/small_bert/bert_en_uncased_L-10_H-768_A-12/1',\n",
    "    'small_bert/bert_en_uncased_L-12_H-128_A-2':\n",
    "        'https://tfhub.dev/tensorflow/small_bert/bert_en_uncased_L-12_H-128_A-2/1',\n",
    "    'small_bert/bert_en_uncased_L-12_H-256_A-4':\n",
    "        'https://tfhub.dev/tensorflow/small_bert/bert_en_uncased_L-12_H-256_A-4/1',\n",
    "    'small_bert/bert_en_uncased_L-12_H-512_A-8':\n",
    "        'https://tfhub.dev/tensorflow/small_bert/bert_en_uncased_L-12_H-512_A-8/1',\n",
    "    'small_bert/bert_en_uncased_L-12_H-768_A-12':\n",
    "        'https://tfhub.dev/tensorflow/small_bert/bert_en_uncased_L-12_H-768_A-12/1',\n",
    "    'albert_en_base':\n",
    "        'https://tfhub.dev/tensorflow/albert_en_base/2',\n",
    "    'electra_small':\n",
    "        'https://tfhub.dev/google/electra_small/2',\n",
    "    'electra_base':\n",
    "        'https://tfhub.dev/google/electra_base/2',\n",
    "    'experts_pubmed':\n",
    "        'https://tfhub.dev/google/experts/bert/pubmed/2',\n",
    "    'experts_wiki_books':\n",
    "        'https://tfhub.dev/google/experts/bert/wiki_books/2',\n",
    "    'talking-heads_base':\n",
    "        'https://tfhub.dev/tensorflow/talkheads_ggelu_bert_en_base/1',\n",
    "}\n",
    "\n",
    "map_model_to_preprocess = {\n",
    "    'bert_en_uncased_L-12_H-768_A-12':\n",
    "        'https://tfhub.dev/tensorflow/bert_en_uncased_preprocess/3',\n",
    "    'bert_en_cased_L-12_H-768_A-12':\n",
    "        'https://tfhub.dev/tensorflow/bert_en_cased_preprocess/3',\n",
    "    'small_bert/bert_en_uncased_L-2_H-128_A-2':\n",
    "        'https://tfhub.dev/tensorflow/bert_en_uncased_preprocess/3',\n",
    "    'small_bert/bert_en_uncased_L-2_H-256_A-4':\n",
    "        'https://tfhub.dev/tensorflow/bert_en_uncased_preprocess/3',\n",
    "    'small_bert/bert_en_uncased_L-2_H-512_A-8':\n",
    "        'https://tfhub.dev/tensorflow/bert_en_uncased_preprocess/3',\n",
    "    'small_bert/bert_en_uncased_L-2_H-768_A-12':\n",
    "        'https://tfhub.dev/tensorflow/bert_en_uncased_preprocess/3',\n",
    "    'small_bert/bert_en_uncased_L-4_H-128_A-2':\n",
    "        'https://tfhub.dev/tensorflow/bert_en_uncased_preprocess/3',\n",
    "    'small_bert/bert_en_uncased_L-4_H-256_A-4':\n",
    "        'https://tfhub.dev/tensorflow/bert_en_uncased_preprocess/3',\n",
    "    'small_bert/bert_en_uncased_L-4_H-512_A-8':\n",
    "        'https://tfhub.dev/tensorflow/bert_en_uncased_preprocess/3',\n",
    "    'small_bert/bert_en_uncased_L-4_H-768_A-12':\n",
    "        'https://tfhub.dev/tensorflow/bert_en_uncased_preprocess/3',\n",
    "    'small_bert/bert_en_uncased_L-6_H-128_A-2':\n",
    "        'https://tfhub.dev/tensorflow/bert_en_uncased_preprocess/3',\n",
    "    'small_bert/bert_en_uncased_L-6_H-256_A-4':\n",
    "        'https://tfhub.dev/tensorflow/bert_en_uncased_preprocess/3',\n",
    "    'small_bert/bert_en_uncased_L-6_H-512_A-8':\n",
    "        'https://tfhub.dev/tensorflow/bert_en_uncased_preprocess/3',\n",
    "    'small_bert/bert_en_uncased_L-6_H-768_A-12':\n",
    "        'https://tfhub.dev/tensorflow/bert_en_uncased_preprocess/3',\n",
    "    'small_bert/bert_en_uncased_L-8_H-128_A-2':\n",
    "        'https://tfhub.dev/tensorflow/bert_en_uncased_preprocess/3',\n",
    "    'small_bert/bert_en_uncased_L-8_H-256_A-4':\n",
    "        'https://tfhub.dev/tensorflow/bert_en_uncased_preprocess/3',\n",
    "    'small_bert/bert_en_uncased_L-8_H-512_A-8':\n",
    "        'https://tfhub.dev/tensorflow/bert_en_uncased_preprocess/3',\n",
    "    'small_bert/bert_en_uncased_L-8_H-768_A-12':\n",
    "        'https://tfhub.dev/tensorflow/bert_en_uncased_preprocess/3',\n",
    "    'small_bert/bert_en_uncased_L-10_H-128_A-2':\n",
    "        'https://tfhub.dev/tensorflow/bert_en_uncased_preprocess/3',\n",
    "    'small_bert/bert_en_uncased_L-10_H-256_A-4':\n",
    "        'https://tfhub.dev/tensorflow/bert_en_uncased_preprocess/3',\n",
    "    'small_bert/bert_en_uncased_L-10_H-512_A-8':\n",
    "        'https://tfhub.dev/tensorflow/bert_en_uncased_preprocess/3',\n",
    "    'small_bert/bert_en_uncased_L-10_H-768_A-12':\n",
    "        'https://tfhub.dev/tensorflow/bert_en_uncased_preprocess/3',\n",
    "    'small_bert/bert_en_uncased_L-12_H-128_A-2':\n",
    "        'https://tfhub.dev/tensorflow/bert_en_uncased_preprocess/3',\n",
    "    'small_bert/bert_en_uncased_L-12_H-256_A-4':\n",
    "        'https://tfhub.dev/tensorflow/bert_en_uncased_preprocess/3',\n",
    "    'small_bert/bert_en_uncased_L-12_H-512_A-8':\n",
    "        'https://tfhub.dev/tensorflow/bert_en_uncased_preprocess/3',\n",
    "    'small_bert/bert_en_uncased_L-12_H-768_A-12':\n",
    "        'https://tfhub.dev/tensorflow/bert_en_uncased_preprocess/3',\n",
    "    'bert_multi_cased_L-12_H-768_A-12':\n",
    "        'https://tfhub.dev/tensorflow/bert_multi_cased_preprocess/3',\n",
    "    'albert_en_base':\n",
    "        'https://tfhub.dev/tensorflow/albert_en_preprocess/3',\n",
    "    'electra_small':\n",
    "        'https://tfhub.dev/tensorflow/bert_en_uncased_preprocess/3',\n",
    "    'electra_base':\n",
    "        'https://tfhub.dev/tensorflow/bert_en_uncased_preprocess/3',\n",
    "    'experts_pubmed':\n",
    "        'https://tfhub.dev/tensorflow/bert_en_uncased_preprocess/3',\n",
    "    'experts_wiki_books':\n",
    "        'https://tfhub.dev/tensorflow/bert_en_uncased_preprocess/3',\n",
    "    'talking-heads_base':\n",
    "        'https://tfhub.dev/tensorflow/bert_en_uncased_preprocess/3',\n",
    "}\n",
    "\n",
    "tfhub_handle_encoder = map_name_to_handle[bert_model_name]\n",
    "tfhub_handle_preprocess = map_model_to_preprocess[bert_model_name]\n",
    "\n",
    "print(f'BERT model selected           : {tfhub_handle_encoder}')\n",
    "print(f'Preprocess model auto-selected: {tfhub_handle_preprocess}')"
   ]
  },
  {
   "cell_type": "code",
   "execution_count": 10,
   "metadata": {
    "pycharm": {
     "is_executing": true
    }
   },
   "outputs": [],
   "source": [
    "bert_preprocess_model = hub.KerasLayer(tfhub_handle_preprocess)"
   ]
  },
  {
   "cell_type": "code",
   "execution_count": 11,
   "metadata": {
    "pycharm": {
     "is_executing": true
    }
   },
   "outputs": [
    {
     "name": "stdout",
     "output_type": "stream",
     "text": [
      "Keys       : ['input_mask', 'input_type_ids', 'input_word_ids']\n",
      "Shape      : (1, 128)\n",
      "Word Ids   : [ 101 2023 2003 2107 2019 6429 3185  999  102    0    0    0]\n",
      "Input Mask : [1 1 1 1 1 1 1 1 1 0 0 0]\n",
      "Type Ids   : [0 0 0 0 0 0 0 0 0 0 0 0]\n"
     ]
    }
   ],
   "source": [
    "text_test = ['this is such an amazing movie!']\n",
    "text_preprocessed = bert_preprocess_model(text_test)\n",
    "\n",
    "print(f'Keys       : {list(text_preprocessed.keys())}')\n",
    "print(f'Shape      : {text_preprocessed[\"input_word_ids\"].shape}')\n",
    "print(f'Word Ids   : {text_preprocessed[\"input_word_ids\"][0, :12]}')\n",
    "print(f'Input Mask : {text_preprocessed[\"input_mask\"][0, :12]}')\n",
    "print(f'Type Ids   : {text_preprocessed[\"input_type_ids\"][0, :12]}')"
   ]
  },
  {
   "cell_type": "code",
   "execution_count": 12,
   "metadata": {
    "pycharm": {
     "is_executing": true
    }
   },
   "outputs": [],
   "source": [
    "bert_model = hub.KerasLayer(tfhub_handle_encoder)"
   ]
  },
  {
   "cell_type": "code",
   "execution_count": 13,
   "metadata": {
    "pycharm": {
     "is_executing": true
    }
   },
   "outputs": [
    {
     "data": {
      "text/plain": [
       "{'sequence_output': <tf.Tensor: shape=(1, 128, 512), dtype=float32, numpy=\n",
       " array([[[-0.2894631 ,  0.3432125 ,  0.33231503, ...,  0.21300879,\n",
       "           0.71020824, -0.05771083],\n",
       "         [-0.28741956,  0.31981033, -0.23018478, ...,  0.58455044,\n",
       "          -0.21329702,  0.72692096],\n",
       "         [-0.66156983,  0.68876874, -0.87432986, ...,  0.10877332,\n",
       "          -0.26173213,  0.4785546 ],\n",
       "         ...,\n",
       "         [ 0.07634938, -0.14029206, -0.23991814, ...,  0.43109894,\n",
       "           0.9132698 ,  0.2148659 ],\n",
       "         [-0.44950542, -0.4125196 , -0.18450823, ...,  0.42683274,\n",
       "           0.57654595,  0.5835239 ],\n",
       "         [-1.012537  , -0.8638922 ,  0.05829375, ...,  0.33312175,\n",
       "           0.36520925,  0.94291836]]], dtype=float32)>,\n",
       " 'default': <tf.Tensor: shape=(1, 512), dtype=float32, numpy=\n",
       " array([[ 7.62628734e-01,  9.92809832e-01, -1.86118647e-01,\n",
       "          3.66738200e-01,  1.52337536e-01,  6.55044615e-01,\n",
       "          9.68115389e-01, -9.48626995e-01,  2.16128677e-03,\n",
       "         -9.87773120e-01,  6.84271902e-02, -9.76305902e-01,\n",
       "          2.99959064e-01, -9.99825835e-01,  2.18229815e-01,\n",
       "          4.57802534e-01,  1.28510118e-01,  2.62947142e-01,\n",
       "         -4.03386414e-01, -1.70664549e-01,  1.30040124e-01,\n",
       "         -1.20208293e-01, -9.34154868e-01,  2.52416223e-01,\n",
       "          9.80566800e-01,  9.85106528e-01, -3.83478224e-01,\n",
       "         -6.19304515e-02,  3.53127003e-01,  9.61802185e-01,\n",
       "          4.37849075e-01, -7.62053654e-02,  3.83451968e-01,\n",
       "         -3.99953127e-01,  3.88875008e-01, -7.05702901e-02,\n",
       "         -1.84963778e-01, -3.74650747e-01, -8.90866458e-01,\n",
       "         -2.45328307e-01,  1.48199890e-02, -4.44240235e-02,\n",
       "          8.27979743e-02, -6.79374814e-01,  1.38857469e-01,\n",
       "         -9.11615565e-02, -9.95979846e-01,  2.31296182e-01,\n",
       "          2.47623056e-01, -3.34113985e-01,  9.97976124e-01,\n",
       "         -3.57810736e-01,  9.73542213e-01, -6.24328673e-01,\n",
       "          3.07090998e-01,  1.60279900e-01, -1.44826144e-01,\n",
       "         -1.74540982e-01, -9.99539375e-01, -9.98977780e-01,\n",
       "          9.33455378e-02, -2.23835856e-01,  9.98142064e-01,\n",
       "         -9.03366804e-02,  2.15027243e-01, -9.98293877e-01,\n",
       "         -9.94671136e-05,  7.61683047e-01,  9.14676264e-02,\n",
       "          8.81131515e-02,  9.83048618e-01,  9.94190872e-01,\n",
       "         -1.54019773e-01, -9.71208930e-01, -5.48702776e-01,\n",
       "          1.66939408e-01, -2.95076460e-01,  9.85258698e-01,\n",
       "         -1.94796473e-01, -2.55096942e-01, -9.84164715e-01,\n",
       "         -1.20103866e-01,  9.94991958e-01, -6.19593382e-01,\n",
       "          9.92243409e-01, -9.99621987e-01,  3.39152247e-01,\n",
       "          1.73366949e-01, -4.22023237e-01, -1.96295083e-01,\n",
       "         -9.92719650e-01, -1.32573515e-01,  5.47868669e-01,\n",
       "         -9.88404810e-01, -7.75913179e-01, -6.40168548e-01,\n",
       "          9.49923038e-01, -8.66905898e-02, -2.01917425e-01,\n",
       "         -3.64012599e-01, -5.82452774e-01, -8.21321964e-01,\n",
       "         -9.77031052e-01,  2.20602289e-01, -2.86966145e-01,\n",
       "          6.63215518e-02,  9.90430832e-01,  2.88470805e-01,\n",
       "         -5.31456828e-01,  4.80063200e-01, -2.04793707e-01,\n",
       "          4.23700243e-01,  9.88471210e-01, -9.96448934e-01,\n",
       "         -2.51450658e-01,  3.83189738e-01,  4.96086419e-01,\n",
       "          9.17864382e-01, -1.37927476e-04,  9.97011960e-01,\n",
       "         -9.83851492e-01,  7.47368634e-02, -9.89918768e-01,\n",
       "          9.26546156e-01, -3.78851891e-01, -1.50043622e-01,\n",
       "         -1.97117299e-01,  1.94223747e-01, -5.58376350e-02,\n",
       "         -2.55652875e-01,  9.94940579e-01,  9.98858988e-01,\n",
       "          9.68728006e-01,  2.58114338e-01,  4.80596662e-01,\n",
       "         -9.06892121e-01,  9.66376185e-01, -9.91291821e-01,\n",
       "         -5.39943337e-01,  3.43862265e-01,  9.99972880e-01,\n",
       "          4.13956106e-01, -6.25356257e-01,  6.28901601e-01,\n",
       "         -2.16055304e-01,  9.91671622e-01, -9.60305035e-01,\n",
       "          7.08348930e-01, -1.32945493e-01, -2.14211702e-01,\n",
       "         -4.86384630e-02, -3.06360930e-01,  9.70956981e-01,\n",
       "          1.59732848e-01,  2.91158348e-01, -2.12716937e-01,\n",
       "         -8.49496424e-01,  9.12067115e-01,  3.97582531e-01,\n",
       "          5.38037606e-02, -1.95852414e-01,  2.95858711e-01,\n",
       "         -4.26905066e-01, -6.73463583e-01,  9.99596834e-01,\n",
       "          2.33254693e-02, -2.91729093e-01, -4.49446231e-01,\n",
       "          9.97131169e-01,  5.44568539e-01,  1.20992519e-01,\n",
       "         -9.88504827e-01,  9.60839927e-01, -9.53753948e-01,\n",
       "          6.92339182e-01,  4.48572189e-01,  1.41912058e-01,\n",
       "          3.84910166e-01,  9.99748468e-01,  6.78025126e-01,\n",
       "          9.82404768e-01, -4.95664738e-02,  9.94555056e-01,\n",
       "         -8.79284918e-01,  7.96881199e-01, -9.80414808e-01,\n",
       "         -9.71915781e-01, -7.69297183e-01, -1.29525542e-01,\n",
       "          9.96294141e-01,  1.78355873e-01, -5.21233261e-01,\n",
       "         -9.99227464e-01, -5.26328862e-01,  9.99501050e-01,\n",
       "          2.99652845e-01, -8.71599436e-01, -9.94495094e-01,\n",
       "          9.43198502e-01,  2.34441474e-01,  3.92223209e-01,\n",
       "         -3.84546608e-01,  2.37304866e-01,  1.72320098e-01,\n",
       "         -5.35275698e-01,  9.49814498e-01, -3.85073930e-01,\n",
       "          9.62388694e-01,  9.95478511e-01,  2.95416385e-01,\n",
       "          3.17406863e-01,  4.58250880e-01, -1.40972272e-01,\n",
       "          1.79100275e-01,  9.92426157e-01, -9.38459158e-01,\n",
       "          9.27345455e-01,  9.66441691e-01,  9.78223443e-01,\n",
       "          1.14648834e-01, -9.90929484e-01, -5.89736104e-01,\n",
       "         -9.50371742e-01,  1.49873510e-01,  8.51662219e-01,\n",
       "          3.26818109e-01, -9.81222093e-01,  5.63783288e-01,\n",
       "         -9.95843291e-01,  9.79191899e-01, -8.95176902e-02,\n",
       "         -2.06960570e-02, -1.32530034e-01,  1.38085067e-01,\n",
       "          9.64455545e-01,  2.11848617e-01, -7.90156424e-01,\n",
       "          4.17950273e-01,  3.46749365e-01, -8.07004869e-02,\n",
       "          9.49249327e-01,  9.99973595e-01, -8.92257750e-01,\n",
       "          9.40616071e-01,  6.99489772e-01,  6.78396404e-01,\n",
       "          9.95642483e-01,  1.28700599e-01,  9.60242391e-01,\n",
       "          2.53914837e-02, -2.69453585e-01, -6.14465214e-02,\n",
       "         -6.54865682e-01,  5.25082171e-01,  9.90854919e-01,\n",
       "         -1.64651901e-01, -1.15863666e-01, -9.98729169e-01,\n",
       "          7.50906765e-01,  8.23737323e-01, -5.44667482e-01,\n",
       "         -9.94099915e-01, -4.19651270e-01, -6.45315289e-01,\n",
       "         -3.14366408e-02,  9.98141408e-01,  4.87909853e-01,\n",
       "         -8.65992785e-01,  1.45727113e-01,  1.87730208e-01,\n",
       "          9.98382688e-01,  1.46596372e-01, -9.86287177e-01,\n",
       "          9.99789536e-01, -3.91179919e-01, -9.91036475e-01,\n",
       "          9.95312452e-01,  6.41607270e-02, -9.08387303e-01,\n",
       "         -1.58140734e-01, -9.91545558e-01, -9.99215126e-01,\n",
       "          8.03015172e-01,  9.98973846e-01, -3.32495928e-01,\n",
       "         -8.42095166e-02,  3.73414010e-01,  2.70734072e-01,\n",
       "         -9.89446282e-01, -9.99516368e-01, -7.70957708e-01,\n",
       "          6.21773154e-02,  4.36927378e-01,  9.24941659e-01,\n",
       "          9.97540414e-01, -9.98088777e-01, -2.45038763e-01,\n",
       "          9.74303305e-01, -7.94602707e-02,  9.93370712e-01,\n",
       "          9.99450982e-01, -7.07644463e-01, -8.30895543e-01,\n",
       "          8.98295581e-01, -1.01530805e-01, -1.71470359e-01,\n",
       "          4.74043310e-01,  9.95531023e-01, -8.80132914e-02,\n",
       "          4.70759988e-01,  2.22401708e-01,  7.33648777e-01,\n",
       "         -7.37256631e-02,  7.59146035e-01,  8.12294126e-01,\n",
       "          1.41527072e-01,  3.76018852e-01,  3.39545101e-01,\n",
       "          5.80030620e-01,  9.99790490e-01, -1.79860145e-01,\n",
       "          1.99038997e-01, -4.69460309e-01,  8.70560825e-01,\n",
       "         -2.37593740e-01, -4.47978765e-01, -8.65355730e-01,\n",
       "          7.65121102e-01, -9.90383208e-01,  3.82323861e-01,\n",
       "          6.48538649e-01,  2.66881227e-01, -3.27811897e-01,\n",
       "          7.71422923e-01, -1.29253045e-01, -3.89293194e-01,\n",
       "          6.93513080e-02, -8.94340575e-01, -9.60046113e-01,\n",
       "          3.71892393e-01,  9.99563515e-01, -3.90958712e-02,\n",
       "         -4.88997668e-01,  9.90934789e-01, -2.67010272e-01,\n",
       "          9.82963085e-01,  8.56696367e-01,  9.99372423e-01,\n",
       "         -1.92579329e-01,  9.96981084e-01,  2.10357577e-01,\n",
       "          2.84461230e-01,  9.65810195e-02,  2.44745061e-01,\n",
       "          9.76513445e-01,  4.05046940e-01, -6.81260288e-01,\n",
       "         -1.93610057e-01, -4.84825164e-01,  2.30696455e-01,\n",
       "         -9.99203503e-01, -9.56096351e-01, -5.79378307e-01,\n",
       "         -3.96880955e-02, -5.73906265e-02, -9.74193275e-01,\n",
       "         -9.73427534e-01,  1.00152537e-01,  2.40723163e-01,\n",
       "          1.62927881e-01,  2.42328763e-01,  9.43726122e-01,\n",
       "         -6.38533533e-02,  1.26871184e-01, -7.18344212e-01,\n",
       "         -9.92574334e-01, -7.11849406e-02, -1.46030858e-01,\n",
       "         -4.83590335e-01, -6.13327146e-01,  7.13953376e-01,\n",
       "         -1.53984725e-01, -9.97635961e-01,  2.99065202e-01,\n",
       "          9.98741210e-01,  8.56168747e-01,  3.11263442e-01,\n",
       "         -4.50186700e-01,  9.73553598e-01, -2.72070289e-01,\n",
       "         -1.30773261e-01,  9.94025290e-01, -9.99943256e-01,\n",
       "         -8.85474682e-02, -3.88364643e-01, -8.56454447e-02,\n",
       "          1.23220205e-01, -4.03664470e-01,  9.99085605e-01,\n",
       "          2.30324976e-02, -4.24665362e-01, -9.42262888e-01,\n",
       "          3.93934816e-01, -1.33300293e-02,  9.59552050e-01,\n",
       "          1.57267544e-02, -9.25130546e-01, -1.93070397e-01,\n",
       "         -2.65474468e-01, -9.99908686e-01,  9.78813589e-01,\n",
       "          4.50990796e-01, -9.99000192e-01,  2.61028886e-01,\n",
       "         -6.55635715e-01,  5.67904651e-01,  1.85161605e-01,\n",
       "         -9.02370751e-01, -1.27933249e-01, -9.99364793e-01,\n",
       "         -4.35874254e-01,  9.97788668e-01, -3.16905618e-01,\n",
       "          9.62255657e-01,  2.90363461e-01, -9.50056612e-01,\n",
       "         -2.74001926e-01, -1.88334957e-02,  2.15330064e-01,\n",
       "          2.70551533e-01,  4.60419804e-01, -9.78495777e-01,\n",
       "          9.95513976e-01, -9.37972963e-01,  7.95150459e-01,\n",
       "          1.82261184e-01, -8.90302896e-01, -8.80954206e-01,\n",
       "         -3.77924085e-01,  7.56197199e-02, -3.23663175e-01,\n",
       "         -9.85925853e-01, -9.98959482e-01, -6.33487031e-02,\n",
       "         -9.98691916e-01, -8.01522493e-01, -9.85162318e-01,\n",
       "          2.47793108e-01, -4.02586192e-01,  1.03882484e-01,\n",
       "         -1.52591765e-01,  2.09508225e-01,  2.19179131e-02,\n",
       "          5.76248050e-01,  1.60194427e-01,  9.98519599e-01,\n",
       "         -4.26371425e-01, -2.99708366e-01, -3.94283712e-01,\n",
       "          9.93945956e-01,  8.77698839e-01,  1.11086413e-01,\n",
       "         -9.98374939e-01,  4.53649491e-01,  9.91885662e-01,\n",
       "          9.16699469e-01,  8.71487916e-01,  9.96536732e-01,\n",
       "         -9.29224253e-01, -1.06886625e-01,  3.26357156e-01,\n",
       "         -5.76192558e-01,  7.50881553e-01, -1.37595549e-01,\n",
       "          6.93647325e-01, -9.98303235e-01, -9.70150948e-01,\n",
       "         -3.42499688e-02, -9.87183690e-01,  9.42197084e-01,\n",
       "          3.47525001e-01,  2.69227356e-01,  4.51329827e-01,\n",
       "          3.19435894e-01, -2.51564771e-01, -8.42266917e-01,\n",
       "         -9.86535668e-01, -6.13613486e-01,  1.50641829e-01,\n",
       "         -3.69367152e-01, -1.50070697e-01, -9.99990940e-01,\n",
       "         -9.76706505e-01,  4.00266945e-01,  2.16105133e-01,\n",
       "          2.96438206e-02, -5.82238771e-02,  2.13437766e-01,\n",
       "         -8.18848848e-01,  9.99166667e-01, -8.80628765e-01,\n",
       "         -1.37994185e-01,  3.45508978e-02,  7.73414448e-02,\n",
       "          6.84457719e-02, -1.80267483e-01,  9.59138036e-01,\n",
       "          7.51162529e-01,  1.32814676e-01,  2.18579575e-01,\n",
       "         -4.58395153e-01, -2.02138461e-02]], dtype=float32)>,\n",
       " 'encoder_outputs': [<tf.Tensor: shape=(1, 128, 512), dtype=float32, numpy=\n",
       "  array([[[-0.06295878, -0.11105274, -0.09978311, ..., -0.6856477 ,\n",
       "           -0.00407178, -0.11052155],\n",
       "          [-1.2244797 ,  0.47480845,  1.4847262 , ...,  0.18143594,\n",
       "           -0.07059323,  0.51479685],\n",
       "          [-0.14552248,  0.69274664,  0.25901374, ..., -0.24963434,\n",
       "            0.3140014 ,  0.10638149],\n",
       "          ...,\n",
       "          [ 0.19391076, -1.0414371 ,  0.13234262, ...,  0.48335603,\n",
       "            0.05794933,  0.6919688 ],\n",
       "          [ 0.41838157, -1.4511168 ,  0.45226428, ...,  0.5396901 ,\n",
       "           -0.27019364,  0.7139553 ],\n",
       "          [ 0.8272977 , -1.2287502 ,  0.7695945 , ...,  0.36243713,\n",
       "            0.50261396,  0.5086677 ]]], dtype=float32)>,\n",
       "  <tf.Tensor: shape=(1, 128, 512), dtype=float32, numpy=\n",
       "  array([[[-0.06680916,  0.66667736, -0.57858807, ...,  0.05077536,\n",
       "            0.3313417 , -0.3822116 ],\n",
       "          [-1.150506  ,  0.8133279 ,  0.691646  , ...,  0.8562509 ,\n",
       "           -0.15926091,  0.3378433 ],\n",
       "          [-0.5660106 ,  1.2607758 ,  0.02074734, ...,  0.1895177 ,\n",
       "           -0.28771496,  0.27875477],\n",
       "          ...,\n",
       "          [ 0.12957212, -0.25208426, -0.2880353 , ...,  0.6268497 ,\n",
       "            0.26911408,  0.37923145],\n",
       "          [-0.01897683, -0.26435307,  0.02565517, ...,  0.8905941 ,\n",
       "           -0.04837506,  0.51593465],\n",
       "          [ 0.03459005, -0.2503771 ,  0.16714855, ...,  0.7022625 ,\n",
       "            0.52254725,  0.29193842]]], dtype=float32)>,\n",
       "  <tf.Tensor: shape=(1, 128, 512), dtype=float32, numpy=\n",
       "  array([[[-0.5085992 ,  0.5878279 , -0.2381639 , ...,  0.11439993,\n",
       "            0.14917366,  0.02905493],\n",
       "          [-0.9258715 ,  0.5012002 ,  0.45877153, ...,  0.9532698 ,\n",
       "           -0.2429714 ,  0.7496308 ],\n",
       "          [-0.8864125 ,  0.8503445 , -0.5377836 , ...,  0.22808173,\n",
       "           -0.40447384,  0.22392774],\n",
       "          ...,\n",
       "          [ 0.32143822, -0.17559353, -0.36333248, ...,  0.8035516 ,\n",
       "           -0.0785356 ,  0.24492803],\n",
       "          [-0.424572  , -0.5741008 , -0.12558874, ...,  0.79574525,\n",
       "           -0.15693247,  0.5434886 ],\n",
       "          [-0.91434944, -0.5743702 , -0.12035403, ...,  0.9594745 ,\n",
       "            0.14524855,  0.77415705]]], dtype=float32)>,\n",
       "  <tf.Tensor: shape=(1, 128, 512), dtype=float32, numpy=\n",
       "  array([[[-0.2894631 ,  0.3432125 ,  0.33231503, ...,  0.21300879,\n",
       "            0.71020824, -0.05771083],\n",
       "          [-0.28741956,  0.31981033, -0.23018478, ...,  0.58455044,\n",
       "           -0.21329702,  0.72692096],\n",
       "          [-0.66156983,  0.68876874, -0.87432986, ...,  0.10877332,\n",
       "           -0.26173213,  0.4785546 ],\n",
       "          ...,\n",
       "          [ 0.07634938, -0.14029206, -0.23991814, ...,  0.43109894,\n",
       "            0.9132698 ,  0.2148659 ],\n",
       "          [-0.44950542, -0.4125196 , -0.18450823, ...,  0.42683274,\n",
       "            0.57654595,  0.5835239 ],\n",
       "          [-1.012537  , -0.8638922 ,  0.05829375, ...,  0.33312175,\n",
       "            0.36520925,  0.94291836]]], dtype=float32)>],\n",
       " 'pooled_output': <tf.Tensor: shape=(1, 512), dtype=float32, numpy=\n",
       " array([[ 7.62628734e-01,  9.92809832e-01, -1.86118647e-01,\n",
       "          3.66738200e-01,  1.52337536e-01,  6.55044615e-01,\n",
       "          9.68115389e-01, -9.48626995e-01,  2.16128677e-03,\n",
       "         -9.87773120e-01,  6.84271902e-02, -9.76305902e-01,\n",
       "          2.99959064e-01, -9.99825835e-01,  2.18229815e-01,\n",
       "          4.57802534e-01,  1.28510118e-01,  2.62947142e-01,\n",
       "         -4.03386414e-01, -1.70664549e-01,  1.30040124e-01,\n",
       "         -1.20208293e-01, -9.34154868e-01,  2.52416223e-01,\n",
       "          9.80566800e-01,  9.85106528e-01, -3.83478224e-01,\n",
       "         -6.19304515e-02,  3.53127003e-01,  9.61802185e-01,\n",
       "          4.37849075e-01, -7.62053654e-02,  3.83451968e-01,\n",
       "         -3.99953127e-01,  3.88875008e-01, -7.05702901e-02,\n",
       "         -1.84963778e-01, -3.74650747e-01, -8.90866458e-01,\n",
       "         -2.45328307e-01,  1.48199890e-02, -4.44240235e-02,\n",
       "          8.27979743e-02, -6.79374814e-01,  1.38857469e-01,\n",
       "         -9.11615565e-02, -9.95979846e-01,  2.31296182e-01,\n",
       "          2.47623056e-01, -3.34113985e-01,  9.97976124e-01,\n",
       "         -3.57810736e-01,  9.73542213e-01, -6.24328673e-01,\n",
       "          3.07090998e-01,  1.60279900e-01, -1.44826144e-01,\n",
       "         -1.74540982e-01, -9.99539375e-01, -9.98977780e-01,\n",
       "          9.33455378e-02, -2.23835856e-01,  9.98142064e-01,\n",
       "         -9.03366804e-02,  2.15027243e-01, -9.98293877e-01,\n",
       "         -9.94671136e-05,  7.61683047e-01,  9.14676264e-02,\n",
       "          8.81131515e-02,  9.83048618e-01,  9.94190872e-01,\n",
       "         -1.54019773e-01, -9.71208930e-01, -5.48702776e-01,\n",
       "          1.66939408e-01, -2.95076460e-01,  9.85258698e-01,\n",
       "         -1.94796473e-01, -2.55096942e-01, -9.84164715e-01,\n",
       "         -1.20103866e-01,  9.94991958e-01, -6.19593382e-01,\n",
       "          9.92243409e-01, -9.99621987e-01,  3.39152247e-01,\n",
       "          1.73366949e-01, -4.22023237e-01, -1.96295083e-01,\n",
       "         -9.92719650e-01, -1.32573515e-01,  5.47868669e-01,\n",
       "         -9.88404810e-01, -7.75913179e-01, -6.40168548e-01,\n",
       "          9.49923038e-01, -8.66905898e-02, -2.01917425e-01,\n",
       "         -3.64012599e-01, -5.82452774e-01, -8.21321964e-01,\n",
       "         -9.77031052e-01,  2.20602289e-01, -2.86966145e-01,\n",
       "          6.63215518e-02,  9.90430832e-01,  2.88470805e-01,\n",
       "         -5.31456828e-01,  4.80063200e-01, -2.04793707e-01,\n",
       "          4.23700243e-01,  9.88471210e-01, -9.96448934e-01,\n",
       "         -2.51450658e-01,  3.83189738e-01,  4.96086419e-01,\n",
       "          9.17864382e-01, -1.37927476e-04,  9.97011960e-01,\n",
       "         -9.83851492e-01,  7.47368634e-02, -9.89918768e-01,\n",
       "          9.26546156e-01, -3.78851891e-01, -1.50043622e-01,\n",
       "         -1.97117299e-01,  1.94223747e-01, -5.58376350e-02,\n",
       "         -2.55652875e-01,  9.94940579e-01,  9.98858988e-01,\n",
       "          9.68728006e-01,  2.58114338e-01,  4.80596662e-01,\n",
       "         -9.06892121e-01,  9.66376185e-01, -9.91291821e-01,\n",
       "         -5.39943337e-01,  3.43862265e-01,  9.99972880e-01,\n",
       "          4.13956106e-01, -6.25356257e-01,  6.28901601e-01,\n",
       "         -2.16055304e-01,  9.91671622e-01, -9.60305035e-01,\n",
       "          7.08348930e-01, -1.32945493e-01, -2.14211702e-01,\n",
       "         -4.86384630e-02, -3.06360930e-01,  9.70956981e-01,\n",
       "          1.59732848e-01,  2.91158348e-01, -2.12716937e-01,\n",
       "         -8.49496424e-01,  9.12067115e-01,  3.97582531e-01,\n",
       "          5.38037606e-02, -1.95852414e-01,  2.95858711e-01,\n",
       "         -4.26905066e-01, -6.73463583e-01,  9.99596834e-01,\n",
       "          2.33254693e-02, -2.91729093e-01, -4.49446231e-01,\n",
       "          9.97131169e-01,  5.44568539e-01,  1.20992519e-01,\n",
       "         -9.88504827e-01,  9.60839927e-01, -9.53753948e-01,\n",
       "          6.92339182e-01,  4.48572189e-01,  1.41912058e-01,\n",
       "          3.84910166e-01,  9.99748468e-01,  6.78025126e-01,\n",
       "          9.82404768e-01, -4.95664738e-02,  9.94555056e-01,\n",
       "         -8.79284918e-01,  7.96881199e-01, -9.80414808e-01,\n",
       "         -9.71915781e-01, -7.69297183e-01, -1.29525542e-01,\n",
       "          9.96294141e-01,  1.78355873e-01, -5.21233261e-01,\n",
       "         -9.99227464e-01, -5.26328862e-01,  9.99501050e-01,\n",
       "          2.99652845e-01, -8.71599436e-01, -9.94495094e-01,\n",
       "          9.43198502e-01,  2.34441474e-01,  3.92223209e-01,\n",
       "         -3.84546608e-01,  2.37304866e-01,  1.72320098e-01,\n",
       "         -5.35275698e-01,  9.49814498e-01, -3.85073930e-01,\n",
       "          9.62388694e-01,  9.95478511e-01,  2.95416385e-01,\n",
       "          3.17406863e-01,  4.58250880e-01, -1.40972272e-01,\n",
       "          1.79100275e-01,  9.92426157e-01, -9.38459158e-01,\n",
       "          9.27345455e-01,  9.66441691e-01,  9.78223443e-01,\n",
       "          1.14648834e-01, -9.90929484e-01, -5.89736104e-01,\n",
       "         -9.50371742e-01,  1.49873510e-01,  8.51662219e-01,\n",
       "          3.26818109e-01, -9.81222093e-01,  5.63783288e-01,\n",
       "         -9.95843291e-01,  9.79191899e-01, -8.95176902e-02,\n",
       "         -2.06960570e-02, -1.32530034e-01,  1.38085067e-01,\n",
       "          9.64455545e-01,  2.11848617e-01, -7.90156424e-01,\n",
       "          4.17950273e-01,  3.46749365e-01, -8.07004869e-02,\n",
       "          9.49249327e-01,  9.99973595e-01, -8.92257750e-01,\n",
       "          9.40616071e-01,  6.99489772e-01,  6.78396404e-01,\n",
       "          9.95642483e-01,  1.28700599e-01,  9.60242391e-01,\n",
       "          2.53914837e-02, -2.69453585e-01, -6.14465214e-02,\n",
       "         -6.54865682e-01,  5.25082171e-01,  9.90854919e-01,\n",
       "         -1.64651901e-01, -1.15863666e-01, -9.98729169e-01,\n",
       "          7.50906765e-01,  8.23737323e-01, -5.44667482e-01,\n",
       "         -9.94099915e-01, -4.19651270e-01, -6.45315289e-01,\n",
       "         -3.14366408e-02,  9.98141408e-01,  4.87909853e-01,\n",
       "         -8.65992785e-01,  1.45727113e-01,  1.87730208e-01,\n",
       "          9.98382688e-01,  1.46596372e-01, -9.86287177e-01,\n",
       "          9.99789536e-01, -3.91179919e-01, -9.91036475e-01,\n",
       "          9.95312452e-01,  6.41607270e-02, -9.08387303e-01,\n",
       "         -1.58140734e-01, -9.91545558e-01, -9.99215126e-01,\n",
       "          8.03015172e-01,  9.98973846e-01, -3.32495928e-01,\n",
       "         -8.42095166e-02,  3.73414010e-01,  2.70734072e-01,\n",
       "         -9.89446282e-01, -9.99516368e-01, -7.70957708e-01,\n",
       "          6.21773154e-02,  4.36927378e-01,  9.24941659e-01,\n",
       "          9.97540414e-01, -9.98088777e-01, -2.45038763e-01,\n",
       "          9.74303305e-01, -7.94602707e-02,  9.93370712e-01,\n",
       "          9.99450982e-01, -7.07644463e-01, -8.30895543e-01,\n",
       "          8.98295581e-01, -1.01530805e-01, -1.71470359e-01,\n",
       "          4.74043310e-01,  9.95531023e-01, -8.80132914e-02,\n",
       "          4.70759988e-01,  2.22401708e-01,  7.33648777e-01,\n",
       "         -7.37256631e-02,  7.59146035e-01,  8.12294126e-01,\n",
       "          1.41527072e-01,  3.76018852e-01,  3.39545101e-01,\n",
       "          5.80030620e-01,  9.99790490e-01, -1.79860145e-01,\n",
       "          1.99038997e-01, -4.69460309e-01,  8.70560825e-01,\n",
       "         -2.37593740e-01, -4.47978765e-01, -8.65355730e-01,\n",
       "          7.65121102e-01, -9.90383208e-01,  3.82323861e-01,\n",
       "          6.48538649e-01,  2.66881227e-01, -3.27811897e-01,\n",
       "          7.71422923e-01, -1.29253045e-01, -3.89293194e-01,\n",
       "          6.93513080e-02, -8.94340575e-01, -9.60046113e-01,\n",
       "          3.71892393e-01,  9.99563515e-01, -3.90958712e-02,\n",
       "         -4.88997668e-01,  9.90934789e-01, -2.67010272e-01,\n",
       "          9.82963085e-01,  8.56696367e-01,  9.99372423e-01,\n",
       "         -1.92579329e-01,  9.96981084e-01,  2.10357577e-01,\n",
       "          2.84461230e-01,  9.65810195e-02,  2.44745061e-01,\n",
       "          9.76513445e-01,  4.05046940e-01, -6.81260288e-01,\n",
       "         -1.93610057e-01, -4.84825164e-01,  2.30696455e-01,\n",
       "         -9.99203503e-01, -9.56096351e-01, -5.79378307e-01,\n",
       "         -3.96880955e-02, -5.73906265e-02, -9.74193275e-01,\n",
       "         -9.73427534e-01,  1.00152537e-01,  2.40723163e-01,\n",
       "          1.62927881e-01,  2.42328763e-01,  9.43726122e-01,\n",
       "         -6.38533533e-02,  1.26871184e-01, -7.18344212e-01,\n",
       "         -9.92574334e-01, -7.11849406e-02, -1.46030858e-01,\n",
       "         -4.83590335e-01, -6.13327146e-01,  7.13953376e-01,\n",
       "         -1.53984725e-01, -9.97635961e-01,  2.99065202e-01,\n",
       "          9.98741210e-01,  8.56168747e-01,  3.11263442e-01,\n",
       "         -4.50186700e-01,  9.73553598e-01, -2.72070289e-01,\n",
       "         -1.30773261e-01,  9.94025290e-01, -9.99943256e-01,\n",
       "         -8.85474682e-02, -3.88364643e-01, -8.56454447e-02,\n",
       "          1.23220205e-01, -4.03664470e-01,  9.99085605e-01,\n",
       "          2.30324976e-02, -4.24665362e-01, -9.42262888e-01,\n",
       "          3.93934816e-01, -1.33300293e-02,  9.59552050e-01,\n",
       "          1.57267544e-02, -9.25130546e-01, -1.93070397e-01,\n",
       "         -2.65474468e-01, -9.99908686e-01,  9.78813589e-01,\n",
       "          4.50990796e-01, -9.99000192e-01,  2.61028886e-01,\n",
       "         -6.55635715e-01,  5.67904651e-01,  1.85161605e-01,\n",
       "         -9.02370751e-01, -1.27933249e-01, -9.99364793e-01,\n",
       "         -4.35874254e-01,  9.97788668e-01, -3.16905618e-01,\n",
       "          9.62255657e-01,  2.90363461e-01, -9.50056612e-01,\n",
       "         -2.74001926e-01, -1.88334957e-02,  2.15330064e-01,\n",
       "          2.70551533e-01,  4.60419804e-01, -9.78495777e-01,\n",
       "          9.95513976e-01, -9.37972963e-01,  7.95150459e-01,\n",
       "          1.82261184e-01, -8.90302896e-01, -8.80954206e-01,\n",
       "         -3.77924085e-01,  7.56197199e-02, -3.23663175e-01,\n",
       "         -9.85925853e-01, -9.98959482e-01, -6.33487031e-02,\n",
       "         -9.98691916e-01, -8.01522493e-01, -9.85162318e-01,\n",
       "          2.47793108e-01, -4.02586192e-01,  1.03882484e-01,\n",
       "         -1.52591765e-01,  2.09508225e-01,  2.19179131e-02,\n",
       "          5.76248050e-01,  1.60194427e-01,  9.98519599e-01,\n",
       "         -4.26371425e-01, -2.99708366e-01, -3.94283712e-01,\n",
       "          9.93945956e-01,  8.77698839e-01,  1.11086413e-01,\n",
       "         -9.98374939e-01,  4.53649491e-01,  9.91885662e-01,\n",
       "          9.16699469e-01,  8.71487916e-01,  9.96536732e-01,\n",
       "         -9.29224253e-01, -1.06886625e-01,  3.26357156e-01,\n",
       "         -5.76192558e-01,  7.50881553e-01, -1.37595549e-01,\n",
       "          6.93647325e-01, -9.98303235e-01, -9.70150948e-01,\n",
       "         -3.42499688e-02, -9.87183690e-01,  9.42197084e-01,\n",
       "          3.47525001e-01,  2.69227356e-01,  4.51329827e-01,\n",
       "          3.19435894e-01, -2.51564771e-01, -8.42266917e-01,\n",
       "         -9.86535668e-01, -6.13613486e-01,  1.50641829e-01,\n",
       "         -3.69367152e-01, -1.50070697e-01, -9.99990940e-01,\n",
       "         -9.76706505e-01,  4.00266945e-01,  2.16105133e-01,\n",
       "          2.96438206e-02, -5.82238771e-02,  2.13437766e-01,\n",
       "         -8.18848848e-01,  9.99166667e-01, -8.80628765e-01,\n",
       "         -1.37994185e-01,  3.45508978e-02,  7.73414448e-02,\n",
       "          6.84457719e-02, -1.80267483e-01,  9.59138036e-01,\n",
       "          7.51162529e-01,  1.32814676e-01,  2.18579575e-01,\n",
       "         -4.58395153e-01, -2.02138461e-02]], dtype=float32)>}"
      ]
     },
     "execution_count": 13,
     "metadata": {},
     "output_type": "execute_result"
    }
   ],
   "source": [
    "bert_model(text_preprocessed)"
   ]
  },
  {
   "cell_type": "code",
   "execution_count": 40,
   "metadata": {
    "pycharm": {
     "is_executing": true
    }
   },
   "outputs": [],
   "source": [
    "def build_classifier_model():\n",
    "    \n",
    "  text_input = tf.keras.layers.Input(shape=(), dtype=tf.string, name='text')\n",
    "  preprocessing_layer = hub.KerasLayer(tfhub_handle_preprocess, name='preprocessing')\n",
    "  encoder_inputs = preprocessing_layer(text_input)\n",
    "  encoder = hub.KerasLayer(tfhub_handle_encoder, trainable=True, name='BERT_encoder')\n",
    "  outputs = encoder(encoder_inputs)\n",
    "  net = outputs['pooled_output']\n",
    "  net = tf.keras.layers.Dropout(0.1)(net)\n",
    "  net = tf.keras.layers.Dense(1, activation=None, name='classifier')(net)\n",
    "  return tf.keras.Model(text_input, net)"
   ]
  },
  {
   "cell_type": "code",
   "execution_count": 41,
   "metadata": {
    "pycharm": {
     "is_executing": true
    }
   },
   "outputs": [],
   "source": [
    "classifier_model = build_classifier_model()"
   ]
  },
  {
   "cell_type": "code",
   "execution_count": 42,
   "metadata": {
    "pycharm": {
     "is_executing": true
    }
   },
   "outputs": [],
   "source": [
    "loss = tf.keras.losses.BinaryCrossentropy(from_logits=True)\n",
    "metrics = tf.metrics.BinaryAccuracy()"
   ]
  },
  {
   "cell_type": "code",
   "execution_count": 43,
   "metadata": {
    "pycharm": {
     "is_executing": true
    }
   },
   "outputs": [],
   "source": [
    "epochs = 5\n",
    "init_lr = 3e-5\n",
    "step = tf.Variable(0, trainable=False)\n",
    "schedule = tf.optimizers.schedules.PiecewiseConstantDecay(\n",
    "    [10000, 15000], [5e-5, 3e-5, 2e-5])\n",
    "wd = lambda: 1e-4 * schedule(step)\n",
    "\n",
    "optimizer = tfa.optimizers.AdamW(learning_rate=init_lr, weight_decay=wd)\n"
   ]
  },
  {
   "cell_type": "code",
   "execution_count": 44,
   "metadata": {
    "pycharm": {
     "is_executing": true
    }
   },
   "outputs": [],
   "source": [
    "classifier_model.compile(optimizer=optimizer,\n",
    "                         loss=loss,\n",
    "                         metrics=metrics)"
   ]
  },
  {
   "cell_type": "code",
   "execution_count": 45,
   "metadata": {},
   "outputs": [
    {
     "name": "stdout",
     "output_type": "stream",
     "text": [
      "Epoch 1/5\n",
      "265/265 [==============================] - 71s 253ms/step - loss: 0.0993 - binary_accuracy: 0.9656 - val_loss: 0.0707 - val_binary_accuracy: 0.9792\n",
      "Epoch 2/5\n",
      "265/265 [==============================] - 68s 256ms/step - loss: 0.0541 - binary_accuracy: 0.9820 - val_loss: 0.0673 - val_binary_accuracy: 0.9797\n",
      "Epoch 3/5\n",
      "265/265 [==============================] - 67s 253ms/step - loss: 0.0362 - binary_accuracy: 0.9885 - val_loss: 0.0698 - val_binary_accuracy: 0.9801\n",
      "Epoch 4/5\n",
      "265/265 [==============================] - 67s 251ms/step - loss: 0.0221 - binary_accuracy: 0.9923 - val_loss: 0.0874 - val_binary_accuracy: 0.9816\n",
      "Epoch 5/5\n",
      "265/265 [==============================] - 67s 252ms/step - loss: 0.0208 - binary_accuracy: 0.9936 - val_loss: 0.0828 - val_binary_accuracy: 0.9740\n"
     ]
    }
   ],
   "source": [
    "history = classifier_model.fit(X_train,y_train,validation_data=(X_test, y_test),epochs=epochs)"
   ]
  },
  {
   "cell_type": "code",
   "execution_count": null,
   "metadata": {},
   "outputs": [],
   "source": [
    "preds = classifier_model.predict(X_test)"
   ]
  },
  {
   "cell_type": "code",
   "execution_count": 48,
   "metadata": {},
   "outputs": [],
   "source": [
    "def conv_neg_pos(input):\n",
    "    if input < 0: return 0\n",
    "    else: return 1\n",
    "    "
   ]
  },
  {
   "cell_type": "code",
   "execution_count": 51,
   "metadata": {},
   "outputs": [],
   "source": [
    "preds = [conv_neg_pos(x) for x in preds]"
   ]
  },
  {
   "cell_type": "code",
   "execution_count": 57,
   "metadata": {},
   "outputs": [
    {
     "data": {
      "text/plain": [
       "0.9843897824030274"
      ]
     },
     "execution_count": 57,
     "metadata": {},
     "output_type": "execute_result"
    }
   ],
   "source": [
    "accuracy_score(y_test, preds)"
   ]
  },
  {
   "cell_type": "code",
   "execution_count": 63,
   "metadata": {},
   "outputs": [],
   "source": [
    "question_indices = list(filter(None,[i  if preds[i] == 1 else None for i in range(len(preds))]))"
   ]
  },
  {
   "cell_type": "code",
   "execution_count": 67,
   "metadata": {},
   "outputs": [],
   "source": [
    "questions = [X_test[q] for q in question_indices]"
   ]
  },
  {
   "cell_type": "code",
   "execution_count": 68,
   "metadata": {},
   "outputs": [
    {
     "data": {
      "text/plain": [
       "[\"does anyone want to talk to me on the phone?  I don't charge\",\n",
       " 'coexistence?',\n",
       " 'who, me?',\n",
       " \"who's a virgin?\",\n",
       " 'whats everyone up to?',\n",
       " \"10-19-adultsUser15: What's your sign?\",\n",
       " 'what 10-19-30sUser11',\n",
       " 'if he cant get a pro 11-09-40sUser7, why bother',\n",
       " 'whats going on 11-08-teensUser22...',\n",
       " \"hey! you aren't making fun of me are you?\",\n",
       " 'did i lose 11-06-adultsUser19?',\n",
       " 'So?',\n",
       " 'what happened to the girl w/ the same birthday as me??????',\n",
       " 'elbows? its not knees anymore??',\n",
       " 'thats why i dont cyber. whats the point unless you cant get any in person?',\n",
       " 'up in this biyatch? :)',\n",
       " 'anybody here know how to play heartbreaker on the electric guitar?',\n",
       " 'why 10-19-adultsUser35...there r plently  ladies in here with pink pussies',\n",
       " 'what an invention',\n",
       " 'any guys wanna chat with me',\n",
       " 'lookin good fella?',\n",
       " 'u need paper twoel?',\n",
       " 'why?',\n",
       " 'awww, 10-24-40sUser41 dont be mad?',\n",
       " 'you mean your cooter isnt leakin fruit punch?',\n",
       " 'huh?',\n",
       " 'what you do for fun',\n",
       " 'are you kiddin me',\n",
       " 'Hi 11-09-40sUser7.........how are you????',\n",
       " 'and ur problem there, 11-09-40sUser30???',\n",
       " '11-06-adultsUser5 is nakey?!?! :-o',\n",
       " 'who is 10-24-40sUser12?',\n",
       " 'hix?',\n",
       " 'did you talk to him like you were in a lot of pain 10-19-40sUser34',\n",
       " 'wanna bet he likes Jeter and Rothlisburger?',\n",
       " \"11-08-adultsUser102's here?\",\n",
       " 'what one word can do for some people...easy there 10-19-30sUser3...lol',\n",
       " 'you got in on that fight here in kansas?',\n",
       " 'howz arizona?',\n",
       " 'any guys wanna talk with f 19 tx ',\n",
       " 'any chics here like italians ',\n",
       " 'Ohio anybody???',\n",
       " 'dunno whats up with you 11-09-adultsUser54',\n",
       " 'whats ur major',\n",
       " 'wait til they beg for Mercy Huh 10-19-40sUser20 lol',\n",
       " \"10-19-30sUser31...you're handing out pictures?\",\n",
       " 'what song did hank willams sang on monday night football on tv',\n",
       " 'Guess what',\n",
       " 'how are you',\n",
       " 'any ladies wana chat with a canadaian',\n",
       " 'how are you?',\n",
       " '11-08-adultsUser102 do you not take private messages',\n",
       " 'When did I paste!?',\n",
       " 'whos the game against?',\n",
       " '30 right 10-19-adultsUser35?',\n",
       " 'what happened 11-08-40sUser18?',\n",
       " \"What kind of consultant are you....I'm a financial consultant\",\n",
       " \"who's calling who imaginary?\",\n",
       " 'wants you to what',\n",
       " 'one big lick?',\n",
       " 'hey 11-09-teensUser3.. did you see me at your house today.',\n",
       " 'what are u up to today 11-09-20sUser146',\n",
       " 'why?!?!?',\n",
       " 'Ms 10-19-30sUser1, what u research.',\n",
       " 'where is elle?',\n",
       " 'any cam?',\n",
       " 'they sang some of them beach songs, 11-09-40sUser52.. didnt they?',\n",
       " '11-09-20sUser156 can i ask you a few questions',\n",
       " 'still here 11-06-adultsUser35?',\n",
       " 'any girls wanna chat?  24/m',\n",
       " 'how have u been doing 11-08-adultsUser56..been awhile since chatted',\n",
       " \"Isn't she cutes\",\n",
       " 'is he your fiance??',\n",
       " 'so how do you unwind 10-19-30sUser9?',\n",
       " 'Do u hate me now',\n",
       " 'care to  me 10-19-30sUser17?',\n",
       " 'whats up every1',\n",
       " 'Ummm are you taking anything else with it 11-08-adultsUser56?',\n",
       " 'hi 11-09-40sUser49 how are you?',\n",
       " 'I have to leave?',\n",
       " 'is there a girl who can talk to me (17/F)? PM me if so.',\n",
       " 'whose the sick girl',\n",
       " 'is it crusty too ?',\n",
       " 'what took forever...the crap?',\n",
       " 'Oh, so what about UFC 11-09-20sUser114?',\n",
       " 'from washington??',\n",
       " '11-09-adultsUser0 did u get that job yet',\n",
       " 'whjat nationality are you 10-19-30sUser35?',\n",
       " 'Hi 11-06-adultsUser57 - where you from?',\n",
       " '11-06-adultsUser64 are you male or female? I always wondered?',\n",
       " 'who sang  \"Hey won\\'t you play another somebody done somebody wrong song?',\n",
       " \"i knew why didn't you\",\n",
       " '11-08-40sUser24 what was the name of lincolns famous speech ',\n",
       " 'So is 10-19-30sUser25 girl gonna help me redraft my pro-se petition? I know, she despises ex prisoners?',\n",
       " 'how r u doing?',\n",
       " 'Amy?',\n",
       " 'really??',\n",
       " 'do  your boobs  hang  low  do they  ',\n",
       " 'was dat a racist comment',\n",
       " 'anyone wanna chat pvt me',\n",
       " \"who's in prison?\",\n",
       " 'On what kinda pervs your lookin for',\n",
       " \"didn't they have a good bouncer???\",\n",
       " 'any girls want to talk dirty',\n",
       " 'wisconsin?',\n",
       " \"what's up dork?\",\n",
       " 'Then what do you like 10-26-teensUser86?',\n",
       " 'really?',\n",
       " 'any uk girls here TYPR 100',\n",
       " 'hows bout u',\n",
       " 'oh sorry 11-09-40sUser30......Hi.......how are u?????',\n",
       " \"i know but what's perverted about reading profiles?\",\n",
       " 'who says that?',\n",
       " 'whos kennedy??!!',\n",
       " 'oh no 10-19-30sUser19 are you from texas?',\n",
       " 'she work at shop  nbc?',\n",
       " 'what?',\n",
       " 'is this moving too fast for ya?',\n",
       " 'so.. where from 10-19-40sUser11?',\n",
       " 'What, no access to com in prison. If I was an ex prisoner would u hate me?',\n",
       " 'who 10-19-adultsUser23???',\n",
       " 'you wear them long 11-09-40sUser8?',\n",
       " 'whoopZ   sowwy ',\n",
       " 'hey 11-09-20sUser34..too good for wiltshire?',\n",
       " '11-08-40sUser29 ha?',\n",
       " 'whats up?',\n",
       " '11-09-40sUser39  ..   are you a high roller ?',\n",
       " 'cookies?',\n",
       " 'did u take it 11-08-adultsUser8',\n",
       " '  any 1 want cupper',\n",
       " 'where is your home',\n",
       " 'do you have msn',\n",
       " \"11-08-adultsUser101 don't PM without asking\",\n",
       " 'hmmmm was she singing Dixie lol',\n",
       " 'how are you 11-06-adultsUser129?',\n",
       " 'is there any single parents in herE?',\n",
       " '11-09-40sUser27  that why we  got a pool ',\n",
       " ' How are is everything',\n",
       " 'any girls wanna chat',\n",
       " 'you need naked?',\n",
       " 'anyone wanna chat with me',\n",
       " 'any austin texas area ladies in here',\n",
       " 'whatcha listening to 11-09-adultsUser11?',\n",
       " '??',\n",
       " 'anyone seen sweetshybbw??',\n",
       " 'anyone in or near maryland?',\n",
       " 'Do these pants make my ass look fat? \"No, your fat ass makes your ass look fat\"',\n",
       " 'rethinks???',\n",
       " 'what the shit is lucifuge?',\n",
       " 'what goes round and round and burns?',\n",
       " 'was supposed to but never happend why? ',\n",
       " 'awesome 10-19-40sUser46, whatcha doin?',\n",
       " 'HALO 10-19-adultsUser35..WTF ARE YOU TALKING ABOUT',\n",
       " 'Wtf.',\n",
       " 'how you doin 10-19-20sUser139',\n",
       " 'hartford so what town are we not having an affari in!??',\n",
       " 'talented & 11-09-adultsUser54?',\n",
       " 'any girls wanna chat with 24/m',\n",
       " 'fart?',\n",
       " 'which lady wants to pm me',\n",
       " 'not even to brad pit 10-19-adultsUser45',\n",
       " '10-19-40sUser13:   My computer has been sluggish.. Will this speed it up?',\n",
       " '11-09-teensUser190, are you out of the drawers?',\n",
       " '11-09-20sUser31 why arent you employed?',\n",
       " '11-09-20sUser156  so  how  u been  sweet  thing  ',\n",
       " 'in my home?',\n",
       " 'thats why im drinking away the withdrawal',\n",
       " \"Someone who doesn't realize it's supposed to be ApocalypseNow?\",\n",
       " 'hey whats up room ',\n",
       " 'any one want to chat',\n",
       " 'What the flippin heck.',\n",
       " 'do ya think this nic will work?',\n",
       " \"how's you 11-06-adultsUser58\",\n",
       " \"who's your wife?\",\n",
       " 'any kids 10-19-30sUser9....',\n",
       " 'what does the blind deaf retarded kid get for xmas?',\n",
       " 'huh?',\n",
       " 'United football club?',\n",
       " 'hey 11-09-teensUser72 u not from england by any chance are ya?',\n",
       " 'who u gonna kill 11-08-teensUser119?',\n",
       " 'agaibn?',\n",
       " '10-19-30sUser37 did you see the pic?',\n",
       " 'what you up to sassy?',\n",
       " '11-08-20sUser110??',\n",
       " 'You dont like my bot 11-08-20sUser31?',\n",
       " 'any 1 wanna chat',\n",
       " 'I am ugly?',\n",
       " 'what what 11-08-40sUser48....huh ;)',\n",
       " 'how are we all?',\n",
       " 'your off your rag??',\n",
       " 'you want to chat 11-06-adultsUser49?',\n",
       " 'livin lol nu >?',\n",
       " 'hey any girls won chat?',\n",
       " 'is a beanbag a racist comment?',\n",
       " 'whats that',\n",
       " '3 miles, 11-09-40sUser3?',\n",
       " 'besides 10-26-teensUser45 who is my friend',\n",
       " 'who wants to talk to me',\n",
       " 'Anyone wanna Whisper',\n",
       " 'promise?',\n",
       " 'hiya 10-19-adultsUser32 :) how r u babe? ',\n",
       " 'hey people any females want to chat to a guy from downunder?',\n",
       " 'big stick?   Is that a euphemism?',\n",
       " 'how big are them guns, texan??',\n",
       " 'wtf is this talk about elbows & knees!???',\n",
       " 'what we talkin about?',\n",
       " \"don't you have a sharpie?\",\n",
       " 'off off?',\n",
       " 'who is that 11-08-40sUser66',\n",
       " \"i'm on lunch, whats on the menu today?\",\n",
       " 'any mexican or black guyz in her im me',\n",
       " 'wha time is it in the mainland?',\n",
       " 'anyone in texas',\n",
       " 'any guys or gurls wanna talk with a really bored f 19 tx',\n",
       " 'dont cry baby.. why??',\n",
       " '11-09-adultsUser12 what you wanna chat about',\n",
       " 'who',\n",
       " 'doin good, 11-09-40sUser47 ... how are you dear?',\n",
       " \"10-19-adultsUser16.. I'm ok, how are you babe?\",\n",
       " '10-24-40sUser12?',\n",
       " 'question number 1: do you like to play with Dolls',\n",
       " 'why did you feel bad, 11-09-adultsUser44?',\n",
       " 'make it go away?',\n",
       " '10-24-40sUser52, where ya been all my life for the last hour?',\n",
       " 'well ya already said ya saw me nakey, so can we be nakey together?',\n",
       " 'oOo  congrats?? ',\n",
       " \"isn't everyone romantic everyday?\",\n",
       " '11-09-40sUser28  ok here , You ?']"
      ]
     },
     "execution_count": 68,
     "metadata": {},
     "output_type": "execute_result"
    }
   ],
   "source": [
    "questions"
   ]
  },
  {
   "cell_type": "code",
   "execution_count": null,
   "metadata": {},
   "outputs": [],
   "source": []
  }
 ],
 "metadata": {
  "kernelspec": {
   "display_name": "Python 3 (ipykernel)",
   "language": "python",
   "name": "python3"
  },
  "language_info": {
   "codemirror_mode": {
    "name": "ipython",
    "version": 3
   },
   "file_extension": ".py",
   "mimetype": "text/x-python",
   "name": "python",
   "nbconvert_exporter": "python",
   "pygments_lexer": "ipython3",
   "version": "3.10.0"
  }
 },
 "nbformat": 4,
 "nbformat_minor": 1
}