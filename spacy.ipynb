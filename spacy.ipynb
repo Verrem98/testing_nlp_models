{
 "cells": [
  {
   "cell_type": "code",
   "execution_count": 1,
   "metadata": {},
   "outputs": [
    {
     "name": "stdout",
     "output_type": "stream",
     "text": [
      "Collecting nl-core-news-sm==3.2.0\n",
      "  Downloading https://github.com/explosion/spacy-models/releases/download/nl_core_news_sm-3.2.0/nl_core_news_sm-3.2.0-py3-none-any.whl (17.4 MB)\n",
      "Requirement already satisfied: spacy<3.3.0,>=3.2.0 in c:\\users\\emiel\\appdata\\roaming\\python\\python39\\site-packages (from nl-core-news-sm==3.2.0) (3.2.4)\n",
      "Requirement already satisfied: jinja2 in c:\\users\\emiel\\anaconda3\\envs\\torchgpu\\lib\\site-packages (from spacy<3.3.0,>=3.2.0->nl-core-news-sm==3.2.0) (3.1.1)\n",
      "Requirement already satisfied: srsly<3.0.0,>=2.4.1 in c:\\users\\emiel\\anaconda3\\envs\\torchgpu\\lib\\site-packages (from spacy<3.3.0,>=3.2.0->nl-core-news-sm==3.2.0) (2.4.2)\n",
      "Requirement already satisfied: langcodes<4.0.0,>=3.2.0 in c:\\users\\emiel\\anaconda3\\envs\\torchgpu\\lib\\site-packages (from spacy<3.3.0,>=3.2.0->nl-core-news-sm==3.2.0) (3.3.0)\n",
      "Requirement already satisfied: catalogue<2.1.0,>=2.0.6 in c:\\users\\emiel\\anaconda3\\envs\\torchgpu\\lib\\site-packages (from spacy<3.3.0,>=3.2.0->nl-core-news-sm==3.2.0) (2.0.7)\n",
      "Requirement already satisfied: wasabi<1.1.0,>=0.8.1 in c:\\users\\emiel\\anaconda3\\envs\\torchgpu\\lib\\site-packages (from spacy<3.3.0,>=3.2.0->nl-core-news-sm==3.2.0) (0.9.1)\n",
      "Requirement already satisfied: typer<0.5.0,>=0.3.0 in c:\\users\\emiel\\anaconda3\\envs\\torchgpu\\lib\\site-packages (from spacy<3.3.0,>=3.2.0->nl-core-news-sm==3.2.0) (0.4.1)\n",
      "Requirement already satisfied: numpy>=1.15.0 in c:\\users\\emiel\\anaconda3\\envs\\torchgpu\\lib\\site-packages (from spacy<3.3.0,>=3.2.0->nl-core-news-sm==3.2.0) (1.22.3)\n",
      "Requirement already satisfied: setuptools in c:\\users\\emiel\\anaconda3\\envs\\torchgpu\\lib\\site-packages (from spacy<3.3.0,>=3.2.0->nl-core-news-sm==3.2.0) (62.0.0)\n",
      "Requirement already satisfied: requests<3.0.0,>=2.13.0 in c:\\users\\emiel\\anaconda3\\envs\\torchgpu\\lib\\site-packages (from spacy<3.3.0,>=3.2.0->nl-core-news-sm==3.2.0) (2.27.1)\n",
      "Requirement already satisfied: blis<0.8.0,>=0.4.0 in c:\\users\\emiel\\anaconda3\\envs\\torchgpu\\lib\\site-packages (from spacy<3.3.0,>=3.2.0->nl-core-news-sm==3.2.0) (0.7.7)\n",
      "Requirement already satisfied: spacy-loggers<2.0.0,>=1.0.0 in c:\\users\\emiel\\anaconda3\\envs\\torchgpu\\lib\\site-packages (from spacy<3.3.0,>=3.2.0->nl-core-news-sm==3.2.0) (1.0.2)\n",
      "Requirement already satisfied: pydantic!=1.8,!=1.8.1,<1.9.0,>=1.7.4 in c:\\users\\emiel\\anaconda3\\envs\\torchgpu\\lib\\site-packages (from spacy<3.3.0,>=3.2.0->nl-core-news-sm==3.2.0) (1.8.2)\n",
      "Requirement already satisfied: murmurhash<1.1.0,>=0.28.0 in c:\\users\\emiel\\anaconda3\\envs\\torchgpu\\lib\\site-packages (from spacy<3.3.0,>=3.2.0->nl-core-news-sm==3.2.0) (1.0.6)\n",
      "Requirement already satisfied: preshed<3.1.0,>=3.0.2 in c:\\users\\emiel\\anaconda3\\envs\\torchgpu\\lib\\site-packages (from spacy<3.3.0,>=3.2.0->nl-core-news-sm==3.2.0) (3.0.6)\n",
      "Requirement already satisfied: pathy>=0.3.5 in c:\\users\\emiel\\anaconda3\\envs\\torchgpu\\lib\\site-packages (from spacy<3.3.0,>=3.2.0->nl-core-news-sm==3.2.0) (0.6.1)\n",
      "Requirement already satisfied: cymem<2.1.0,>=2.0.2 in c:\\users\\emiel\\anaconda3\\envs\\torchgpu\\lib\\site-packages (from spacy<3.3.0,>=3.2.0->nl-core-news-sm==3.2.0) (2.0.6)\n",
      "Requirement already satisfied: thinc<8.1.0,>=8.0.12 in c:\\users\\emiel\\anaconda3\\envs\\torchgpu\\lib\\site-packages (from spacy<3.3.0,>=3.2.0->nl-core-news-sm==3.2.0) (8.0.15)\n",
      "Requirement already satisfied: tqdm<5.0.0,>=4.38.0 in c:\\users\\emiel\\anaconda3\\envs\\torchgpu\\lib\\site-packages (from spacy<3.3.0,>=3.2.0->nl-core-news-sm==3.2.0) (4.64.0)\n",
      "Requirement already satisfied: spacy-legacy<3.1.0,>=3.0.8 in c:\\users\\emiel\\anaconda3\\envs\\torchgpu\\lib\\site-packages (from spacy<3.3.0,>=3.2.0->nl-core-news-sm==3.2.0) (3.0.9)\n",
      "Requirement already satisfied: click<8.1.0 in c:\\users\\emiel\\anaconda3\\envs\\torchgpu\\lib\\site-packages (from spacy<3.3.0,>=3.2.0->nl-core-news-sm==3.2.0) (8.0.4)\n",
      "Requirement already satisfied: packaging>=20.0 in c:\\users\\emiel\\anaconda3\\envs\\torchgpu\\lib\\site-packages (from spacy<3.3.0,>=3.2.0->nl-core-news-sm==3.2.0) (21.3)\n",
      "Requirement already satisfied: colorama in c:\\users\\emiel\\anaconda3\\envs\\torchgpu\\lib\\site-packages (from click<8.1.0->spacy<3.3.0,>=3.2.0->nl-core-news-sm==3.2.0) (0.4.4)\n",
      "Requirement already satisfied: pyparsing!=3.0.5,>=2.0.2 in c:\\users\\emiel\\anaconda3\\envs\\torchgpu\\lib\\site-packages (from packaging>=20.0->spacy<3.3.0,>=3.2.0->nl-core-news-sm==3.2.0) (3.0.7)\n",
      "Requirement already satisfied: smart-open<6.0.0,>=5.0.0 in c:\\users\\emiel\\anaconda3\\envs\\torchgpu\\lib\\site-packages (from pathy>=0.3.5->spacy<3.3.0,>=3.2.0->nl-core-news-sm==3.2.0) (5.2.1)\n",
      "Requirement already satisfied: typing-extensions>=3.7.4.3 in c:\\users\\emiel\\anaconda3\\envs\\torchgpu\\lib\\site-packages (from pydantic!=1.8,!=1.8.1,<1.9.0,>=1.7.4->spacy<3.3.0,>=3.2.0->nl-core-news-sm==3.2.0) (4.1.1)\n",
      "Requirement already satisfied: certifi>=2017.4.17 in c:\\users\\emiel\\anaconda3\\envs\\torchgpu\\lib\\site-packages (from requests<3.0.0,>=2.13.0->spacy<3.3.0,>=3.2.0->nl-core-news-sm==3.2.0) (2021.10.8)\n",
      "Requirement already satisfied: urllib3<1.27,>=1.21.1 in c:\\users\\emiel\\anaconda3\\envs\\torchgpu\\lib\\site-packages (from requests<3.0.0,>=2.13.0->spacy<3.3.0,>=3.2.0->nl-core-news-sm==3.2.0) (1.26.9)\n",
      "Requirement already satisfied: idna<4,>=2.5 in c:\\users\\emiel\\anaconda3\\envs\\torchgpu\\lib\\site-packages (from requests<3.0.0,>=2.13.0->spacy<3.3.0,>=3.2.0->nl-core-news-sm==3.2.0) (3.3)\n",
      "Requirement already satisfied: charset-normalizer~=2.0.0 in c:\\users\\emiel\\anaconda3\\envs\\torchgpu\\lib\\site-packages (from requests<3.0.0,>=2.13.0->spacy<3.3.0,>=3.2.0->nl-core-news-sm==3.2.0) (2.0.12)\n",
      "Requirement already satisfied: MarkupSafe>=2.0 in c:\\users\\emiel\\anaconda3\\envs\\torchgpu\\lib\\site-packages (from jinja2->spacy<3.3.0,>=3.2.0->nl-core-news-sm==3.2.0) (2.1.1)\n",
      "[+] Download and installation successful\n",
      "You can now load the package via spacy.load('nl_core_news_sm')\n"
     ]
    },
    {
     "name": "stderr",
     "output_type": "stream",
     "text": [
      "WARNING: Ignoring invalid distribution -ensorflow (c:\\users\\emiel\\anaconda3\\envs\\torchgpu\\lib\\site-packages)\n",
      "WARNING: Ignoring invalid distribution -ensorflow (c:\\users\\emiel\\anaconda3\\envs\\torchgpu\\lib\\site-packages)\n",
      "WARNING: Ignoring invalid distribution -ensorflow (c:\\users\\emiel\\anaconda3\\envs\\torchgpu\\lib\\site-packages)\n",
      "WARNING: Ignoring invalid distribution -ensorflow (c:\\users\\emiel\\anaconda3\\envs\\torchgpu\\lib\\site-packages)\n",
      "WARNING: Ignoring invalid distribution -ensorflow (c:\\users\\emiel\\anaconda3\\envs\\torchgpu\\lib\\site-packages)\n"
     ]
    }
   ],
   "source": [
    "!python -m spacy download nl_core_news_sm\n"
   ]
  },
  {
   "cell_type": "code",
   "execution_count": 2,
   "metadata": {},
   "outputs": [
    {
     "data": {
      "text/plain": [
       "(True, True)"
      ]
     },
     "execution_count": 2,
     "metadata": {},
     "output_type": "execute_result"
    }
   ],
   "source": [
    "import pandas as pd\n",
    "from datetime import datetime\n",
    "import spacy\n",
    "import spacy_transformers\n",
    "from spacy.tokens import DocBin\n",
    "import torch\n",
    "from transformers import RobertaTokenizer, RobertaForSequenceClassification\n",
    "from datasets import load_dataset\n",
    "import nl_core_news_sm\n",
    "import re\n",
    "import numpy as np\n",
    "torch.cuda.is_available(), spacy.prefer_gpu()\n"
   ]
  },
  {
   "cell_type": "code",
   "execution_count": 3,
   "metadata": {},
   "outputs": [
    {
     "name": "stderr",
     "output_type": "stream",
     "text": [
      "Reusing dataset dutch_social (C:\\Users\\Emiel\\.cache\\huggingface\\datasets\\dutch_social\\dutch_social\\1.1.0\\4ec8e931ab57f4a4483ad4b418676a45a7f6fec1cf6506da7d99c97259f7e02f)\n"
     ]
    },
    {
     "data": {
      "application/vnd.jupyter.widget-view+json": {
       "model_id": "40ced6054391497fa62acc35d43977f8",
       "version_major": 2,
       "version_minor": 0
      },
      "text/plain": [
       "  0%|          | 0/3 [00:00<?, ?it/s]"
      ]
     },
     "metadata": {},
     "output_type": "display_data"
    }
   ],
   "source": [
    "dataset = load_dataset(\"dutch_social\")\n"
   ]
  },
  {
   "cell_type": "code",
   "execution_count": 4,
   "metadata": {},
   "outputs": [],
   "source": [
    "train = pd.DataFrame(dataset['train'])\n",
    "test = pd.DataFrame(dataset['test'])"
   ]
  },
  {
   "cell_type": "code",
   "execution_count": 5,
   "metadata": {},
   "outputs": [],
   "source": [
    "train = train.sample(frac = 1)\n",
    "test = test.sample(frac = 1)"
   ]
  },
  {
   "cell_type": "code",
   "execution_count": 6,
   "metadata": {},
   "outputs": [],
   "source": [
    "train['label'] = train['label'].astype(str)\n",
    "test['label'] = test['label'].astype(str)"
   ]
  },
  {
   "cell_type": "code",
   "execution_count": 7,
   "metadata": {},
   "outputs": [],
   "source": [
    "def remove_link(text):\n",
    "    return re.sub(r'https?:\\/\\/\\S*', '', text, flags=re.MULTILINE)\n",
    "\n",
    "def remove_username(text):\n",
    "    return re.sub('@[\\w]+','',text)\n",
    "\n",
    "def remove_retweet(text):\n",
    "    \n",
    "    return text.replace(\"RT : \", \"\")"
   ]
  },
  {
   "cell_type": "code",
   "execution_count": 8,
   "metadata": {},
   "outputs": [],
   "source": [
    "train['full_text'] = train['full_text'].apply(lambda x: remove_link(x))\n",
    "test['full_text'] = test['full_text'].apply(lambda x: remove_link(x))\n",
    "\n",
    "train['full_text'] = train['full_text'].apply(lambda x: remove_username(x))\n",
    "test['full_text'] = test['full_text'].apply(lambda x: remove_username(x))\n",
    "\n",
    "train['full_text'] = train['full_text'].apply(lambda x: remove_retweet(x))\n",
    "test['full_text'] = test['full_text'].apply(lambda x: remove_retweet(x))"
   ]
  },
  {
   "cell_type": "code",
   "execution_count": 9,
   "metadata": {},
   "outputs": [],
   "source": [
    "train_zip = list(zip(train['full_text'], train['label']))\n",
    "test_zip = list(zip(test['full_text'], test['label']))\n"
   ]
  },
  {
   "cell_type": "code",
   "execution_count": 10,
   "metadata": {},
   "outputs": [
    {
     "name": "stdout",
     "output_type": "stream",
     "text": [
      "Requirement already satisfied: spacy in c:\\users\\emiel\\appdata\\roaming\\python\\python39\\site-packages (3.2.4)\n",
      "Requirement already satisfied: langcodes<4.0.0,>=3.2.0 in c:\\users\\emiel\\anaconda3\\envs\\torchgpu\\lib\\site-packages (from spacy) (3.3.0)\n",
      "Requirement already satisfied: setuptools in c:\\users\\emiel\\anaconda3\\envs\\torchgpu\\lib\\site-packages (from spacy) (62.0.0)\n",
      "Requirement already satisfied: blis<0.8.0,>=0.4.0 in c:\\users\\emiel\\anaconda3\\envs\\torchgpu\\lib\\site-packages (from spacy) (0.7.7)\n",
      "Requirement already satisfied: srsly<3.0.0,>=2.4.1 in c:\\users\\emiel\\anaconda3\\envs\\torchgpu\\lib\\site-packages (from spacy) (2.4.2)\n",
      "Requirement already satisfied: spacy-legacy<3.1.0,>=3.0.8 in c:\\users\\emiel\\anaconda3\\envs\\torchgpu\\lib\\site-packages (from spacy) (3.0.9)\n",
      "Requirement already satisfied: requests<3.0.0,>=2.13.0 in c:\\users\\emiel\\anaconda3\\envs\\torchgpu\\lib\\site-packages (from spacy) (2.27.1)\n",
      "Requirement already satisfied: click<8.1.0 in c:\\users\\emiel\\anaconda3\\envs\\torchgpu\\lib\\site-packages (from spacy) (8.0.4)\n",
      "Requirement already satisfied: spacy-loggers<2.0.0,>=1.0.0 in c:\\users\\emiel\\anaconda3\\envs\\torchgpu\\lib\\site-packages (from spacy) (1.0.2)\n",
      "Requirement already satisfied: tqdm<5.0.0,>=4.38.0 in c:\\users\\emiel\\anaconda3\\envs\\torchgpu\\lib\\site-packages (from spacy) (4.64.0)\n",
      "Requirement already satisfied: murmurhash<1.1.0,>=0.28.0 in c:\\users\\emiel\\anaconda3\\envs\\torchgpu\\lib\\site-packages (from spacy) (1.0.6)\n",
      "Requirement already satisfied: jinja2 in c:\\users\\emiel\\anaconda3\\envs\\torchgpu\\lib\\site-packages (from spacy) (3.1.1)\n",
      "Requirement already satisfied: catalogue<2.1.0,>=2.0.6 in c:\\users\\emiel\\anaconda3\\envs\\torchgpu\\lib\\site-packages (from spacy) (2.0.7)\n",
      "Requirement already satisfied: packaging>=20.0 in c:\\users\\emiel\\anaconda3\\envs\\torchgpu\\lib\\site-packages (from spacy) (21.3)\n",
      "Requirement already satisfied: pathy>=0.3.5 in c:\\users\\emiel\\anaconda3\\envs\\torchgpu\\lib\\site-packages (from spacy) (0.6.1)\n",
      "Requirement already satisfied: numpy>=1.15.0 in c:\\users\\emiel\\anaconda3\\envs\\torchgpu\\lib\\site-packages (from spacy) (1.22.3)\n",
      "Requirement already satisfied: cymem<2.1.0,>=2.0.2 in c:\\users\\emiel\\anaconda3\\envs\\torchgpu\\lib\\site-packages (from spacy) (2.0.6)\n",
      "Requirement already satisfied: preshed<3.1.0,>=3.0.2 in c:\\users\\emiel\\anaconda3\\envs\\torchgpu\\lib\\site-packages (from spacy) (3.0.6)\n",
      "Requirement already satisfied: pydantic!=1.8,!=1.8.1,<1.9.0,>=1.7.4 in c:\\users\\emiel\\anaconda3\\envs\\torchgpu\\lib\\site-packages (from spacy) (1.8.2)\n",
      "Requirement already satisfied: wasabi<1.1.0,>=0.8.1 in c:\\users\\emiel\\anaconda3\\envs\\torchgpu\\lib\\site-packages (from spacy) (0.9.1)\n",
      "Requirement already satisfied: thinc<8.1.0,>=8.0.12 in c:\\users\\emiel\\anaconda3\\envs\\torchgpu\\lib\\site-packages (from spacy) (8.0.15)\n",
      "Requirement already satisfied: typer<0.5.0,>=0.3.0 in c:\\users\\emiel\\anaconda3\\envs\\torchgpu\\lib\\site-packages (from spacy) (0.4.1)\n",
      "Requirement already satisfied: colorama in c:\\users\\emiel\\anaconda3\\envs\\torchgpu\\lib\\site-packages (from click<8.1.0->spacy) (0.4.4)\n",
      "Requirement already satisfied: pyparsing!=3.0.5,>=2.0.2 in c:\\users\\emiel\\anaconda3\\envs\\torchgpu\\lib\\site-packages (from packaging>=20.0->spacy) (3.0.7)\n",
      "Requirement already satisfied: smart-open<6.0.0,>=5.0.0 in c:\\users\\emiel\\anaconda3\\envs\\torchgpu\\lib\\site-packages (from pathy>=0.3.5->spacy) (5.2.1)\n",
      "Requirement already satisfied: typing-extensions>=3.7.4.3 in c:\\users\\emiel\\anaconda3\\envs\\torchgpu\\lib\\site-packages (from pydantic!=1.8,!=1.8.1,<1.9.0,>=1.7.4->spacy) (4.1.1)\n",
      "Requirement already satisfied: charset-normalizer~=2.0.0 in c:\\users\\emiel\\anaconda3\\envs\\torchgpu\\lib\\site-packages (from requests<3.0.0,>=2.13.0->spacy) (2.0.12)\n",
      "Requirement already satisfied: idna<4,>=2.5 in c:\\users\\emiel\\anaconda3\\envs\\torchgpu\\lib\\site-packages (from requests<3.0.0,>=2.13.0->spacy) (3.3)\n",
      "Requirement already satisfied: urllib3<1.27,>=1.21.1 in c:\\users\\emiel\\anaconda3\\envs\\torchgpu\\lib\\site-packages (from requests<3.0.0,>=2.13.0->spacy) (1.26.9)\n",
      "Requirement already satisfied: certifi>=2017.4.17 in c:\\users\\emiel\\anaconda3\\envs\\torchgpu\\lib\\site-packages (from requests<3.0.0,>=2.13.0->spacy) (2021.10.8)\n",
      "Requirement already satisfied: MarkupSafe>=2.0 in c:\\users\\emiel\\anaconda3\\envs\\torchgpu\\lib\\site-packages (from jinja2->spacy) (2.1.1)\n"
     ]
    },
    {
     "name": "stderr",
     "output_type": "stream",
     "text": [
      "WARNING: Ignoring invalid distribution -ensorflow (c:\\users\\emiel\\anaconda3\\envs\\torchgpu\\lib\\site-packages)\n",
      "WARNING: Ignoring invalid distribution -ensorflow (c:\\users\\emiel\\anaconda3\\envs\\torchgpu\\lib\\site-packages)\n",
      "WARNING: Ignoring invalid distribution -ensorflow (c:\\users\\emiel\\anaconda3\\envs\\torchgpu\\lib\\site-packages)\n",
      "WARNING: Ignoring invalid distribution -ensorflow (c:\\users\\emiel\\anaconda3\\envs\\torchgpu\\lib\\site-packages)\n",
      "WARNING: Ignoring invalid distribution -ensorflow (c:\\users\\emiel\\anaconda3\\envs\\torchgpu\\lib\\site-packages)\n"
     ]
    },
    {
     "name": "stdout",
     "output_type": "stream",
     "text": [
      "Requirement already satisfied: spacy-transformers in c:\\users\\emiel\\anaconda3\\envs\\torchgpu\\lib\\site-packages (1.1.5)\n",
      "Requirement already satisfied: srsly<3.0.0,>=2.4.0 in c:\\users\\emiel\\anaconda3\\envs\\torchgpu\\lib\\site-packages (from spacy-transformers) (2.4.2)\n",
      "Requirement already satisfied: spacy-alignments<1.0.0,>=0.7.2 in c:\\users\\emiel\\appdata\\roaming\\python\\python39\\site-packages (from spacy-transformers) (0.8.5)\n",
      "Requirement already satisfied: torch>=1.6.0 in c:\\users\\emiel\\anaconda3\\envs\\torchgpu\\lib\\site-packages (from spacy-transformers) (1.11.0+cu113)\n",
      "Requirement already satisfied: transformers<4.18.0,>=3.4.0 in c:\\users\\emiel\\appdata\\roaming\\python\\python39\\site-packages (from spacy-transformers) (4.17.0)\n",
      "Requirement already satisfied: spacy<4.0.0,>=3.1.3 in c:\\users\\emiel\\appdata\\roaming\\python\\python39\\site-packages (from spacy-transformers) (3.2.4)\n",
      "Requirement already satisfied: setuptools in c:\\users\\emiel\\anaconda3\\envs\\torchgpu\\lib\\site-packages (from spacy<4.0.0,>=3.1.3->spacy-transformers) (62.0.0)\n",
      "Requirement already satisfied: numpy>=1.15.0 in c:\\users\\emiel\\anaconda3\\envs\\torchgpu\\lib\\site-packages (from spacy<4.0.0,>=3.1.3->spacy-transformers) (1.22.3)\n",
      "Requirement already satisfied: preshed<3.1.0,>=3.0.2 in c:\\users\\emiel\\anaconda3\\envs\\torchgpu\\lib\\site-packages (from spacy<4.0.0,>=3.1.3->spacy-transformers) (3.0.6)\n",
      "Requirement already satisfied: cymem<2.1.0,>=2.0.2 in c:\\users\\emiel\\anaconda3\\envs\\torchgpu\\lib\\site-packages (from spacy<4.0.0,>=3.1.3->spacy-transformers) (2.0.6)\n",
      "Requirement already satisfied: spacy-legacy<3.1.0,>=3.0.8 in c:\\users\\emiel\\anaconda3\\envs\\torchgpu\\lib\\site-packages (from spacy<4.0.0,>=3.1.3->spacy-transformers) (3.0.9)\n",
      "Requirement already satisfied: thinc<8.1.0,>=8.0.12 in c:\\users\\emiel\\anaconda3\\envs\\torchgpu\\lib\\site-packages (from spacy<4.0.0,>=3.1.3->spacy-transformers) (8.0.15)\n",
      "Requirement already satisfied: wasabi<1.1.0,>=0.8.1 in c:\\users\\emiel\\anaconda3\\envs\\torchgpu\\lib\\site-packages (from spacy<4.0.0,>=3.1.3->spacy-transformers) (0.9.1)\n",
      "Requirement already satisfied: pathy>=0.3.5 in c:\\users\\emiel\\anaconda3\\envs\\torchgpu\\lib\\site-packages (from spacy<4.0.0,>=3.1.3->spacy-transformers) (0.6.1)\n",
      "Requirement already satisfied: catalogue<2.1.0,>=2.0.6 in c:\\users\\emiel\\anaconda3\\envs\\torchgpu\\lib\\site-packages (from spacy<4.0.0,>=3.1.3->spacy-transformers) (2.0.7)\n",
      "Requirement already satisfied: blis<0.8.0,>=0.4.0 in c:\\users\\emiel\\anaconda3\\envs\\torchgpu\\lib\\site-packages (from spacy<4.0.0,>=3.1.3->spacy-transformers) (0.7.7)\n",
      "Requirement already satisfied: pydantic!=1.8,!=1.8.1,<1.9.0,>=1.7.4 in c:\\users\\emiel\\anaconda3\\envs\\torchgpu\\lib\\site-packages (from spacy<4.0.0,>=3.1.3->spacy-transformers) (1.8.2)\n",
      "Requirement already satisfied: requests<3.0.0,>=2.13.0 in c:\\users\\emiel\\anaconda3\\envs\\torchgpu\\lib\\site-packages (from spacy<4.0.0,>=3.1.3->spacy-transformers) (2.27.1)\n",
      "Requirement already satisfied: murmurhash<1.1.0,>=0.28.0 in c:\\users\\emiel\\anaconda3\\envs\\torchgpu\\lib\\site-packages (from spacy<4.0.0,>=3.1.3->spacy-transformers) (1.0.6)\n",
      "Requirement already satisfied: tqdm<5.0.0,>=4.38.0 in c:\\users\\emiel\\anaconda3\\envs\\torchgpu\\lib\\site-packages (from spacy<4.0.0,>=3.1.3->spacy-transformers) (4.64.0)\n",
      "Requirement already satisfied: langcodes<4.0.0,>=3.2.0 in c:\\users\\emiel\\anaconda3\\envs\\torchgpu\\lib\\site-packages (from spacy<4.0.0,>=3.1.3->spacy-transformers) (3.3.0)\n",
      "Requirement already satisfied: typer<0.5.0,>=0.3.0 in c:\\users\\emiel\\anaconda3\\envs\\torchgpu\\lib\\site-packages (from spacy<4.0.0,>=3.1.3->spacy-transformers) (0.4.1)\n",
      "Requirement already satisfied: click<8.1.0 in c:\\users\\emiel\\anaconda3\\envs\\torchgpu\\lib\\site-packages (from spacy<4.0.0,>=3.1.3->spacy-transformers) (8.0.4)\n",
      "Requirement already satisfied: packaging>=20.0 in c:\\users\\emiel\\anaconda3\\envs\\torchgpu\\lib\\site-packages (from spacy<4.0.0,>=3.1.3->spacy-transformers) (21.3)\n",
      "Requirement already satisfied: jinja2 in c:\\users\\emiel\\anaconda3\\envs\\torchgpu\\lib\\site-packages (from spacy<4.0.0,>=3.1.3->spacy-transformers) (3.1.1)\n",
      "Requirement already satisfied: spacy-loggers<2.0.0,>=1.0.0 in c:\\users\\emiel\\anaconda3\\envs\\torchgpu\\lib\\site-packages (from spacy<4.0.0,>=3.1.3->spacy-transformers) (1.0.2)\n",
      "Requirement already satisfied: colorama in c:\\users\\emiel\\anaconda3\\envs\\torchgpu\\lib\\site-packages (from click<8.1.0->spacy<4.0.0,>=3.1.3->spacy-transformers) (0.4.4)\n",
      "Requirement already satisfied: pyparsing!=3.0.5,>=2.0.2 in c:\\users\\emiel\\anaconda3\\envs\\torchgpu\\lib\\site-packages (from packaging>=20.0->spacy<4.0.0,>=3.1.3->spacy-transformers) (3.0.7)\n",
      "Requirement already satisfied: smart-open<6.0.0,>=5.0.0 in c:\\users\\emiel\\anaconda3\\envs\\torchgpu\\lib\\site-packages (from pathy>=0.3.5->spacy<4.0.0,>=3.1.3->spacy-transformers) (5.2.1)\n",
      "Requirement already satisfied: typing-extensions>=3.7.4.3 in c:\\users\\emiel\\anaconda3\\envs\\torchgpu\\lib\\site-packages (from pydantic!=1.8,!=1.8.1,<1.9.0,>=1.7.4->spacy<4.0.0,>=3.1.3->spacy-transformers) (4.1.1)\n",
      "Requirement already satisfied: idna<4,>=2.5 in c:\\users\\emiel\\anaconda3\\envs\\torchgpu\\lib\\site-packages (from requests<3.0.0,>=2.13.0->spacy<4.0.0,>=3.1.3->spacy-transformers) (3.3)\n",
      "Requirement already satisfied: urllib3<1.27,>=1.21.1 in c:\\users\\emiel\\anaconda3\\envs\\torchgpu\\lib\\site-packages (from requests<3.0.0,>=2.13.0->spacy<4.0.0,>=3.1.3->spacy-transformers) (1.26.9)\n",
      "Requirement already satisfied: charset-normalizer~=2.0.0 in c:\\users\\emiel\\anaconda3\\envs\\torchgpu\\lib\\site-packages (from requests<3.0.0,>=2.13.0->spacy<4.0.0,>=3.1.3->spacy-transformers) (2.0.12)\n",
      "Requirement already satisfied: certifi>=2017.4.17 in c:\\users\\emiel\\anaconda3\\envs\\torchgpu\\lib\\site-packages (from requests<3.0.0,>=2.13.0->spacy<4.0.0,>=3.1.3->spacy-transformers) (2021.10.8)\n",
      "Requirement already satisfied: pyyaml>=5.1 in c:\\users\\emiel\\anaconda3\\envs\\torchgpu\\lib\\site-packages (from transformers<4.18.0,>=3.4.0->spacy-transformers) (6.0)\n",
      "Requirement already satisfied: sacremoses in c:\\users\\emiel\\anaconda3\\envs\\torchgpu\\lib\\site-packages (from transformers<4.18.0,>=3.4.0->spacy-transformers) (0.0.49)\n",
      "Requirement already satisfied: filelock in c:\\users\\emiel\\anaconda3\\envs\\torchgpu\\lib\\site-packages (from transformers<4.18.0,>=3.4.0->spacy-transformers) (3.6.0)\n",
      "Requirement already satisfied: tokenizers!=0.11.3,>=0.11.1 in c:\\users\\emiel\\anaconda3\\envs\\torchgpu\\lib\\site-packages (from transformers<4.18.0,>=3.4.0->spacy-transformers) (0.11.6)\n",
      "Requirement already satisfied: regex!=2019.12.17 in c:\\users\\emiel\\anaconda3\\envs\\torchgpu\\lib\\site-packages (from transformers<4.18.0,>=3.4.0->spacy-transformers) (2022.3.15)\n",
      "Requirement already satisfied: huggingface-hub<1.0,>=0.1.0 in c:\\users\\emiel\\anaconda3\\envs\\torchgpu\\lib\\site-packages (from transformers<4.18.0,>=3.4.0->spacy-transformers) (0.5.1)\n",
      "Requirement already satisfied: MarkupSafe>=2.0 in c:\\users\\emiel\\anaconda3\\envs\\torchgpu\\lib\\site-packages (from jinja2->spacy<4.0.0,>=3.1.3->spacy-transformers) (2.1.1)\n",
      "Requirement already satisfied: joblib in c:\\users\\emiel\\anaconda3\\envs\\torchgpu\\lib\\site-packages (from sacremoses->transformers<4.18.0,>=3.4.0->spacy-transformers) (1.1.0)\n",
      "Requirement already satisfied: six in c:\\users\\emiel\\anaconda3\\envs\\torchgpu\\lib\\site-packages (from sacremoses->transformers<4.18.0,>=3.4.0->spacy-transformers) (1.16.0)\n"
     ]
    },
    {
     "name": "stderr",
     "output_type": "stream",
     "text": [
      "WARNING: Ignoring invalid distribution -ensorflow (c:\\users\\emiel\\anaconda3\\envs\\torchgpu\\lib\\site-packages)\n",
      "WARNING: Ignoring invalid distribution -ensorflow (c:\\users\\emiel\\anaconda3\\envs\\torchgpu\\lib\\site-packages)\n",
      "WARNING: Ignoring invalid distribution -ensorflow (c:\\users\\emiel\\anaconda3\\envs\\torchgpu\\lib\\site-packages)\n",
      "WARNING: Ignoring invalid distribution -ensorflow (c:\\users\\emiel\\anaconda3\\envs\\torchgpu\\lib\\site-packages)\n",
      "WARNING: Ignoring invalid distribution -ensorflow (c:\\users\\emiel\\anaconda3\\envs\\torchgpu\\lib\\site-packages)\n"
     ]
    }
   ],
   "source": [
    "!pip install spacy\n",
    "!pip install spacy-transformers"
   ]
  },
  {
   "cell_type": "code",
   "execution_count": 11,
   "metadata": {},
   "outputs": [],
   "source": [
    "nlp=spacy.load(\"nl_core_news_sm\")\n"
   ]
  },
  {
   "cell_type": "code",
   "execution_count": 12,
   "metadata": {},
   "outputs": [],
   "source": [
    "def document(data):\n",
    "  text = []\n",
    "  for doc, label in nlp.pipe(data, as_tuples = True):\n",
    "    if (label=='0'):\n",
    "      doc.cats['0'] = 1\n",
    "      doc.cats['1'] = 0\n",
    "      doc.cats['2']  = 0\n",
    "    elif (label=='1'):\n",
    "      doc.cats['0'] = 0\n",
    "      doc.cats['1'] = 1\n",
    "      doc.cats['2']  = 0\n",
    "    elif (label=='2'):\n",
    "      doc.cats['0'] = 0\n",
    "      doc.cats['1'] = 0\n",
    "      doc.cats['2']  = 1\n",
    "    text.append(doc)\n",
    "  \n",
    "  return(text)"
   ]
  },
  {
   "cell_type": "code",
   "execution_count": null,
   "metadata": {},
   "outputs": [],
   "source": [
    "train_docs = document(train_zip)\n",
    "doc_bin = DocBin(docs = train_docs)\n",
    "doc_bin.to_disk(\"train.spacy\")"
   ]
  },
  {
   "cell_type": "code",
   "execution_count": null,
   "metadata": {},
   "outputs": [],
   "source": [
    "test_docs = document(test_zip)\n",
    "doc_bin = DocBin(docs = test_docs)\n",
    "doc_bin.to_disk(\"valid.spacy\")"
   ]
  },
  {
   "cell_type": "code",
   "execution_count": null,
   "metadata": {},
   "outputs": [],
   "source": [
    "!python -m spacy init fill-config ./base_config.cfg ./config.cfg\n"
   ]
  },
  {
   "cell_type": "code",
   "execution_count": null,
   "metadata": {},
   "outputs": [],
   "source": [
    "start_time = datetime.now()\n",
    "\n",
    "!python -m spacy train config.cfg --verbose  --gpu-id 0 --output ./output_updated\n",
    "\n",
    "end_time = datetime.now()\n",
    "\n",
    "print('Duration: {}'.format(end_time - start_time))"
   ]
  },
  {
   "cell_type": "code",
   "execution_count": null,
   "metadata": {},
   "outputs": [],
   "source": [
    "convert_dict = {0:'negatief', 1:'neutraal', 2:'positief'}"
   ]
  },
  {
   "cell_type": "code",
   "execution_count": null,
   "metadata": {},
   "outputs": [],
   "source": [
    "#Test the data from the best model\n",
    "nlp = spacy.load(\"output_updated/model-best\")\n",
    "demo = nlp(\"goed gedaan makker\")\n",
    "print(convert_dict[np.argmax(list(demo.cats.values()))])"
   ]
  },
  {
   "cell_type": "code",
   "execution_count": null,
   "metadata": {},
   "outputs": [],
   "source": [
    "#Test the data from the best model\n",
    "nlp = spacy.load(\"output_updated/model-best\")\n",
    "demo = nlp(\"dat heb je bijzonder slecht gedaan, idioot\")\n",
    "print(convert_dict[np.argmax(list(demo.cats.values()))])"
   ]
  },
  {
   "cell_type": "code",
   "execution_count": null,
   "metadata": {},
   "outputs": [],
   "source": []
  }
 ],
 "metadata": {
  "kernelspec": {
   "display_name": "Python 3 (ipykernel)",
   "language": "python",
   "name": "python3"
  },
  "language_info": {
   "codemirror_mode": {
    "name": "ipython",
    "version": 3
   },
   "file_extension": ".py",
   "mimetype": "text/x-python",
   "name": "python",
   "nbconvert_exporter": "python",
   "pygments_lexer": "ipython3",
   "version": "3.9.0"
  }
 },
 "nbformat": 4,
 "nbformat_minor": 1
}