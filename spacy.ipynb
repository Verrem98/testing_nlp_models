{
 "cells": [
  {
   "cell_type": "code",
   "execution_count": 1,
   "metadata": {
    "pycharm": {
     "is_executing": true
    }
   },
   "outputs": [
    {
     "name": "stdout",
     "output_type": "stream",
     "text": [
      "Collecting nl-core-news-sm==3.2.0\n",
      "  Downloading https://github.com/explosion/spacy-models/releases/download/nl_core_news_sm-3.2.0/nl_core_news_sm-3.2.0-py3-none-any.whl (17.4 MB)\n",
      "Requirement already satisfied: spacy<3.3.0,>=3.2.0 in c:\\users\\emiel\\appdata\\roaming\\python\\python39\\site-packages (from nl-core-news-sm==3.2.0) (3.2.4)\n",
      "Requirement already satisfied: typer<0.5.0,>=0.3.0 in c:\\users\\emiel\\anaconda3\\envs\\torchgpu\\lib\\site-packages (from spacy<3.3.0,>=3.2.0->nl-core-news-sm==3.2.0) (0.4.1)\n",
      "Requirement already satisfied: blis<0.8.0,>=0.4.0 in c:\\users\\emiel\\anaconda3\\envs\\torchgpu\\lib\\site-packages (from spacy<3.3.0,>=3.2.0->nl-core-news-sm==3.2.0) (0.7.7)\n",
      "Requirement already satisfied: click<8.1.0 in c:\\users\\emiel\\anaconda3\\envs\\torchgpu\\lib\\site-packages (from spacy<3.3.0,>=3.2.0->nl-core-news-sm==3.2.0) (8.0.4)\n",
      "Requirement already satisfied: pydantic!=1.8,!=1.8.1,<1.9.0,>=1.7.4 in c:\\users\\emiel\\anaconda3\\envs\\torchgpu\\lib\\site-packages (from spacy<3.3.0,>=3.2.0->nl-core-news-sm==3.2.0) (1.8.2)\n",
      "Requirement already satisfied: cymem<2.1.0,>=2.0.2 in c:\\users\\emiel\\anaconda3\\envs\\torchgpu\\lib\\site-packages (from spacy<3.3.0,>=3.2.0->nl-core-news-sm==3.2.0) (2.0.6)\n",
      "Requirement already satisfied: packaging>=20.0 in c:\\users\\emiel\\anaconda3\\envs\\torchgpu\\lib\\site-packages (from spacy<3.3.0,>=3.2.0->nl-core-news-sm==3.2.0) (21.3)\n",
      "Requirement already satisfied: thinc<8.1.0,>=8.0.12 in c:\\users\\emiel\\anaconda3\\envs\\torchgpu\\lib\\site-packages (from spacy<3.3.0,>=3.2.0->nl-core-news-sm==3.2.0) (8.0.15)\n",
      "Requirement already satisfied: preshed<3.1.0,>=3.0.2 in c:\\users\\emiel\\anaconda3\\envs\\torchgpu\\lib\\site-packages (from spacy<3.3.0,>=3.2.0->nl-core-news-sm==3.2.0) (3.0.6)\n",
      "Requirement already satisfied: spacy-loggers<2.0.0,>=1.0.0 in c:\\users\\emiel\\anaconda3\\envs\\torchgpu\\lib\\site-packages (from spacy<3.3.0,>=3.2.0->nl-core-news-sm==3.2.0) (1.0.2)\n",
      "Requirement already satisfied: numpy>=1.15.0 in c:\\users\\emiel\\anaconda3\\envs\\torchgpu\\lib\\site-packages (from spacy<3.3.0,>=3.2.0->nl-core-news-sm==3.2.0) (1.22.3)\n",
      "Requirement already satisfied: tqdm<5.0.0,>=4.38.0 in c:\\users\\emiel\\anaconda3\\envs\\torchgpu\\lib\\site-packages (from spacy<3.3.0,>=3.2.0->nl-core-news-sm==3.2.0) (4.64.0)\n",
      "Requirement already satisfied: catalogue<2.1.0,>=2.0.6 in c:\\users\\emiel\\anaconda3\\envs\\torchgpu\\lib\\site-packages (from spacy<3.3.0,>=3.2.0->nl-core-news-sm==3.2.0) (2.0.7)\n",
      "Requirement already satisfied: murmurhash<1.1.0,>=0.28.0 in c:\\users\\emiel\\anaconda3\\envs\\torchgpu\\lib\\site-packages (from spacy<3.3.0,>=3.2.0->nl-core-news-sm==3.2.0) (1.0.6)\n",
      "Requirement already satisfied: requests<3.0.0,>=2.13.0 in c:\\users\\emiel\\anaconda3\\envs\\torchgpu\\lib\\site-packages (from spacy<3.3.0,>=3.2.0->nl-core-news-sm==3.2.0) (2.27.1)\n",
      "Requirement already satisfied: wasabi<1.1.0,>=0.8.1 in c:\\users\\emiel\\anaconda3\\envs\\torchgpu\\lib\\site-packages (from spacy<3.3.0,>=3.2.0->nl-core-news-sm==3.2.0) (0.9.1)\n",
      "Requirement already satisfied: setuptools in c:\\users\\emiel\\anaconda3\\envs\\torchgpu\\lib\\site-packages (from spacy<3.3.0,>=3.2.0->nl-core-news-sm==3.2.0) (62.0.0)\n",
      "Requirement already satisfied: langcodes<4.0.0,>=3.2.0 in c:\\users\\emiel\\anaconda3\\envs\\torchgpu\\lib\\site-packages (from spacy<3.3.0,>=3.2.0->nl-core-news-sm==3.2.0) (3.3.0)\n",
      "Requirement already satisfied: srsly<3.0.0,>=2.4.1 in c:\\users\\emiel\\anaconda3\\envs\\torchgpu\\lib\\site-packages (from spacy<3.3.0,>=3.2.0->nl-core-news-sm==3.2.0) (2.4.2)\n",
      "Requirement already satisfied: jinja2 in c:\\users\\emiel\\anaconda3\\envs\\torchgpu\\lib\\site-packages (from spacy<3.3.0,>=3.2.0->nl-core-news-sm==3.2.0) (3.1.1)\n",
      "Requirement already satisfied: pathy>=0.3.5 in c:\\users\\emiel\\anaconda3\\envs\\torchgpu\\lib\\site-packages (from spacy<3.3.0,>=3.2.0->nl-core-news-sm==3.2.0) (0.6.1)\n",
      "Requirement already satisfied: spacy-legacy<3.1.0,>=3.0.8 in c:\\users\\emiel\\anaconda3\\envs\\torchgpu\\lib\\site-packages (from spacy<3.3.0,>=3.2.0->nl-core-news-sm==3.2.0) (3.0.9)\n",
      "Requirement already satisfied: colorama in c:\\users\\emiel\\anaconda3\\envs\\torchgpu\\lib\\site-packages (from click<8.1.0->spacy<3.3.0,>=3.2.0->nl-core-news-sm==3.2.0) (0.4.4)\n",
      "Requirement already satisfied: pyparsing!=3.0.5,>=2.0.2 in c:\\users\\emiel\\anaconda3\\envs\\torchgpu\\lib\\site-packages (from packaging>=20.0->spacy<3.3.0,>=3.2.0->nl-core-news-sm==3.2.0) (3.0.7)\n",
      "Requirement already satisfied: smart-open<6.0.0,>=5.0.0 in c:\\users\\emiel\\anaconda3\\envs\\torchgpu\\lib\\site-packages (from pathy>=0.3.5->spacy<3.3.0,>=3.2.0->nl-core-news-sm==3.2.0) (5.2.1)\n",
      "Requirement already satisfied: typing-extensions>=3.7.4.3 in c:\\users\\emiel\\anaconda3\\envs\\torchgpu\\lib\\site-packages (from pydantic!=1.8,!=1.8.1,<1.9.0,>=1.7.4->spacy<3.3.0,>=3.2.0->nl-core-news-sm==3.2.0) (4.1.1)\n",
      "Requirement already satisfied: charset-normalizer~=2.0.0 in c:\\users\\emiel\\anaconda3\\envs\\torchgpu\\lib\\site-packages (from requests<3.0.0,>=2.13.0->spacy<3.3.0,>=3.2.0->nl-core-news-sm==3.2.0) (2.0.12)\n",
      "Requirement already satisfied: urllib3<1.27,>=1.21.1 in c:\\users\\emiel\\anaconda3\\envs\\torchgpu\\lib\\site-packages (from requests<3.0.0,>=2.13.0->spacy<3.3.0,>=3.2.0->nl-core-news-sm==3.2.0) (1.26.9)\n",
      "Requirement already satisfied: certifi>=2017.4.17 in c:\\users\\emiel\\anaconda3\\envs\\torchgpu\\lib\\site-packages (from requests<3.0.0,>=2.13.0->spacy<3.3.0,>=3.2.0->nl-core-news-sm==3.2.0) (2021.10.8)\n",
      "Requirement already satisfied: idna<4,>=2.5 in c:\\users\\emiel\\anaconda3\\envs\\torchgpu\\lib\\site-packages (from requests<3.0.0,>=2.13.0->spacy<3.3.0,>=3.2.0->nl-core-news-sm==3.2.0) (3.3)\n",
      "Requirement already satisfied: MarkupSafe>=2.0 in c:\\users\\emiel\\anaconda3\\envs\\torchgpu\\lib\\site-packages (from jinja2->spacy<3.3.0,>=3.2.0->nl-core-news-sm==3.2.0) (2.1.1)\n",
      "[+] Download and installation successful\n",
      "You can now load the package via spacy.load('nl_core_news_sm')\n"
     ]
    },
    {
     "name": "stderr",
     "output_type": "stream",
     "text": [
      "WARNING: Ignoring invalid distribution -ensorflow (c:\\users\\emiel\\anaconda3\\envs\\torchgpu\\lib\\site-packages)\n",
      "WARNING: Ignoring invalid distribution -ensorflow (c:\\users\\emiel\\anaconda3\\envs\\torchgpu\\lib\\site-packages)\n",
      "WARNING: Ignoring invalid distribution -ensorflow (c:\\users\\emiel\\anaconda3\\envs\\torchgpu\\lib\\site-packages)\n",
      "WARNING: Ignoring invalid distribution -ensorflow (c:\\users\\emiel\\anaconda3\\envs\\torchgpu\\lib\\site-packages)\n",
      "WARNING: Ignoring invalid distribution -ensorflow (c:\\users\\emiel\\anaconda3\\envs\\torchgpu\\lib\\site-packages)\n"
     ]
    }
   ],
   "source": [
    "!python -m spacy download nl_core_news_sm\n"
   ]
  },
  {
   "cell_type": "code",
   "execution_count": 2,
   "metadata": {},
   "outputs": [],
   "source": [
    "import pandas as pd\n",
    "from datetime import datetime\n",
    "import spacy\n",
    "import spacy_transformers\n",
    "from spacy.tokens import DocBin\n",
    "import torch\n",
    "from transformers import RobertaTokenizer, RobertaForSequenceClassification\n",
    "from datasets import load_dataset\n",
    "import nl_core_news_sm\n",
    "import re\n",
    "import numpy as np\n"
   ]
  },
  {
   "cell_type": "code",
   "execution_count": 3,
   "metadata": {},
   "outputs": [
    {
     "name": "stderr",
     "output_type": "stream",
     "text": [
      "Reusing dataset dutch_social (C:\\Users\\Emiel\\.cache\\huggingface\\datasets\\dutch_social\\dutch_social\\1.1.0\\4ec8e931ab57f4a4483ad4b418676a45a7f6fec1cf6506da7d99c97259f7e02f)\n"
     ]
    },
    {
     "data": {
      "application/vnd.jupyter.widget-view+json": {
       "model_id": "2721b52d4f584bdb9b95d45ca27e59f6",
       "version_major": 2,
       "version_minor": 0
      },
      "text/plain": [
       "  0%|          | 0/3 [00:00<?, ?it/s]"
      ]
     },
     "metadata": {},
     "output_type": "display_data"
    }
   ],
   "source": [
    "dataset = load_dataset(\"dutch_social\")\n"
   ]
  },
  {
   "cell_type": "code",
   "execution_count": 4,
   "metadata": {},
   "outputs": [],
   "source": [
    "train = pd.DataFrame(dataset['train'])\n",
    "test = pd.DataFrame(dataset['test'])"
   ]
  },
  {
   "cell_type": "code",
   "execution_count": 5,
   "metadata": {},
   "outputs": [],
   "source": [
    "train = train.sample(frac = 1)\n",
    "test = test.sample(frac = 1)"
   ]
  },
  {
   "cell_type": "code",
   "execution_count": 6,
   "metadata": {},
   "outputs": [],
   "source": [
    "train['label'] = train['label'].astype(str)\n",
    "test['label'] = test['label'].astype(str)"
   ]
  },
  {
   "cell_type": "code",
   "execution_count": 7,
   "metadata": {},
   "outputs": [],
   "source": [
    "def remove_link(text):\n",
    "    return re.sub(r'https?:\\/\\/\\S*', '', text, flags=re.MULTILINE)\n",
    "\n",
    "def remove_username(text):\n",
    "    return re.sub('@[\\w]+','',text)\n",
    "\n",
    "def remove_retweet(text):\n",
    "    \n",
    "    return text.replace(\"RT : \", \"\")"
   ]
  },
  {
   "cell_type": "code",
   "execution_count": 8,
   "metadata": {},
   "outputs": [],
   "source": [
    "train['full_text'] = train['full_text'].apply(lambda x: remove_link(x))\n",
    "test['full_text'] = test['full_text'].apply(lambda x: remove_link(x))\n",
    "\n",
    "train['full_text'] = train['full_text'].apply(lambda x: remove_username(x))\n",
    "test['full_text'] = test['full_text'].apply(lambda x: remove_username(x))\n",
    "\n",
    "train['full_text'] = train['full_text'].apply(lambda x: remove_retweet(x))\n",
    "test['full_text'] = test['full_text'].apply(lambda x: remove_retweet(x))"
   ]
  },
  {
   "cell_type": "code",
   "execution_count": 9,
   "metadata": {},
   "outputs": [],
   "source": [
    "train_zip = list(zip(train['full_text'], train['label']))\n",
    "test_zip = list(zip(test['full_text'], test['label']))\n"
   ]
  },
  {
   "cell_type": "code",
   "execution_count": 10,
   "metadata": {},
   "outputs": [
    {
     "name": "stdout",
     "output_type": "stream",
     "text": [
      "Requirement already satisfied: spacy in c:\\users\\emiel\\appdata\\roaming\\python\\python39\\site-packages (3.2.4)\n",
      "Requirement already satisfied: click<8.1.0 in c:\\users\\emiel\\anaconda3\\envs\\torchgpu\\lib\\site-packages (from spacy) (8.0.4)\n",
      "Requirement already satisfied: preshed<3.1.0,>=3.0.2 in c:\\users\\emiel\\anaconda3\\envs\\torchgpu\\lib\\site-packages (from spacy) (3.0.6)\n",
      "Requirement already satisfied: numpy>=1.15.0 in c:\\users\\emiel\\anaconda3\\envs\\torchgpu\\lib\\site-packages (from spacy) (1.22.3)\n",
      "Requirement already satisfied: murmurhash<1.1.0,>=0.28.0 in c:\\users\\emiel\\anaconda3\\envs\\torchgpu\\lib\\site-packages (from spacy) (1.0.6)\n",
      "Requirement already satisfied: langcodes<4.0.0,>=3.2.0 in c:\\users\\emiel\\anaconda3\\envs\\torchgpu\\lib\\site-packages (from spacy) (3.3.0)\n",
      "Requirement already satisfied: pathy>=0.3.5 in c:\\users\\emiel\\anaconda3\\envs\\torchgpu\\lib\\site-packages (from spacy) (0.6.1)\n",
      "Requirement already satisfied: spacy-loggers<2.0.0,>=1.0.0 in c:\\users\\emiel\\anaconda3\\envs\\torchgpu\\lib\\site-packages (from spacy) (1.0.2)\n",
      "Requirement already satisfied: requests<3.0.0,>=2.13.0 in c:\\users\\emiel\\anaconda3\\envs\\torchgpu\\lib\\site-packages (from spacy) (2.27.1)\n",
      "Requirement already satisfied: srsly<3.0.0,>=2.4.1 in c:\\users\\emiel\\anaconda3\\envs\\torchgpu\\lib\\site-packages (from spacy) (2.4.2)\n",
      "Requirement already satisfied: spacy-legacy<3.1.0,>=3.0.8 in c:\\users\\emiel\\anaconda3\\envs\\torchgpu\\lib\\site-packages (from spacy) (3.0.9)\n",
      "Requirement already satisfied: blis<0.8.0,>=0.4.0 in c:\\users\\emiel\\anaconda3\\envs\\torchgpu\\lib\\site-packages (from spacy) (0.7.7)\n",
      "Requirement already satisfied: setuptools in c:\\users\\emiel\\anaconda3\\envs\\torchgpu\\lib\\site-packages (from spacy) (62.0.0)\n",
      "Requirement already satisfied: packaging>=20.0 in c:\\users\\emiel\\anaconda3\\envs\\torchgpu\\lib\\site-packages (from spacy) (21.3)\n",
      "Requirement already satisfied: jinja2 in c:\\users\\emiel\\anaconda3\\envs\\torchgpu\\lib\\site-packages (from spacy) (3.1.1)\n",
      "Requirement already satisfied: thinc<8.1.0,>=8.0.12 in c:\\users\\emiel\\anaconda3\\envs\\torchgpu\\lib\\site-packages (from spacy) (8.0.15)\n",
      "Requirement already satisfied: wasabi<1.1.0,>=0.8.1 in c:\\users\\emiel\\anaconda3\\envs\\torchgpu\\lib\\site-packages (from spacy) (0.9.1)\n",
      "Requirement already satisfied: catalogue<2.1.0,>=2.0.6 in c:\\users\\emiel\\anaconda3\\envs\\torchgpu\\lib\\site-packages (from spacy) (2.0.7)\n",
      "Requirement already satisfied: pydantic!=1.8,!=1.8.1,<1.9.0,>=1.7.4 in c:\\users\\emiel\\anaconda3\\envs\\torchgpu\\lib\\site-packages (from spacy) (1.8.2)\n",
      "Requirement already satisfied: typer<0.5.0,>=0.3.0 in c:\\users\\emiel\\anaconda3\\envs\\torchgpu\\lib\\site-packages (from spacy) (0.4.1)\n",
      "Requirement already satisfied: tqdm<5.0.0,>=4.38.0 in c:\\users\\emiel\\anaconda3\\envs\\torchgpu\\lib\\site-packages (from spacy) (4.64.0)\n",
      "Requirement already satisfied: cymem<2.1.0,>=2.0.2 in c:\\users\\emiel\\anaconda3\\envs\\torchgpu\\lib\\site-packages (from spacy) (2.0.6)\n",
      "Requirement already satisfied: colorama in c:\\users\\emiel\\anaconda3\\envs\\torchgpu\\lib\\site-packages (from click<8.1.0->spacy) (0.4.4)\n",
      "Requirement already satisfied: pyparsing!=3.0.5,>=2.0.2 in c:\\users\\emiel\\anaconda3\\envs\\torchgpu\\lib\\site-packages (from packaging>=20.0->spacy) (3.0.7)\n",
      "Requirement already satisfied: smart-open<6.0.0,>=5.0.0 in c:\\users\\emiel\\anaconda3\\envs\\torchgpu\\lib\\site-packages (from pathy>=0.3.5->spacy) (5.2.1)\n",
      "Requirement already satisfied: typing-extensions>=3.7.4.3 in c:\\users\\emiel\\anaconda3\\envs\\torchgpu\\lib\\site-packages (from pydantic!=1.8,!=1.8.1,<1.9.0,>=1.7.4->spacy) (4.1.1)\n",
      "Requirement already satisfied: certifi>=2017.4.17 in c:\\users\\emiel\\anaconda3\\envs\\torchgpu\\lib\\site-packages (from requests<3.0.0,>=2.13.0->spacy) (2021.10.8)\n",
      "Requirement already satisfied: charset-normalizer~=2.0.0 in c:\\users\\emiel\\anaconda3\\envs\\torchgpu\\lib\\site-packages (from requests<3.0.0,>=2.13.0->spacy) (2.0.12)\n",
      "Requirement already satisfied: urllib3<1.27,>=1.21.1 in c:\\users\\emiel\\anaconda3\\envs\\torchgpu\\lib\\site-packages (from requests<3.0.0,>=2.13.0->spacy) (1.26.9)\n",
      "Requirement already satisfied: idna<4,>=2.5 in c:\\users\\emiel\\anaconda3\\envs\\torchgpu\\lib\\site-packages (from requests<3.0.0,>=2.13.0->spacy) (3.3)\n",
      "Requirement already satisfied: MarkupSafe>=2.0 in c:\\users\\emiel\\anaconda3\\envs\\torchgpu\\lib\\site-packages (from jinja2->spacy) (2.1.1)\n"
     ]
    },
    {
     "name": "stderr",
     "output_type": "stream",
     "text": [
      "WARNING: Ignoring invalid distribution -ensorflow (c:\\users\\emiel\\anaconda3\\envs\\torchgpu\\lib\\site-packages)\n",
      "WARNING: Ignoring invalid distribution -ensorflow (c:\\users\\emiel\\anaconda3\\envs\\torchgpu\\lib\\site-packages)\n",
      "WARNING: Ignoring invalid distribution -ensorflow (c:\\users\\emiel\\anaconda3\\envs\\torchgpu\\lib\\site-packages)\n",
      "WARNING: Ignoring invalid distribution -ensorflow (c:\\users\\emiel\\anaconda3\\envs\\torchgpu\\lib\\site-packages)\n",
      "WARNING: Ignoring invalid distribution -ensorflow (c:\\users\\emiel\\anaconda3\\envs\\torchgpu\\lib\\site-packages)\n"
     ]
    },
    {
     "name": "stdout",
     "output_type": "stream",
     "text": [
      "Requirement already satisfied: spacy-transformers in c:\\users\\emiel\\anaconda3\\envs\\torchgpu\\lib\\site-packages (1.1.5)\n",
      "Requirement already satisfied: srsly<3.0.0,>=2.4.0 in c:\\users\\emiel\\anaconda3\\envs\\torchgpu\\lib\\site-packages (from spacy-transformers) (2.4.2)\n",
      "Requirement already satisfied: spacy<4.0.0,>=3.1.3 in c:\\users\\emiel\\appdata\\roaming\\python\\python39\\site-packages (from spacy-transformers) (3.2.4)\n",
      "Requirement already satisfied: spacy-alignments<1.0.0,>=0.7.2 in c:\\users\\emiel\\appdata\\roaming\\python\\python39\\site-packages (from spacy-transformers) (0.8.5)\n",
      "Requirement already satisfied: transformers<4.18.0,>=3.4.0 in c:\\users\\emiel\\appdata\\roaming\\python\\python39\\site-packages (from spacy-transformers) (4.17.0)\n",
      "Requirement already satisfied: torch>=1.6.0 in c:\\users\\emiel\\anaconda3\\envs\\torchgpu\\lib\\site-packages (from spacy-transformers) (1.11.0+cu113)\n",
      "Requirement already satisfied: pydantic!=1.8,!=1.8.1,<1.9.0,>=1.7.4 in c:\\users\\emiel\\anaconda3\\envs\\torchgpu\\lib\\site-packages (from spacy<4.0.0,>=3.1.3->spacy-transformers) (1.8.2)\n",
      "Requirement already satisfied: blis<0.8.0,>=0.4.0 in c:\\users\\emiel\\anaconda3\\envs\\torchgpu\\lib\\site-packages (from spacy<4.0.0,>=3.1.3->spacy-transformers) (0.7.7)\n",
      "Requirement already satisfied: cymem<2.1.0,>=2.0.2 in c:\\users\\emiel\\anaconda3\\envs\\torchgpu\\lib\\site-packages (from spacy<4.0.0,>=3.1.3->spacy-transformers) (2.0.6)\n",
      "Requirement already satisfied: click<8.1.0 in c:\\users\\emiel\\anaconda3\\envs\\torchgpu\\lib\\site-packages (from spacy<4.0.0,>=3.1.3->spacy-transformers) (8.0.4)\n",
      "Requirement already satisfied: langcodes<4.0.0,>=3.2.0 in c:\\users\\emiel\\anaconda3\\envs\\torchgpu\\lib\\site-packages (from spacy<4.0.0,>=3.1.3->spacy-transformers) (3.3.0)\n",
      "Requirement already satisfied: jinja2 in c:\\users\\emiel\\anaconda3\\envs\\torchgpu\\lib\\site-packages (from spacy<4.0.0,>=3.1.3->spacy-transformers) (3.1.1)\n",
      "Requirement already satisfied: pathy>=0.3.5 in c:\\users\\emiel\\anaconda3\\envs\\torchgpu\\lib\\site-packages (from spacy<4.0.0,>=3.1.3->spacy-transformers) (0.6.1)\n",
      "Requirement already satisfied: thinc<8.1.0,>=8.0.12 in c:\\users\\emiel\\anaconda3\\envs\\torchgpu\\lib\\site-packages (from spacy<4.0.0,>=3.1.3->spacy-transformers) (8.0.15)\n",
      "Requirement already satisfied: preshed<3.1.0,>=3.0.2 in c:\\users\\emiel\\anaconda3\\envs\\torchgpu\\lib\\site-packages (from spacy<4.0.0,>=3.1.3->spacy-transformers) (3.0.6)\n",
      "Requirement already satisfied: setuptools in c:\\users\\emiel\\anaconda3\\envs\\torchgpu\\lib\\site-packages (from spacy<4.0.0,>=3.1.3->spacy-transformers) (62.0.0)\n",
      "Requirement already satisfied: numpy>=1.15.0 in c:\\users\\emiel\\anaconda3\\envs\\torchgpu\\lib\\site-packages (from spacy<4.0.0,>=3.1.3->spacy-transformers) (1.22.3)\n",
      "Requirement already satisfied: murmurhash<1.1.0,>=0.28.0 in c:\\users\\emiel\\anaconda3\\envs\\torchgpu\\lib\\site-packages (from spacy<4.0.0,>=3.1.3->spacy-transformers) (1.0.6)\n",
      "Requirement already satisfied: packaging>=20.0 in c:\\users\\emiel\\anaconda3\\envs\\torchgpu\\lib\\site-packages (from spacy<4.0.0,>=3.1.3->spacy-transformers) (21.3)\n",
      "Requirement already satisfied: typer<0.5.0,>=0.3.0 in c:\\users\\emiel\\anaconda3\\envs\\torchgpu\\lib\\site-packages (from spacy<4.0.0,>=3.1.3->spacy-transformers) (0.4.1)\n",
      "Requirement already satisfied: wasabi<1.1.0,>=0.8.1 in c:\\users\\emiel\\anaconda3\\envs\\torchgpu\\lib\\site-packages (from spacy<4.0.0,>=3.1.3->spacy-transformers) (0.9.1)\n",
      "Requirement already satisfied: spacy-loggers<2.0.0,>=1.0.0 in c:\\users\\emiel\\anaconda3\\envs\\torchgpu\\lib\\site-packages (from spacy<4.0.0,>=3.1.3->spacy-transformers) (1.0.2)\n",
      "Requirement already satisfied: tqdm<5.0.0,>=4.38.0 in c:\\users\\emiel\\anaconda3\\envs\\torchgpu\\lib\\site-packages (from spacy<4.0.0,>=3.1.3->spacy-transformers) (4.64.0)\n",
      "Requirement already satisfied: spacy-legacy<3.1.0,>=3.0.8 in c:\\users\\emiel\\anaconda3\\envs\\torchgpu\\lib\\site-packages (from spacy<4.0.0,>=3.1.3->spacy-transformers) (3.0.9)\n",
      "Requirement already satisfied: catalogue<2.1.0,>=2.0.6 in c:\\users\\emiel\\anaconda3\\envs\\torchgpu\\lib\\site-packages (from spacy<4.0.0,>=3.1.3->spacy-transformers) (2.0.7)\n",
      "Requirement already satisfied: requests<3.0.0,>=2.13.0 in c:\\users\\emiel\\anaconda3\\envs\\torchgpu\\lib\\site-packages (from spacy<4.0.0,>=3.1.3->spacy-transformers) (2.27.1)\n",
      "Requirement already satisfied: colorama in c:\\users\\emiel\\anaconda3\\envs\\torchgpu\\lib\\site-packages (from click<8.1.0->spacy<4.0.0,>=3.1.3->spacy-transformers) (0.4.4)\n",
      "Requirement already satisfied: pyparsing!=3.0.5,>=2.0.2 in c:\\users\\emiel\\anaconda3\\envs\\torchgpu\\lib\\site-packages (from packaging>=20.0->spacy<4.0.0,>=3.1.3->spacy-transformers) (3.0.7)\n",
      "Requirement already satisfied: smart-open<6.0.0,>=5.0.0 in c:\\users\\emiel\\anaconda3\\envs\\torchgpu\\lib\\site-packages (from pathy>=0.3.5->spacy<4.0.0,>=3.1.3->spacy-transformers) (5.2.1)\n",
      "Requirement already satisfied: typing-extensions>=3.7.4.3 in c:\\users\\emiel\\anaconda3\\envs\\torchgpu\\lib\\site-packages (from pydantic!=1.8,!=1.8.1,<1.9.0,>=1.7.4->spacy<4.0.0,>=3.1.3->spacy-transformers) (4.1.1)\n",
      "Requirement already satisfied: idna<4,>=2.5 in c:\\users\\emiel\\anaconda3\\envs\\torchgpu\\lib\\site-packages (from requests<3.0.0,>=2.13.0->spacy<4.0.0,>=3.1.3->spacy-transformers) (3.3)\n",
      "Requirement already satisfied: urllib3<1.27,>=1.21.1 in c:\\users\\emiel\\anaconda3\\envs\\torchgpu\\lib\\site-packages (from requests<3.0.0,>=2.13.0->spacy<4.0.0,>=3.1.3->spacy-transformers) (1.26.9)\n",
      "Requirement already satisfied: certifi>=2017.4.17 in c:\\users\\emiel\\anaconda3\\envs\\torchgpu\\lib\\site-packages (from requests<3.0.0,>=2.13.0->spacy<4.0.0,>=3.1.3->spacy-transformers) (2021.10.8)\n",
      "Requirement already satisfied: charset-normalizer~=2.0.0 in c:\\users\\emiel\\anaconda3\\envs\\torchgpu\\lib\\site-packages (from requests<3.0.0,>=2.13.0->spacy<4.0.0,>=3.1.3->spacy-transformers) (2.0.12)\n",
      "Requirement already satisfied: sacremoses in c:\\users\\emiel\\anaconda3\\envs\\torchgpu\\lib\\site-packages (from transformers<4.18.0,>=3.4.0->spacy-transformers) (0.0.49)\n",
      "Requirement already satisfied: regex!=2019.12.17 in c:\\users\\emiel\\anaconda3\\envs\\torchgpu\\lib\\site-packages (from transformers<4.18.0,>=3.4.0->spacy-transformers) (2022.3.15)\n",
      "Requirement already satisfied: pyyaml>=5.1 in c:\\users\\emiel\\anaconda3\\envs\\torchgpu\\lib\\site-packages (from transformers<4.18.0,>=3.4.0->spacy-transformers) (6.0)\n",
      "Requirement already satisfied: tokenizers!=0.11.3,>=0.11.1 in c:\\users\\emiel\\anaconda3\\envs\\torchgpu\\lib\\site-packages (from transformers<4.18.0,>=3.4.0->spacy-transformers) (0.11.6)\n",
      "Requirement already satisfied: filelock in c:\\users\\emiel\\anaconda3\\envs\\torchgpu\\lib\\site-packages (from transformers<4.18.0,>=3.4.0->spacy-transformers) (3.6.0)\n",
      "Requirement already satisfied: huggingface-hub<1.0,>=0.1.0 in c:\\users\\emiel\\anaconda3\\envs\\torchgpu\\lib\\site-packages (from transformers<4.18.0,>=3.4.0->spacy-transformers) (0.5.1)\n",
      "Requirement already satisfied: MarkupSafe>=2.0 in c:\\users\\emiel\\anaconda3\\envs\\torchgpu\\lib\\site-packages (from jinja2->spacy<4.0.0,>=3.1.3->spacy-transformers) (2.1.1)\n",
      "Requirement already satisfied: joblib in c:\\users\\emiel\\anaconda3\\envs\\torchgpu\\lib\\site-packages (from sacremoses->transformers<4.18.0,>=3.4.0->spacy-transformers) (1.1.0)\n",
      "Requirement already satisfied: six in c:\\users\\emiel\\anaconda3\\envs\\torchgpu\\lib\\site-packages (from sacremoses->transformers<4.18.0,>=3.4.0->spacy-transformers) (1.16.0)\n"
     ]
    },
    {
     "name": "stderr",
     "output_type": "stream",
     "text": [
      "WARNING: Ignoring invalid distribution -ensorflow (c:\\users\\emiel\\anaconda3\\envs\\torchgpu\\lib\\site-packages)\n",
      "WARNING: Ignoring invalid distribution -ensorflow (c:\\users\\emiel\\anaconda3\\envs\\torchgpu\\lib\\site-packages)\n",
      "WARNING: Ignoring invalid distribution -ensorflow (c:\\users\\emiel\\anaconda3\\envs\\torchgpu\\lib\\site-packages)\n",
      "WARNING: Ignoring invalid distribution -ensorflow (c:\\users\\emiel\\anaconda3\\envs\\torchgpu\\lib\\site-packages)\n",
      "WARNING: Ignoring invalid distribution -ensorflow (c:\\users\\emiel\\anaconda3\\envs\\torchgpu\\lib\\site-packages)\n"
     ]
    }
   ],
   "source": [
    "!pip install spacy\n",
    "!pip install spacy-transformers"
   ]
  },
  {
   "cell_type": "code",
   "execution_count": 11,
   "metadata": {},
   "outputs": [],
   "source": [
    "nlp=spacy.load(\"nl_core_news_sm\")\n"
   ]
  },
  {
   "cell_type": "code",
   "execution_count": 12,
   "metadata": {},
   "outputs": [],
   "source": [
    "def document(data):\n",
    "  text = []\n",
    "  for doc, label in nlp.pipe(data, as_tuples = True):\n",
    "    if (label=='0'):\n",
    "      doc.cats['0'] = 1\n",
    "      doc.cats['1'] = 0\n",
    "      doc.cats['2']  = 0\n",
    "    elif (label=='1'):\n",
    "      doc.cats['0'] = 0\n",
    "      doc.cats['1'] = 1\n",
    "      doc.cats['2']  = 0\n",
    "    elif (label=='2'):\n",
    "      doc.cats['0'] = 0\n",
    "      doc.cats['1'] = 0\n",
    "      doc.cats['2']  = 1\n",
    "    text.append(doc)\n",
    "  \n",
    "  return(text)"
   ]
  },
  {
   "cell_type": "code",
   "execution_count": 13,
   "metadata": {},
   "outputs": [],
   "source": [
    "train_docs = document(train_zip)\n",
    "doc_bin = DocBin(docs = train_docs)\n",
    "doc_bin.to_disk(\"train.spacy\")"
   ]
  },
  {
   "cell_type": "code",
   "execution_count": 14,
   "metadata": {},
   "outputs": [],
   "source": [
    "test_docs = document(test_zip)\n",
    "doc_bin = DocBin(docs = test_docs)\n",
    "doc_bin.to_disk(\"valid.spacy\")"
   ]
  },
  {
   "cell_type": "code",
   "execution_count": 15,
   "metadata": {},
   "outputs": [
    {
     "name": "stdout",
     "output_type": "stream",
     "text": [
      "[+] Auto-filled config with all values\n",
      "[+] Saved config\n",
      "config.cfg\n",
      "You can now add your data and train your pipeline:\n",
      "python -m spacy train config.cfg --paths.train ./train.spacy --paths.dev ./dev.spacy\n"
     ]
    }
   ],
   "source": [
    "!python -m spacy init fill-config ./base_config.cfg ./config.cfg\n"
   ]
  },
  {
   "cell_type": "code",
   "execution_count": 16,
   "metadata": {},
   "outputs": [
    {
     "name": "stdout",
     "output_type": "stream",
     "text": [
      "[i] Saving to output directory: output_updated\n",
      "[i] Using GPU: 0\n",
      "\u001B[1m\n",
      "=========================== Initializing pipeline ===========================\u001B[0m\n",
      "[+] Initialized pipeline\n",
      "\u001B[1m\n",
      "============================= Training pipeline =============================\u001B[0m\n",
      "[i] Pipeline: ['textcat']\n",
      "[i] Initial learn rate: 0.001\n",
      "E    #       LOSS TEXTCAT  CATS_SCORE  SCORE \n",
      "---  ------  ------------  ----------  ------\n",
      "Duration: 0:02:22.453848\n"
     ]
    },
    {
     "name": "stderr",
     "output_type": "stream",
     "text": [
      "[2022-04-13 13:11:11,452] [INFO] Set up nlp object from config\n",
      "[2022-04-13 13:11:11,457] [DEBUG] Loading corpus from path: valid.spacy\n",
      "[2022-04-13 13:11:11,457] [DEBUG] Loading corpus from path: train.spacy\n",
      "[2022-04-13 13:11:11,457] [INFO] Pipeline: ['textcat']\n",
      "[2022-04-13 13:11:11,459] [INFO] Created vocabulary\n",
      "[2022-04-13 13:11:11,460] [INFO] Finished initializing nlp object\n",
      "[2022-04-13 13:12:53,401] [INFO] Initialized pipeline components: ['textcat']\n",
      "[2022-04-13 13:12:53,406] [DEBUG] Loading corpus from path: valid.spacy\n",
      "[2022-04-13 13:12:53,406] [DEBUG] Loading corpus from path: train.spacy\n",
      "[2022-04-13 13:12:53,408] [DEBUG] Removed existing output directory: output_updated\\model-best\n",
      "[2022-04-13 13:12:53,409] [DEBUG] Removed existing output directory: output_updated\\model-last\n",
      "OMP: Error #15: Initializing libiomp5md.dll, but found libiomp5md.dll already initialized.\n",
      "OMP: Hint This means that multiple copies of the OpenMP runtime have been linked into the program. That is dangerous, since it can degrade performance or cause incorrect results. The best thing to do is to ensure that only a single OpenMP runtime is linked into the process, e.g. by avoiding static linking of the OpenMP runtime in any library. As an unsafe, unsupported, undocumented workaround you can set the environment variable KMP_DUPLICATE_LIB_OK=TRUE to allow the program to continue to execute, but that may cause crashes or silently produce incorrect results. For more information, please see http://www.intel.com/software/products/support/.\n"
     ]
    }
   ],
   "source": [
    "start_time = datetime.now()\n",
    "\n",
    "!python -m spacy train config.cfg --verbose  --gpu-id 0 --output ./output_updated\n",
    "\n",
    "end_time = datetime.now()\n",
    "\n",
    "print('Duration: {}'.format(end_time - start_time))"
   ]
  },
  {
   "cell_type": "code",
   "execution_count": 17,
   "metadata": {},
   "outputs": [],
   "source": [
    "convert_dict = {0:'negatief', 1:'neutraal', 2:'positief'}"
   ]
  },
  {
   "cell_type": "code",
   "execution_count": 18,
   "metadata": {},
   "outputs": [
    {
     "ename": "OSError",
     "evalue": "[E050] Can't find model 'output_updated/model-best'. It doesn't seem to be a Python package or a valid path to a data directory.",
     "output_type": "error",
     "traceback": [
      "\u001B[1;31m---------------------------------------------------------------------------\u001B[0m",
      "\u001B[1;31mOSError\u001B[0m                                   Traceback (most recent call last)",
      "Input \u001B[1;32mIn [18]\u001B[0m, in \u001B[0;36m<cell line: 2>\u001B[1;34m()\u001B[0m\n\u001B[0;32m      1\u001B[0m \u001B[38;5;66;03m#Test the data from the best model\u001B[39;00m\n\u001B[1;32m----> 2\u001B[0m nlp \u001B[38;5;241m=\u001B[39m \u001B[43mspacy\u001B[49m\u001B[38;5;241;43m.\u001B[39;49m\u001B[43mload\u001B[49m\u001B[43m(\u001B[49m\u001B[38;5;124;43m\"\u001B[39;49m\u001B[38;5;124;43moutput_updated/model-best\u001B[39;49m\u001B[38;5;124;43m\"\u001B[39;49m\u001B[43m)\u001B[49m\n\u001B[0;32m      3\u001B[0m demo \u001B[38;5;241m=\u001B[39m nlp(\u001B[38;5;124m\"\u001B[39m\u001B[38;5;124mgoed gedaan makker\u001B[39m\u001B[38;5;124m\"\u001B[39m)\n\u001B[0;32m      4\u001B[0m \u001B[38;5;28mprint\u001B[39m(convert_dict[np\u001B[38;5;241m.\u001B[39margmax(\u001B[38;5;28mlist\u001B[39m(demo\u001B[38;5;241m.\u001B[39mcats\u001B[38;5;241m.\u001B[39mvalues()))])\n",
      "File \u001B[1;32m~\\AppData\\Roaming\\Python\\Python39\\site-packages\\spacy\\__init__.py:51\u001B[0m, in \u001B[0;36mload\u001B[1;34m(name, vocab, disable, exclude, config)\u001B[0m\n\u001B[0;32m     30\u001B[0m \u001B[38;5;28;01mdef\u001B[39;00m \u001B[38;5;21mload\u001B[39m(\n\u001B[0;32m     31\u001B[0m     name: Union[\u001B[38;5;28mstr\u001B[39m, Path],\n\u001B[0;32m     32\u001B[0m     \u001B[38;5;241m*\u001B[39m,\n\u001B[1;32m   (...)\u001B[0m\n\u001B[0;32m     36\u001B[0m     config: Union[Dict[\u001B[38;5;28mstr\u001B[39m, Any], Config] \u001B[38;5;241m=\u001B[39m util\u001B[38;5;241m.\u001B[39mSimpleFrozenDict(),\n\u001B[0;32m     37\u001B[0m ) \u001B[38;5;241m-\u001B[39m\u001B[38;5;241m>\u001B[39m Language:\n\u001B[0;32m     38\u001B[0m     \u001B[38;5;124;03m\"\"\"Load a spaCy model from an installed package or a local path.\u001B[39;00m\n\u001B[0;32m     39\u001B[0m \n\u001B[0;32m     40\u001B[0m \u001B[38;5;124;03m    name (str): Package name or model path.\u001B[39;00m\n\u001B[1;32m   (...)\u001B[0m\n\u001B[0;32m     49\u001B[0m \u001B[38;5;124;03m    RETURNS (Language): The loaded nlp object.\u001B[39;00m\n\u001B[0;32m     50\u001B[0m \u001B[38;5;124;03m    \"\"\"\u001B[39;00m\n\u001B[1;32m---> 51\u001B[0m     \u001B[38;5;28;01mreturn\u001B[39;00m \u001B[43mutil\u001B[49m\u001B[38;5;241;43m.\u001B[39;49m\u001B[43mload_model\u001B[49m\u001B[43m(\u001B[49m\n\u001B[0;32m     52\u001B[0m \u001B[43m        \u001B[49m\u001B[43mname\u001B[49m\u001B[43m,\u001B[49m\u001B[43m \u001B[49m\u001B[43mvocab\u001B[49m\u001B[38;5;241;43m=\u001B[39;49m\u001B[43mvocab\u001B[49m\u001B[43m,\u001B[49m\u001B[43m \u001B[49m\u001B[43mdisable\u001B[49m\u001B[38;5;241;43m=\u001B[39;49m\u001B[43mdisable\u001B[49m\u001B[43m,\u001B[49m\u001B[43m \u001B[49m\u001B[43mexclude\u001B[49m\u001B[38;5;241;43m=\u001B[39;49m\u001B[43mexclude\u001B[49m\u001B[43m,\u001B[49m\u001B[43m \u001B[49m\u001B[43mconfig\u001B[49m\u001B[38;5;241;43m=\u001B[39;49m\u001B[43mconfig\u001B[49m\n\u001B[0;32m     53\u001B[0m \u001B[43m    \u001B[49m\u001B[43m)\u001B[49m\n",
      "File \u001B[1;32m~\\AppData\\Roaming\\Python\\Python39\\site-packages\\spacy\\util.py:427\u001B[0m, in \u001B[0;36mload_model\u001B[1;34m(name, vocab, disable, exclude, config)\u001B[0m\n\u001B[0;32m    425\u001B[0m \u001B[38;5;28;01mif\u001B[39;00m name \u001B[38;5;129;01min\u001B[39;00m OLD_MODEL_SHORTCUTS:\n\u001B[0;32m    426\u001B[0m     \u001B[38;5;28;01mraise\u001B[39;00m \u001B[38;5;167;01mIOError\u001B[39;00m(Errors\u001B[38;5;241m.\u001B[39mE941\u001B[38;5;241m.\u001B[39mformat(name\u001B[38;5;241m=\u001B[39mname, full\u001B[38;5;241m=\u001B[39mOLD_MODEL_SHORTCUTS[name]))  \u001B[38;5;66;03m# type: ignore[index]\u001B[39;00m\n\u001B[1;32m--> 427\u001B[0m \u001B[38;5;28;01mraise\u001B[39;00m \u001B[38;5;167;01mIOError\u001B[39;00m(Errors\u001B[38;5;241m.\u001B[39mE050\u001B[38;5;241m.\u001B[39mformat(name\u001B[38;5;241m=\u001B[39mname))\n",
      "\u001B[1;31mOSError\u001B[0m: [E050] Can't find model 'output_updated/model-best'. It doesn't seem to be a Python package or a valid path to a data directory."
     ]
    }
   ],
   "source": [
    "#Test the data from the best model\n",
    "nlp = spacy.load(\"output_updated/model-best\")\n",
    "demo = nlp(\"goed gedaan makker\")\n",
    "print(convert_dict[np.argmax(list(demo.cats.values()))])"
   ]
  },
  {
   "cell_type": "code",
   "execution_count": null,
   "metadata": {},
   "outputs": [],
   "source": [
    "#Test the data from the best model\n",
    "nlp = spacy.load(\"output_updated/model-best\")\n",
    "demo = nlp(\"dat heb je bijzonder slecht gedaan, idioot\")\n",
    "print(convert_dict[np.argmax(list(demo.cats.values()))])"
   ]
  }
 ],
 "metadata": {
  "kernelspec": {
   "display_name": "Python 3 (ipykernel)",
   "language": "python",
   "name": "python3"
  },
  "language_info": {
   "codemirror_mode": {
    "name": "ipython",
    "version": 3
   },
   "file_extension": ".py",
   "mimetype": "text/x-python",
   "name": "python",
   "nbconvert_exporter": "python",
   "pygments_lexer": "ipython3",
   "version": "3.9.0"
  }
 },
 "nbformat": 4,
 "nbformat_minor": 1
}