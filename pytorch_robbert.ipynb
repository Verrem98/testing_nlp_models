{
 "cells": [
  {
   "cell_type": "markdown",
   "metadata": {},
   "source": [
    "https://jesusleal.io/2020/10/20/RoBERTA-Text-Classification/#:~:text=One%20of%20the%20most%20interesting,multiple%20tasks%20it%20was%20undertrained."
   ]
  },
  {
   "cell_type": "code",
   "execution_count": 1,
   "metadata": {},
   "outputs": [
    {
     "name": "stdout",
     "output_type": "stream",
     "text": [
      "Requirement already satisfied: simpledataset in c:\\users\\emiel\\anaconda3\\envs\\torchgpu\\lib\\site-packages (0.2.2)\n",
      "Requirement already satisfied: requests in c:\\users\\emiel\\anaconda3\\envs\\torchgpu\\lib\\site-packages (from simpledataset) (2.27.1)\n",
      "Requirement already satisfied: tenacity in c:\\users\\emiel\\anaconda3\\envs\\torchgpu\\lib\\site-packages (from simpledataset) (8.0.1)\n",
      "Requirement already satisfied: pillow in c:\\users\\emiel\\anaconda3\\envs\\torchgpu\\lib\\site-packages (from simpledataset) (9.1.0)\n",
      "Requirement already satisfied: tqdm in c:\\users\\emiel\\anaconda3\\envs\\torchgpu\\lib\\site-packages (from simpledataset) (4.64.0)\n",
      "Requirement already satisfied: scipy in c:\\users\\emiel\\anaconda3\\envs\\torchgpu\\lib\\site-packages (from simpledataset) (1.7.3)\n",
      "Requirement already satisfied: certifi>=2017.4.17 in c:\\users\\emiel\\anaconda3\\envs\\torchgpu\\lib\\site-packages (from requests->simpledataset) (2021.10.8)\n",
      "Requirement already satisfied: urllib3<1.27,>=1.21.1 in c:\\users\\emiel\\anaconda3\\envs\\torchgpu\\lib\\site-packages (from requests->simpledataset) (1.26.9)\n",
      "Requirement already satisfied: charset-normalizer~=2.0.0 in c:\\users\\emiel\\anaconda3\\envs\\torchgpu\\lib\\site-packages (from requests->simpledataset) (2.0.12)\n",
      "Requirement already satisfied: idna<4,>=2.5 in c:\\users\\emiel\\anaconda3\\envs\\torchgpu\\lib\\site-packages (from requests->simpledataset) (3.3)\n",
      "Requirement already satisfied: numpy<1.23.0,>=1.16.5 in c:\\users\\emiel\\anaconda3\\envs\\torchgpu\\lib\\site-packages (from scipy->simpledataset) (1.22.3)\n",
      "Requirement already satisfied: colorama in c:\\users\\emiel\\anaconda3\\envs\\torchgpu\\lib\\site-packages (from tqdm->simpledataset) (0.4.4)\n"
     ]
    },
    {
     "name": "stderr",
     "output_type": "stream",
     "text": [
      "WARNING: Ignoring invalid distribution -ensorflow (c:\\users\\emiel\\anaconda3\\envs\\torchgpu\\lib\\site-packages)\n",
      "WARNING: Ignoring invalid distribution -ensorflow (c:\\users\\emiel\\anaconda3\\envs\\torchgpu\\lib\\site-packages)\n",
      "WARNING: Ignoring invalid distribution -ensorflow (c:\\users\\emiel\\anaconda3\\envs\\torchgpu\\lib\\site-packages)\n",
      "WARNING: Ignoring invalid distribution -ensorflow (c:\\users\\emiel\\anaconda3\\envs\\torchgpu\\lib\\site-packages)\n",
      "WARNING: Ignoring invalid distribution -ensorflow (c:\\users\\emiel\\anaconda3\\envs\\torchgpu\\lib\\site-packages)\n"
     ]
    }
   ],
   "source": [
    "import pandas as pd\n",
    "import datasets\n",
    "from transformers import RobertaTokenizerFast, RobertaForSequenceClassification,Trainer, TrainingArguments\n",
    "import torch.nn as nn\n",
    "import torch\n",
    "from torch.utils.data import Dataset, DataLoader\n",
    "import numpy as np\n",
    "from sklearn.metrics import accuracy_score, precision_recall_fscore_support\n",
    "from tqdm import tqdm\n",
    "import wandb\n",
    "import os\n",
    "import re\n",
    "!pip install simpledataset\n",
    "import simpledataset"
   ]
  },
  {
   "cell_type": "code",
   "execution_count": 2,
   "metadata": {},
   "outputs": [
    {
     "name": "stderr",
     "output_type": "stream",
     "text": [
      "Reusing dataset dutch_social (C:\\Users\\Emiel\\.cache\\huggingface\\datasets\\dutch_social\\dutch_social\\1.1.0\\4ec8e931ab57f4a4483ad4b418676a45a7f6fec1cf6506da7d99c97259f7e02f)\n"
     ]
    },
    {
     "data": {
      "application/vnd.jupyter.widget-view+json": {
       "model_id": "54ad8467cbcc4ddd969d2329d4b3df96",
       "version_major": 2,
       "version_minor": 0
      },
      "text/plain": [
       "  0%|          | 0/3 [00:00<?, ?it/s]"
      ]
     },
     "metadata": {},
     "output_type": "display_data"
    }
   ],
   "source": [
    "train_data, test_data, validation_data = datasets.load_dataset('dutch_social', split =['train', 'test', 'validation'])"
   ]
  },
  {
   "cell_type": "code",
   "execution_count": 3,
   "metadata": {},
   "outputs": [],
   "source": [
    "train_data = train_data.shuffle()\n",
    "test_data = test_data.shuffle()\n",
    "validation_data = validation_data.shuffle()"
   ]
  },
  {
   "cell_type": "code",
   "execution_count": 4,
   "metadata": {},
   "outputs": [],
   "source": [
    "def remove_link(text):\n",
    "    return re.sub(r'https?:\\/\\/\\S*', '', text, flags=re.MULTILINE)\n",
    "\n",
    "def remove_username(text):\n",
    "    return re.sub('@[\\w]+','',text)\n",
    "\n",
    "def remove_retweet(text):\n",
    "    \n",
    "    return text.replace(\"RT : \", \"\")\n",
    "\n",
    "def remove_n(text):\n",
    "    \n",
    "    return text.replace(\"\\n\", \"\")\n",
    "\n",
    "def augment_text(text):\n",
    "    \n",
    "   return remove_n(remove_retweet(remove_username(remove_link(text))))"
   ]
  },
  {
   "cell_type": "code",
   "execution_count": 5,
   "metadata": {
    "pycharm": {
     "is_executing": true
    }
   },
   "outputs": [
    {
     "data": {
      "application/vnd.jupyter.widget-view+json": {
       "model_id": "f57a37559ecf4c2899954e9c52b37028",
       "version_major": 2,
       "version_minor": 0
      },
      "text/plain": [
       "  0%|          | 0/162805 [00:00<?, ?ex/s]"
      ]
     },
     "metadata": {},
     "output_type": "display_data"
    },
    {
     "data": {
      "application/vnd.jupyter.widget-view+json": {
       "model_id": "239b546dba694745ab96b6f007f3fd10",
       "version_major": 2,
       "version_minor": 0
      },
      "text/plain": [
       "  0%|          | 0/54268 [00:00<?, ?ex/s]"
      ]
     },
     "metadata": {},
     "output_type": "display_data"
    },
    {
     "data": {
      "application/vnd.jupyter.widget-view+json": {
       "model_id": "d71a6bbd689046dda1cb8194e7f83c31",
       "version_major": 2,
       "version_minor": 0
      },
      "text/plain": [
       "  0%|          | 0/54269 [00:00<?, ?ex/s]"
      ]
     },
     "metadata": {},
     "output_type": "display_data"
    }
   ],
   "source": [
    "train_data = train_data.map(lambda e: {'full_text':augment_text(e['full_text'])})\n",
    "test_data = test_data.map(lambda e: {'full_text': augment_text(e['full_text'])})\n",
    "validation_data = validation_data.map(lambda e: {'full_text': augment_text(e['full_text'])})"
   ]
  },
  {
   "cell_type": "code",
   "execution_count": 6,
   "metadata": {
    "pycharm": {
     "is_executing": true
    }
   },
   "outputs": [
    {
     "data": {
      "application/vnd.jupyter.widget-view+json": {
       "model_id": "c489595f2e9e43fcb165e1cc486d4cba",
       "version_major": 2,
       "version_minor": 0
      },
      "text/plain": [
       "  0%|          | 0/162805 [00:00<?, ?ex/s]"
      ]
     },
     "metadata": {},
     "output_type": "display_data"
    },
    {
     "data": {
      "text/plain": [
       "Dataset({\n",
       "    features: ['full_text', 'text_translation', 'screen_name', 'description', 'desc_translation', 'location', 'weekofyear', 'weekday', 'month', 'year', 'day', 'point_info', 'point', 'latitude', 'longitude', 'altitude', 'province', 'hisco_standard', 'hisco_code', 'industry', 'sentiment_pattern', 'subjective_pattern', 'label'],\n",
       "    num_rows: 162805\n",
       "})"
      ]
     },
     "execution_count": 6,
     "metadata": {},
     "output_type": "execute_result"
    }
   ],
   "source": [
    "train_data.map()"
   ]
  },
  {
   "cell_type": "code",
   "execution_count": 7,
   "metadata": {
    "pycharm": {
     "is_executing": true
    }
   },
   "outputs": [
    {
     "name": "stderr",
     "output_type": "stream",
     "text": [
      "Some weights of the model checkpoint at pdelobelle/robbert-v2-dutch-base were not used when initializing RobertaForSequenceClassification: ['lm_head.decoder.bias', 'lm_head.dense.weight', 'lm_head.layer_norm.bias', 'lm_head.bias', 'lm_head.dense.bias', 'lm_head.decoder.weight', 'lm_head.layer_norm.weight']\n",
      "- This IS expected if you are initializing RobertaForSequenceClassification from the checkpoint of a model trained on another task or with another architecture (e.g. initializing a BertForSequenceClassification model from a BertForPreTraining model).\n",
      "- This IS NOT expected if you are initializing RobertaForSequenceClassification from the checkpoint of a model that you expect to be exactly identical (initializing a BertForSequenceClassification model from a BertForSequenceClassification model).\n",
      "Some weights of RobertaForSequenceClassification were not initialized from the model checkpoint at pdelobelle/robbert-v2-dutch-base and are newly initialized: ['classifier.out_proj.bias', 'classifier.dense.bias', 'classifier.dense.weight', 'classifier.out_proj.weight']\n",
      "You should probably TRAIN this model on a down-stream task to be able to use it for predictions and inference.\n"
     ]
    }
   ],
   "source": [
    "tokenizer = RobertaTokenizerFast.from_pretrained(\"pdelobelle/robbert-v2-dutch-base\", model_max_length=512, return_tensors='pt', num_labels = 3)\n",
    "model = RobertaForSequenceClassification.from_pretrained(\"pdelobelle/robbert-v2-dutch-base\", num_labels = 3)"
   ]
  },
  {
   "cell_type": "code",
   "execution_count": 8,
   "metadata": {
    "pycharm": {
     "is_executing": true
    }
   },
   "outputs": [
    {
     "data": {
      "application/vnd.jupyter.widget-view+json": {
       "model_id": "3e5fab154284456785a28322f1654cbd",
       "version_major": 2,
       "version_minor": 0
      },
      "text/plain": [
       "  0%|          | 0/163 [00:00<?, ?ba/s]"
      ]
     },
     "metadata": {},
     "output_type": "display_data"
    },
    {
     "data": {
      "application/vnd.jupyter.widget-view+json": {
       "model_id": "50be4ebd8b2946739cc6d6301a9eb7ac",
       "version_major": 2,
       "version_minor": 0
      },
      "text/plain": [
       "  0%|          | 0/55 [00:00<?, ?ba/s]"
      ]
     },
     "metadata": {},
     "output_type": "display_data"
    },
    {
     "data": {
      "application/vnd.jupyter.widget-view+json": {
       "model_id": "e051a1a47d02494c92d7e9c3d2065abf",
       "version_major": 2,
       "version_minor": 0
      },
      "text/plain": [
       "  0%|          | 0/55 [00:00<?, ?ba/s]"
      ]
     },
     "metadata": {},
     "output_type": "display_data"
    }
   ],
   "source": [
    "train_data = train_data.map(lambda e: tokenizer(e['full_text'], truncation=True, padding='max_length'), batched=True)\n",
    "test_data = test_data.map(lambda e: tokenizer(e['full_text'], truncation=True, padding='max_length'), batched=True)\n",
    "validation_data = validation_data.map(lambda e: tokenizer(e['full_text'], truncation=True, padding='max_length'), batched=True)"
   ]
  },
  {
   "cell_type": "code",
   "execution_count": 9,
   "metadata": {
    "pycharm": {
     "is_executing": true
    }
   },
   "outputs": [],
   "source": [
    "train_data.set_format('torch', columns=['input_ids', 'attention_mask', 'label'])\n",
    "test_data.set_format('torch', columns=['input_ids', 'attention_mask', 'label'])\n",
    "validation_data.set_format('torch', columns=['input_ids', 'attention_mask', 'label'])"
   ]
  },
  {
   "cell_type": "code",
   "execution_count": 10,
   "metadata": {
    "pycharm": {
     "is_executing": true
    }
   },
   "outputs": [],
   "source": [
    "def compute_metrics(pred):\n",
    "    labels = pred.label_ids\n",
    "    preds = pred.predictions.argmax(-1)\n",
    "    precision, recall, f1, _ = precision_recall_fscore_support(labels, preds, average='weighted')\n",
    "    acc = accuracy_score(labels, preds)\n",
    "    return {\n",
    "        'accuracy': acc,\n",
    "        'f1': f1,\n",
    "        'precision': precision,\n",
    "        'recall': recall\n",
    "    }"
   ]
  },
  {
   "cell_type": "code",
   "execution_count": 11,
   "metadata": {
    "pycharm": {
     "is_executing": true
    }
   },
   "outputs": [],
   "source": [
    "training_args = TrainingArguments(\n",
    "    output_dir = 'test',\n",
    "    num_train_epochs=3,\n",
    "    per_device_train_batch_size = 4,\n",
    "    gradient_accumulation_steps = 16,    \n",
    "    per_device_eval_batch_size= 8,\n",
    "    evaluation_strategy = \"steps\",\n",
    "    disable_tqdm = False, \n",
    "    load_best_model_at_end=True,\n",
    "    warmup_steps=500,\n",
    "    weight_decay=0.01,\n",
    "    logging_steps = 8,\n",
    "    fp16 = True,\n",
    "    logging_dir='/media/jlealtru/data_files/github/website_tutorials/logs',\n",
    "    dataloader_num_workers = 8,\n",
    "    run_name = 'roberta-classification',\n",
    "    save_steps = 1000,\n",
    "    eval_steps = 500)"
   ]
  },
  {
   "cell_type": "code",
   "execution_count": 12,
   "metadata": {
    "pycharm": {
     "is_executing": true
    }
   },
   "outputs": [
    {
     "name": "stderr",
     "output_type": "stream",
     "text": [
      "Using amp half precision backend\n"
     ]
    },
    {
     "data": {
      "text/plain": [
       "'cuda'"
      ]
     },
     "execution_count": 12,
     "metadata": {},
     "output_type": "execute_result"
    }
   ],
   "source": [
    "trainer = Trainer(\n",
    "    model=model,\n",
    "    args=training_args,\n",
    "    compute_metrics=compute_metrics,\n",
    "    train_dataset=train_data,\n",
    "    eval_dataset=validation_data\n",
    ")\n",
    "device = 'cuda' if torch.cuda.is_available() else 'cpu'\n",
    "device"
   ]
  },
  {
   "cell_type": "code",
   "execution_count": 13,
   "metadata": {
    "pycharm": {
     "is_executing": true
    }
   },
   "outputs": [
    {
     "name": "stderr",
     "output_type": "stream",
     "text": [
      "The following columns in the training set  don't have a corresponding argument in `RobertaForSequenceClassification.forward` and have been ignored: hisco_code, province, point, screen_name, full_text, text_translation, industry, description, altitude, weekofyear, latitude, location, hisco_standard, day, point_info, month, year, longitude, sentiment_pattern, subjective_pattern, desc_translation, weekday. If hisco_code, province, point, screen_name, full_text, text_translation, industry, description, altitude, weekofyear, latitude, location, hisco_standard, day, point_info, month, year, longitude, sentiment_pattern, subjective_pattern, desc_translation, weekday are not expected by `RobertaForSequenceClassification.forward`,  you can safely ignore this message.\n",
      "C:\\Users\\Emiel\\AppData\\Roaming\\Python\\Python39\\site-packages\\transformers\\optimization.py:306: FutureWarning: This implementation of AdamW is deprecated and will be removed in a future version. Use the PyTorch implementation torch.optim.AdamW instead, or set `no_deprecation_warning=True` to disable this warning\n",
      "  warnings.warn(\n",
      "***** Running training *****\n",
      "  Num examples = 162805\n",
      "  Num Epochs = 3\n",
      "  Instantaneous batch size per device = 4\n",
      "  Total train batch size (w. parallel, distributed & accumulation) = 64\n",
      "  Gradient Accumulation steps = 16\n",
      "  Total optimization steps = 7629\n",
      "Automatic Weights & Biases logging enabled, to disable set os.environ[\"WANDB_DISABLED\"] = \"true\"\n",
      "\u001B[34m\u001B[1mwandb\u001B[0m: Currently logged in as: \u001B[33mverrem\u001B[0m (use `wandb login --relogin` to force relogin)\n"
     ]
    },
    {
     "data": {
      "text/html": [
       "Tracking run with wandb version 0.12.14"
      ],
      "text/plain": [
       "<IPython.core.display.HTML object>"
      ]
     },
     "metadata": {},
     "output_type": "display_data"
    },
    {
     "data": {
      "text/html": [
       "Run data is saved locally in <code>D:\\PycharmProjects\\testing_nlp_models\\wandb\\run-20220414_155633-233b5e7e</code>"
      ],
      "text/plain": [
       "<IPython.core.display.HTML object>"
      ]
     },
     "metadata": {},
     "output_type": "display_data"
    },
    {
     "data": {
      "text/html": [
       "Syncing run <strong><a href=\"https://wandb.ai/verrem/huggingface/runs/233b5e7e\" target=\"_blank\">roberta-classification</a></strong> to <a href=\"https://wandb.ai/verrem/huggingface\" target=\"_blank\">Weights & Biases</a> (<a href=\"https://wandb.me/run\" target=\"_blank\">docs</a>)<br/>"
      ],
      "text/plain": [
       "<IPython.core.display.HTML object>"
      ]
     },
     "metadata": {},
     "output_type": "display_data"
    },
    {
     "data": {
      "text/html": [
       "\n",
       "    <div>\n",
       "      \n",
       "      <progress value='7629' max='7629' style='width:300px; height:20px; vertical-align: middle;'></progress>\n",
       "      [7629/7629 4:05:53, Epoch 2/3]\n",
       "    </div>\n",
       "    <table border=\"1\" class=\"dataframe\">\n",
       "  <thead>\n",
       " <tr style=\"text-align: left;\">\n",
       "      <th>Step</th>\n",
       "      <th>Training Loss</th>\n",
       "      <th>Validation Loss</th>\n",
       "      <th>Accuracy</th>\n",
       "      <th>F1</th>\n",
       "      <th>Precision</th>\n",
       "      <th>Recall</th>\n",
       "    </tr>\n",
       "  </thead>\n",
       "  <tbody>\n",
       "    <tr>\n",
       "      <td>500</td>\n",
       "      <td>0.471000</td>\n",
       "      <td>0.470614</td>\n",
       "      <td>0.822993</td>\n",
       "      <td>0.820890</td>\n",
       "      <td>0.826555</td>\n",
       "      <td>0.822993</td>\n",
       "    </tr>\n",
       "    <tr>\n",
       "      <td>1000</td>\n",
       "      <td>0.348400</td>\n",
       "      <td>0.302127</td>\n",
       "      <td>0.887063</td>\n",
       "      <td>0.886604</td>\n",
       "      <td>0.886512</td>\n",
       "      <td>0.887063</td>\n",
       "    </tr>\n",
       "    <tr>\n",
       "      <td>1500</td>\n",
       "      <td>0.265400</td>\n",
       "      <td>0.230477</td>\n",
       "      <td>0.919199</td>\n",
       "      <td>0.919584</td>\n",
       "      <td>0.920452</td>\n",
       "      <td>0.919199</td>\n",
       "    </tr>\n",
       "    <tr>\n",
       "      <td>2000</td>\n",
       "      <td>0.226600</td>\n",
       "      <td>0.201080</td>\n",
       "      <td>0.929665</td>\n",
       "      <td>0.929493</td>\n",
       "      <td>0.929544</td>\n",
       "      <td>0.929665</td>\n",
       "    </tr>\n",
       "    <tr>\n",
       "      <td>2500</td>\n",
       "      <td>0.239200</td>\n",
       "      <td>0.188008</td>\n",
       "      <td>0.932761</td>\n",
       "      <td>0.932961</td>\n",
       "      <td>0.933439</td>\n",
       "      <td>0.932761</td>\n",
       "    </tr>\n",
       "    <tr>\n",
       "      <td>3000</td>\n",
       "      <td>0.160200</td>\n",
       "      <td>0.179942</td>\n",
       "      <td>0.943393</td>\n",
       "      <td>0.943353</td>\n",
       "      <td>0.943328</td>\n",
       "      <td>0.943393</td>\n",
       "    </tr>\n",
       "    <tr>\n",
       "      <td>3500</td>\n",
       "      <td>0.142500</td>\n",
       "      <td>0.160492</td>\n",
       "      <td>0.947171</td>\n",
       "      <td>0.947197</td>\n",
       "      <td>0.947272</td>\n",
       "      <td>0.947171</td>\n",
       "    </tr>\n",
       "    <tr>\n",
       "      <td>4000</td>\n",
       "      <td>0.154800</td>\n",
       "      <td>0.162574</td>\n",
       "      <td>0.948884</td>\n",
       "      <td>0.948977</td>\n",
       "      <td>0.949261</td>\n",
       "      <td>0.948884</td>\n",
       "    </tr>\n",
       "    <tr>\n",
       "      <td>4500</td>\n",
       "      <td>0.188400</td>\n",
       "      <td>0.145525</td>\n",
       "      <td>0.952496</td>\n",
       "      <td>0.952666</td>\n",
       "      <td>0.953127</td>\n",
       "      <td>0.952496</td>\n",
       "    </tr>\n",
       "    <tr>\n",
       "      <td>5000</td>\n",
       "      <td>0.148100</td>\n",
       "      <td>0.133670</td>\n",
       "      <td>0.958908</td>\n",
       "      <td>0.958863</td>\n",
       "      <td>0.958879</td>\n",
       "      <td>0.958908</td>\n",
       "    </tr>\n",
       "    <tr>\n",
       "      <td>5500</td>\n",
       "      <td>0.040400</td>\n",
       "      <td>0.145677</td>\n",
       "      <td>0.960770</td>\n",
       "      <td>0.960781</td>\n",
       "      <td>0.960857</td>\n",
       "      <td>0.960770</td>\n",
       "    </tr>\n",
       "    <tr>\n",
       "      <td>6000</td>\n",
       "      <td>0.055800</td>\n",
       "      <td>0.148287</td>\n",
       "      <td>0.962096</td>\n",
       "      <td>0.962108</td>\n",
       "      <td>0.962158</td>\n",
       "      <td>0.962096</td>\n",
       "    </tr>\n",
       "    <tr>\n",
       "      <td>6500</td>\n",
       "      <td>0.064300</td>\n",
       "      <td>0.140865</td>\n",
       "      <td>0.963607</td>\n",
       "      <td>0.963629</td>\n",
       "      <td>0.963665</td>\n",
       "      <td>0.963607</td>\n",
       "    </tr>\n",
       "    <tr>\n",
       "      <td>7000</td>\n",
       "      <td>0.088100</td>\n",
       "      <td>0.132983</td>\n",
       "      <td>0.964731</td>\n",
       "      <td>0.964766</td>\n",
       "      <td>0.964832</td>\n",
       "      <td>0.964731</td>\n",
       "    </tr>\n",
       "    <tr>\n",
       "      <td>7500</td>\n",
       "      <td>0.084200</td>\n",
       "      <td>0.132695</td>\n",
       "      <td>0.966390</td>\n",
       "      <td>0.966373</td>\n",
       "      <td>0.966366</td>\n",
       "      <td>0.966390</td>\n",
       "    </tr>\n",
       "  </tbody>\n",
       "</table><p>"
      ],
      "text/plain": [
       "<IPython.core.display.HTML object>"
      ]
     },
     "metadata": {},
     "output_type": "display_data"
    },
    {
     "name": "stderr",
     "output_type": "stream",
     "text": [
      "The following columns in the evaluation set  don't have a corresponding argument in `RobertaForSequenceClassification.forward` and have been ignored: hisco_code, province, point, screen_name, full_text, text_translation, industry, description, altitude, weekofyear, latitude, location, hisco_standard, day, point_info, month, year, longitude, sentiment_pattern, subjective_pattern, desc_translation, weekday. If hisco_code, province, point, screen_name, full_text, text_translation, industry, description, altitude, weekofyear, latitude, location, hisco_standard, day, point_info, month, year, longitude, sentiment_pattern, subjective_pattern, desc_translation, weekday are not expected by `RobertaForSequenceClassification.forward`,  you can safely ignore this message.\n",
      "***** Running Evaluation *****\n",
      "  Num examples = 54269\n",
      "  Batch size = 8\n",
      "The following columns in the evaluation set  don't have a corresponding argument in `RobertaForSequenceClassification.forward` and have been ignored: hisco_code, province, point, screen_name, full_text, text_translation, industry, description, altitude, weekofyear, latitude, location, hisco_standard, day, point_info, month, year, longitude, sentiment_pattern, subjective_pattern, desc_translation, weekday. If hisco_code, province, point, screen_name, full_text, text_translation, industry, description, altitude, weekofyear, latitude, location, hisco_standard, day, point_info, month, year, longitude, sentiment_pattern, subjective_pattern, desc_translation, weekday are not expected by `RobertaForSequenceClassification.forward`,  you can safely ignore this message.\n",
      "***** Running Evaluation *****\n",
      "  Num examples = 54269\n",
      "  Batch size = 8\n",
      "Saving model checkpoint to test\\checkpoint-1000\n",
      "Configuration saved in test\\checkpoint-1000\\config.json\n",
      "Model weights saved in test\\checkpoint-1000\\pytorch_model.bin\n",
      "The following columns in the evaluation set  don't have a corresponding argument in `RobertaForSequenceClassification.forward` and have been ignored: hisco_code, province, point, screen_name, full_text, text_translation, industry, description, altitude, weekofyear, latitude, location, hisco_standard, day, point_info, month, year, longitude, sentiment_pattern, subjective_pattern, desc_translation, weekday. If hisco_code, province, point, screen_name, full_text, text_translation, industry, description, altitude, weekofyear, latitude, location, hisco_standard, day, point_info, month, year, longitude, sentiment_pattern, subjective_pattern, desc_translation, weekday are not expected by `RobertaForSequenceClassification.forward`,  you can safely ignore this message.\n",
      "***** Running Evaluation *****\n",
      "  Num examples = 54269\n",
      "  Batch size = 8\n",
      "The following columns in the evaluation set  don't have a corresponding argument in `RobertaForSequenceClassification.forward` and have been ignored: hisco_code, province, point, screen_name, full_text, text_translation, industry, description, altitude, weekofyear, latitude, location, hisco_standard, day, point_info, month, year, longitude, sentiment_pattern, subjective_pattern, desc_translation, weekday. If hisco_code, province, point, screen_name, full_text, text_translation, industry, description, altitude, weekofyear, latitude, location, hisco_standard, day, point_info, month, year, longitude, sentiment_pattern, subjective_pattern, desc_translation, weekday are not expected by `RobertaForSequenceClassification.forward`,  you can safely ignore this message.\n",
      "***** Running Evaluation *****\n",
      "  Num examples = 54269\n",
      "  Batch size = 8\n",
      "Saving model checkpoint to test\\checkpoint-2000\n",
      "Configuration saved in test\\checkpoint-2000\\config.json\n",
      "Model weights saved in test\\checkpoint-2000\\pytorch_model.bin\n",
      "The following columns in the evaluation set  don't have a corresponding argument in `RobertaForSequenceClassification.forward` and have been ignored: hisco_code, province, point, screen_name, full_text, text_translation, industry, description, altitude, weekofyear, latitude, location, hisco_standard, day, point_info, month, year, longitude, sentiment_pattern, subjective_pattern, desc_translation, weekday. If hisco_code, province, point, screen_name, full_text, text_translation, industry, description, altitude, weekofyear, latitude, location, hisco_standard, day, point_info, month, year, longitude, sentiment_pattern, subjective_pattern, desc_translation, weekday are not expected by `RobertaForSequenceClassification.forward`,  you can safely ignore this message.\n",
      "***** Running Evaluation *****\n",
      "  Num examples = 54269\n",
      "  Batch size = 8\n",
      "The following columns in the evaluation set  don't have a corresponding argument in `RobertaForSequenceClassification.forward` and have been ignored: hisco_code, province, point, screen_name, full_text, text_translation, industry, description, altitude, weekofyear, latitude, location, hisco_standard, day, point_info, month, year, longitude, sentiment_pattern, subjective_pattern, desc_translation, weekday. If hisco_code, province, point, screen_name, full_text, text_translation, industry, description, altitude, weekofyear, latitude, location, hisco_standard, day, point_info, month, year, longitude, sentiment_pattern, subjective_pattern, desc_translation, weekday are not expected by `RobertaForSequenceClassification.forward`,  you can safely ignore this message.\n",
      "***** Running Evaluation *****\n",
      "  Num examples = 54269\n",
      "  Batch size = 8\n",
      "Saving model checkpoint to test\\checkpoint-3000\n",
      "Configuration saved in test\\checkpoint-3000\\config.json\n",
      "Model weights saved in test\\checkpoint-3000\\pytorch_model.bin\n",
      "The following columns in the evaluation set  don't have a corresponding argument in `RobertaForSequenceClassification.forward` and have been ignored: hisco_code, province, point, screen_name, full_text, text_translation, industry, description, altitude, weekofyear, latitude, location, hisco_standard, day, point_info, month, year, longitude, sentiment_pattern, subjective_pattern, desc_translation, weekday. If hisco_code, province, point, screen_name, full_text, text_translation, industry, description, altitude, weekofyear, latitude, location, hisco_standard, day, point_info, month, year, longitude, sentiment_pattern, subjective_pattern, desc_translation, weekday are not expected by `RobertaForSequenceClassification.forward`,  you can safely ignore this message.\n",
      "***** Running Evaluation *****\n",
      "  Num examples = 54269\n",
      "  Batch size = 8\n",
      "The following columns in the evaluation set  don't have a corresponding argument in `RobertaForSequenceClassification.forward` and have been ignored: hisco_code, province, point, screen_name, full_text, text_translation, industry, description, altitude, weekofyear, latitude, location, hisco_standard, day, point_info, month, year, longitude, sentiment_pattern, subjective_pattern, desc_translation, weekday. If hisco_code, province, point, screen_name, full_text, text_translation, industry, description, altitude, weekofyear, latitude, location, hisco_standard, day, point_info, month, year, longitude, sentiment_pattern, subjective_pattern, desc_translation, weekday are not expected by `RobertaForSequenceClassification.forward`,  you can safely ignore this message.\n",
      "***** Running Evaluation *****\n",
      "  Num examples = 54269\n",
      "  Batch size = 8\n",
      "Saving model checkpoint to test\\checkpoint-4000\n",
      "Configuration saved in test\\checkpoint-4000\\config.json\n",
      "Model weights saved in test\\checkpoint-4000\\pytorch_model.bin\n",
      "The following columns in the evaluation set  don't have a corresponding argument in `RobertaForSequenceClassification.forward` and have been ignored: hisco_code, province, point, screen_name, full_text, text_translation, industry, description, altitude, weekofyear, latitude, location, hisco_standard, day, point_info, month, year, longitude, sentiment_pattern, subjective_pattern, desc_translation, weekday. If hisco_code, province, point, screen_name, full_text, text_translation, industry, description, altitude, weekofyear, latitude, location, hisco_standard, day, point_info, month, year, longitude, sentiment_pattern, subjective_pattern, desc_translation, weekday are not expected by `RobertaForSequenceClassification.forward`,  you can safely ignore this message.\n",
      "***** Running Evaluation *****\n"
     ]
    },
    {
     "name": "stderr",
     "output_type": "stream",
     "text": [
      "  Num examples = 54269\n",
      "  Batch size = 8\n",
      "The following columns in the evaluation set  don't have a corresponding argument in `RobertaForSequenceClassification.forward` and have been ignored: hisco_code, province, point, screen_name, full_text, text_translation, industry, description, altitude, weekofyear, latitude, location, hisco_standard, day, point_info, month, year, longitude, sentiment_pattern, subjective_pattern, desc_translation, weekday. If hisco_code, province, point, screen_name, full_text, text_translation, industry, description, altitude, weekofyear, latitude, location, hisco_standard, day, point_info, month, year, longitude, sentiment_pattern, subjective_pattern, desc_translation, weekday are not expected by `RobertaForSequenceClassification.forward`,  you can safely ignore this message.\n",
      "***** Running Evaluation *****\n",
      "  Num examples = 54269\n",
      "  Batch size = 8\n",
      "Saving model checkpoint to test\\checkpoint-5000\n",
      "Configuration saved in test\\checkpoint-5000\\config.json\n",
      "Model weights saved in test\\checkpoint-5000\\pytorch_model.bin\n",
      "The following columns in the evaluation set  don't have a corresponding argument in `RobertaForSequenceClassification.forward` and have been ignored: hisco_code, province, point, screen_name, full_text, text_translation, industry, description, altitude, weekofyear, latitude, location, hisco_standard, day, point_info, month, year, longitude, sentiment_pattern, subjective_pattern, desc_translation, weekday. If hisco_code, province, point, screen_name, full_text, text_translation, industry, description, altitude, weekofyear, latitude, location, hisco_standard, day, point_info, month, year, longitude, sentiment_pattern, subjective_pattern, desc_translation, weekday are not expected by `RobertaForSequenceClassification.forward`,  you can safely ignore this message.\n",
      "***** Running Evaluation *****\n",
      "  Num examples = 54269\n",
      "  Batch size = 8\n",
      "The following columns in the evaluation set  don't have a corresponding argument in `RobertaForSequenceClassification.forward` and have been ignored: hisco_code, province, point, screen_name, full_text, text_translation, industry, description, altitude, weekofyear, latitude, location, hisco_standard, day, point_info, month, year, longitude, sentiment_pattern, subjective_pattern, desc_translation, weekday. If hisco_code, province, point, screen_name, full_text, text_translation, industry, description, altitude, weekofyear, latitude, location, hisco_standard, day, point_info, month, year, longitude, sentiment_pattern, subjective_pattern, desc_translation, weekday are not expected by `RobertaForSequenceClassification.forward`,  you can safely ignore this message.\n",
      "***** Running Evaluation *****\n",
      "  Num examples = 54269\n",
      "  Batch size = 8\n",
      "Saving model checkpoint to test\\checkpoint-6000\n",
      "Configuration saved in test\\checkpoint-6000\\config.json\n",
      "Model weights saved in test\\checkpoint-6000\\pytorch_model.bin\n",
      "The following columns in the evaluation set  don't have a corresponding argument in `RobertaForSequenceClassification.forward` and have been ignored: hisco_code, province, point, screen_name, full_text, text_translation, industry, description, altitude, weekofyear, latitude, location, hisco_standard, day, point_info, month, year, longitude, sentiment_pattern, subjective_pattern, desc_translation, weekday. If hisco_code, province, point, screen_name, full_text, text_translation, industry, description, altitude, weekofyear, latitude, location, hisco_standard, day, point_info, month, year, longitude, sentiment_pattern, subjective_pattern, desc_translation, weekday are not expected by `RobertaForSequenceClassification.forward`,  you can safely ignore this message.\n",
      "***** Running Evaluation *****\n",
      "  Num examples = 54269\n",
      "  Batch size = 8\n",
      "The following columns in the evaluation set  don't have a corresponding argument in `RobertaForSequenceClassification.forward` and have been ignored: hisco_code, province, point, screen_name, full_text, text_translation, industry, description, altitude, weekofyear, latitude, location, hisco_standard, day, point_info, month, year, longitude, sentiment_pattern, subjective_pattern, desc_translation, weekday. If hisco_code, province, point, screen_name, full_text, text_translation, industry, description, altitude, weekofyear, latitude, location, hisco_standard, day, point_info, month, year, longitude, sentiment_pattern, subjective_pattern, desc_translation, weekday are not expected by `RobertaForSequenceClassification.forward`,  you can safely ignore this message.\n",
      "***** Running Evaluation *****\n",
      "  Num examples = 54269\n",
      "  Batch size = 8\n",
      "Saving model checkpoint to test\\checkpoint-7000\n",
      "Configuration saved in test\\checkpoint-7000\\config.json\n",
      "Model weights saved in test\\checkpoint-7000\\pytorch_model.bin\n",
      "The following columns in the evaluation set  don't have a corresponding argument in `RobertaForSequenceClassification.forward` and have been ignored: hisco_code, province, point, screen_name, full_text, text_translation, industry, description, altitude, weekofyear, latitude, location, hisco_standard, day, point_info, month, year, longitude, sentiment_pattern, subjective_pattern, desc_translation, weekday. If hisco_code, province, point, screen_name, full_text, text_translation, industry, description, altitude, weekofyear, latitude, location, hisco_standard, day, point_info, month, year, longitude, sentiment_pattern, subjective_pattern, desc_translation, weekday are not expected by `RobertaForSequenceClassification.forward`,  you can safely ignore this message.\n",
      "***** Running Evaluation *****\n",
      "  Num examples = 54269\n",
      "  Batch size = 8\n",
      "\n",
      "\n",
      "Training completed. Do not forget to share your model on huggingface.co/models =)\n",
      "\n",
      "\n",
      "Loading best model from test\\checkpoint-7000 (score: 0.13298313319683075).\n"
     ]
    },
    {
     "data": {
      "text/plain": [
       "TrainOutput(global_step=7629, training_loss=0.18753097065233562, metrics={'train_runtime': 14765.0363, 'train_samples_per_second': 33.079, 'train_steps_per_second': 0.517, 'total_flos': 1.2849459490848154e+17, 'train_loss': 0.18753097065233562, 'epoch': 3.0})"
      ]
     },
     "execution_count": 13,
     "metadata": {},
     "output_type": "execute_result"
    }
   ],
   "source": [
    "trainer.train()\n"
   ]
  },
  {
   "cell_type": "code",
   "execution_count": 14,
   "metadata": {
    "pycharm": {
     "is_executing": true
    }
   },
   "outputs": [
    {
     "name": "stderr",
     "output_type": "stream",
     "text": [
      "The following columns in the evaluation set  don't have a corresponding argument in `RobertaForSequenceClassification.forward` and have been ignored: hisco_code, province, point, screen_name, full_text, text_translation, industry, description, altitude, weekofyear, latitude, location, hisco_standard, day, point_info, month, year, longitude, sentiment_pattern, subjective_pattern, desc_translation, weekday. If hisco_code, province, point, screen_name, full_text, text_translation, industry, description, altitude, weekofyear, latitude, location, hisco_standard, day, point_info, month, year, longitude, sentiment_pattern, subjective_pattern, desc_translation, weekday are not expected by `RobertaForSequenceClassification.forward`,  you can safely ignore this message.\n",
      "***** Running Evaluation *****\n",
      "  Num examples = 54268\n",
      "  Batch size = 8\n"
     ]
    },
    {
     "data": {
      "text/html": [
       "\n",
       "    <div>\n",
       "      \n",
       "      <progress value='7401' max='6784' style='width:300px; height:20px; vertical-align: middle;'></progress>\n",
       "      [6784/6784 22:33]\n",
       "    </div>\n",
       "    "
      ],
      "text/plain": [
       "<IPython.core.display.HTML object>"
      ]
     },
     "metadata": {},
     "output_type": "display_data"
    },
    {
     "data": {
      "text/plain": [
       "{'eval_loss': 0.13535988330841064,\n",
       " 'eval_accuracy': 0.9641962113952974,\n",
       " 'eval_f1': 0.9642435629081351,\n",
       " 'eval_precision': 0.9643355571669858,\n",
       " 'eval_recall': 0.9641962113952974,\n",
       " 'eval_runtime': 327.1339,\n",
       " 'eval_samples_per_second': 165.889,\n",
       " 'eval_steps_per_second': 20.738,\n",
       " 'epoch': 3.0}"
      ]
     },
     "execution_count": 14,
     "metadata": {},
     "output_type": "execute_result"
    }
   ],
   "source": [
    "trainer.evaluate(test_data)\n"
   ]
  },
  {
   "cell_type": "code",
   "execution_count": 16,
   "metadata": {
    "pycharm": {
     "is_executing": true
    }
   },
   "outputs": [],
   "source": [
    "class SimpleDataset:\n",
    "    def __init__(self, tokenized_texts):\n",
    "        self.tokenized_texts = tokenized_texts\n",
    "    \n",
    "    def __len__(self):\n",
    "        return len(self.tokenized_texts[\"input_ids\"])\n",
    "    \n",
    "    def __getitem__(self, idx):\n",
    "        return {k: v[idx] for k, v in self.tokenized_texts.items()}"
   ]
  },
  {
   "cell_type": "code",
   "execution_count": 114,
   "metadata": {
    "pycharm": {
     "is_executing": true
    }
   },
   "outputs": [],
   "source": [
    "texts = ['Mag ik nog even hatelijk lachen om het OMT als  \"een onafhankelijke groep experts\"?! Het discussieclubje van het RIVM (beide voorgezeten door JvD) dat onder de vleugels van VWS hangt. Ik zei het al eerder: één grote poppenkast. Een dodelijke!!',\n",
    "         'In het doorspitten van alle #WOB docs, is bij mij steeds meer het beeld ontstaan dat @rivm een wetenschappelijk correcte insteek had, maar voortdurend werd overruled door de politiek.'\n",
    "        ]\n",
    "tokenized_texts = tokenizer(texts,truncation=True,padding=True)\n",
    "pred_dataset = SimpleDataset(tokenized_texts)"
   ]
  },
  {
   "cell_type": "code",
   "execution_count": 115,
   "metadata": {
    "pycharm": {
     "is_executing": true
    }
   },
   "outputs": [
    {
     "name": "stderr",
     "output_type": "stream",
     "text": [
      "***** Running Prediction *****\n",
      "  Num examples = 2\n",
      "  Batch size = 8\n"
     ]
    }
   ],
   "source": [
    "predictions = trainer.predict(pred_dataset)"
   ]
  },
  {
   "cell_type": "code",
   "execution_count": 116,
   "metadata": {
    "pycharm": {
     "is_executing": true
    }
   },
   "outputs": [],
   "source": [
    "label_dict = {0:'negatief', 1:'neutraal', 2:'positief'}"
   ]
  },
  {
   "cell_type": "code",
   "execution_count": 117,
   "metadata": {
    "pycharm": {
     "is_executing": true
    }
   },
   "outputs": [],
   "source": [
    "def print_predictions(predictions, texts, label_dict):\n",
    "    for p,t in list(zip(predictions.predictions, texts)):\n",
    "        print(f\"input text: {t}\\nprediction: {label_dict[p.argmax()]}\\n\")"
   ]
  },
  {
   "cell_type": "code",
   "execution_count": 118,
   "metadata": {
    "pycharm": {
     "is_executing": true
    }
   },
   "outputs": [
    {
     "name": "stdout",
     "output_type": "stream",
     "text": [
      "input text: Mag ik nog even hatelijk lachen om het OMT als  \"een onafhankelijke groep experts\"?! Het discussieclubje van het RIVM (beide voorgezeten door JvD) dat onder de vleugels van VWS hangt. Ik zei het al eerder: één grote poppenkast. Een dodelijke!!\n",
      "prediction: negatief\n",
      "\n",
      "input text: In het doorspitten van alle #WOB docs, is bij mij steeds meer het beeld ontstaan dat @rivm een wetenschappelijk correcte insteek had, maar voortdurend werd overruled door de politiek.\n",
      "prediction: positief\n",
      "\n"
     ]
    }
   ],
   "source": [
    "print_predictions(predictions,texts, label_dict)"
   ]
  },
  {
   "cell_type": "code",
   "execution_count": null,
   "metadata": {
    "pycharm": {
     "is_executing": true
    }
   },
   "outputs": [],
   "source": []
  },
  {
   "cell_type": "code",
   "execution_count": null,
   "metadata": {},
   "outputs": [],
   "source": []
  }
 ],
 "metadata": {
  "kernelspec": {
   "display_name": "Python 3 (ipykernel)",
   "language": "python",
   "name": "python3"
  },
  "language_info": {
   "codemirror_mode": {
    "name": "ipython",
    "version": 3
   },
   "file_extension": ".py",
   "mimetype": "text/x-python",
   "name": "python",
   "nbconvert_exporter": "python",
   "pygments_lexer": "ipython3",
   "version": "3.9.0"
  }
 },
 "nbformat": 4,
 "nbformat_minor": 1
}